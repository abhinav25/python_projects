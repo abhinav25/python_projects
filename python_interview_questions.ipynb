{
 "cells": [
  {
   "cell_type": "markdown",
   "metadata": {},
   "source": [
    "## **Python Interview Questions & Answers**\n",
    "\n",
    "https://www.datacamp.com/blog/top-python-interview-questions-and-answers"
   ]
  },
  {
   "cell_type": "markdown",
   "metadata": {},
   "source": [
    "***Q. What is Python, and list some of its key features?***\n",
    "\n",
    "Python is a versatile, high-level programming language known for its easy-to-read syntax and broad applications. Here are some of Python’s key features:\n",
    "\n",
    "1. **Simple and Readable Syntax**: Python’s syntax is clear and straightforward, making it accessible for beginners and efficient for experienced developers.\n",
    "\n",
    "2. **Interpreted Language**: Python executes code line by line, which helps in debugging and testing.\n",
    "\n",
    "3. **Dynamic Typing**: Python does not require explicit data type declarations, allowing more flexibility.\n",
    "\n",
    "4. **Extensive Libraries and Frameworks**: Libraries like NumPy, Pandas, and Django expand Python’s functionality for specialized tasks in data science, web development, and more.\n",
    "\n",
    "5. **Cross-Platform Compatibility**: Python can run on different operating systems, including Windows, macOS, and Linux.\n",
    "\n",
    "---"
   ]
  },
  {
   "cell_type": "markdown",
   "metadata": {},
   "source": [
    "***Q. What are Python lists and tuples?***\n",
    "\n",
    "Lists and tuples are fundamental Python data structures with distinct characteristics and use cases.\n",
    "\n",
    "List:\n",
    "\n",
    "1. Mutable: Elements can be changed after creation.\n",
    "2. Memory Usage: Consumes more memory.\n",
    "3. Performance: Slower iteration compared to tuples but better for insertion and deletion operations.\n",
    "4. Methods: Offers various built-in methods for manipulation.\n",
    "\n",
    "Example:"
   ]
  },
  {
   "cell_type": "code",
   "execution_count": 55,
   "metadata": {},
   "outputs": [
    {
     "name": "stdout",
     "output_type": "stream",
     "text": [
      "['Data', 'Camp', 'Tutorial', 'Session']\n"
     ]
    }
   ],
   "source": [
    "a_list = [\"Data\", \"Camp\", \"Tutorial\"]\n",
    "a_list.append(\"Session\")\n",
    "print(a_list)  # Output: ['Data', 'Camp', 'Tutorial', 'Session']"
   ]
  },
  {
   "cell_type": "markdown",
   "metadata": {},
   "source": [
    "Tuple:\n",
    "\n",
    "1. Immutable: Elements cannot be changed after creation.\n",
    "2. Memory Usage: Consumes less memory.\n",
    "3. Performance: Faster iteration compared to lists but lacks the flexibility of lists.\n",
    "4. Methods: Limited built-in methods.\n",
    "\n",
    "Example:"
   ]
  },
  {
   "cell_type": "code",
   "execution_count": 2,
   "metadata": {},
   "outputs": [
    {
     "name": "stdout",
     "output_type": "stream",
     "text": [
      "('Data', 'Camp', 'Tutorial')\n"
     ]
    }
   ],
   "source": [
    "a_tuple = (\"Data\", \"Camp\", \"Tutorial\")\n",
    "print(a_tuple)  # Output: ('Data', 'Camp', 'Tutorial')"
   ]
  },
  {
   "cell_type": "markdown",
   "metadata": {},
   "source": [
    "---\n",
    "***Q. What is __init__() in Python?***\n",
    "\n",
    "The __init__() method is known as a constructor in object-oriented programming (OOP) terminology. It is used to initialize an object's state when it is created. This method is automatically called when a new instance of a class is instantiated.\n",
    "\n",
    "Purpose:\n",
    "\n",
    "Assign values to object properties.\n",
    "Perform any initialization operations.\n",
    "\n",
    "Example: \n",
    "\n",
    "We have created a book_shop class and added the constructor and book() function. The constructor will store the book title name and the book() function will print the book name.\n",
    "\n",
    "To test our code we have initialized the b object with “Sandman” and executed the book() function. "
   ]
  },
  {
   "cell_type": "code",
   "execution_count": 3,
   "metadata": {},
   "outputs": [
    {
     "name": "stdout",
     "output_type": "stream",
     "text": [
      "The title of book is  Sandman\n"
     ]
    }
   ],
   "source": [
    "class book_shop:\n",
    "\n",
    "    # constructor\n",
    "    def __init__(self, title):\n",
    "        self.title = title\n",
    "\n",
    "    # Sample method\n",
    "    def book(self):\n",
    "        print('The title of book is ', self.title)\n",
    "\n",
    "b = book_shop('Sandman')\n",
    "b.book()\n",
    "# The tile of the book is Sandman       "
   ]
  },
  {
   "cell_type": "markdown",
   "metadata": {},
   "source": [
    "---\n",
    "***Q. What is the difference between a mutable data type and an immutable data type?***\n",
    "\n",
    "**Mutable data types:**\n",
    "\n",
    "1. Definition: Mutable data types are those that can be modified after their creation.\n",
    "2. Examples: List, Dictionary, Set.\n",
    "3. Characteristics: Elements can be added, removed, or changed.\n",
    "4. Use Case: Suitable for collections of items where frequent updates are needed.\n",
    "\n",
    "Example:"
   ]
  },
  {
   "cell_type": "code",
   "execution_count": 4,
   "metadata": {},
   "outputs": [
    {
     "name": "stdout",
     "output_type": "stream",
     "text": [
      "[1, 2, 3, 4]\n",
      "{'a': 1, 'b': 2, 'c': 3}\n"
     ]
    }
   ],
   "source": [
    "# List Example\n",
    "a_list = [1, 2, 3]\n",
    "a_list.append(4)\n",
    "print(a_list)  # Output: [1, 2, 3, 4]\n",
    "\n",
    "# Dictionary Example\n",
    "a_dict = {'a': 1, 'b': 2}\n",
    "a_dict['c'] = 3\n",
    "print(a_dict)  # Output: {'a': 1, 'b': 2, 'c': 3}"
   ]
  },
  {
   "cell_type": "markdown",
   "metadata": {},
   "source": [
    "**Immutable data types:**\n",
    "\n",
    "1. Definition: Immutable data types are those that cannot be modified after their creation.\n",
    "2. Examples: Numeric (int, float), String, Tuple.\n",
    "3. Characteristics: Elements cannot be changed once set; any operation that appears to modify an immutable object will create a new object.\n",
    "\n",
    "Example:"
   ]
  },
  {
   "cell_type": "code",
   "execution_count": null,
   "metadata": {},
   "outputs": [],
   "source": [
    "# Numeric Example\n",
    "a_num = 10\n",
    "a_num = 20  # Creates a new integer object\n",
    "print(a_num)  # Output: 20\n",
    "\n",
    "# String Example\n",
    "a_str = \"hello\"\n",
    "a_str = \"world\"  # Creates a new string object\n",
    "print(a_str)  # Output: world\n",
    "\n",
    "# Tuple Example\n",
    "a_tuple = (1, 2, 3)\n",
    "# a_tuple[0] = 4  # This will raise a TypeError\n",
    "print(a_tuple)  # Output: (1, 2, 3)"
   ]
  },
  {
   "cell_type": "markdown",
   "metadata": {},
   "source": [
    "---\n",
    "***Q. Explain list, dictionary, and tuple comprehension with an example.***\n",
    "\n",
    "**List**\n",
    "\n",
    "List comprehension offers one-liner syntax to create a new list based on the values of the existing list.\n",
    "You can use a for loop to replicate the same thing, but it will require you to write multiple lines, and sometimes it can get complex. \n",
    "\n",
    "List comprehension eases the creation of the list based on existing iterable."
   ]
  },
  {
   "cell_type": "code",
   "execution_count": null,
   "metadata": {},
   "outputs": [],
   "source": [
    "my_list = [i for i in range(1, 10)]\n",
    "my_list\n",
    "# [1, 2, 3, 4, 5, 6, 7, 8, 9]"
   ]
  },
  {
   "cell_type": "markdown",
   "metadata": {},
   "source": [
    "**Dictionary**\n",
    "\n",
    "Similar to a List comprehension, you can create a dictionary based on an existing table with a single line of code. You need to enclose the operation with curly brackets {}."
   ]
  },
  {
   "cell_type": "code",
   "execution_count": 5,
   "metadata": {},
   "outputs": [
    {
     "data": {
      "text/plain": [
       "{1: 1, 2: 4, 3: 9, 4: 16, 5: 25, 6: 36, 7: 49, 8: 64, 9: 81}"
      ]
     },
     "execution_count": 5,
     "metadata": {},
     "output_type": "execute_result"
    }
   ],
   "source": [
    "# Creating a dictionary using dictionary comprehension\n",
    "my_dict = {i: i**2 for i in range(1, 10)}\n",
    "\n",
    "# Output the dictionary\n",
    "my_dict\n",
    "\n",
    "# {1: 1, 2: 4, 3: 9, 4: 16, 5: 25, 6: 36, 7: 49, 8: 64, 9: 81}"
   ]
  },
  {
   "cell_type": "markdown",
   "metadata": {},
   "source": [
    "**Tuple**\n",
    "\n",
    "It is a bit different for Tuples. You can create Tuple comprehension using round brackets (), but it will return a generator object, not a tuple comprehension.\n",
    "\n",
    "You can run the loop to extract the elements or convert them to a list."
   ]
  },
  {
   "cell_type": "code",
   "execution_count": 8,
   "metadata": {},
   "outputs": [
    {
     "name": "stdout",
     "output_type": "stream",
     "text": [
      "<generator object <genexpr> at 0x00000243C17E8E80>\n"
     ]
    },
    {
     "data": {
      "text/plain": [
       "[1, 2, 3, 4, 5, 6, 7, 8, 9]"
      ]
     },
     "execution_count": 8,
     "metadata": {},
     "output_type": "execute_result"
    }
   ],
   "source": [
    "my_tuple = (i for i in range(1, 10))\n",
    "my_tuple\n",
    "# <generator object <genexpr> at 0x7fb91b151430>\n",
    "print(my_tuple)\n",
    "\n",
    "lst = list(my_tuple)\n",
    "lst"
   ]
  },
  {
   "cell_type": "markdown",
   "metadata": {},
   "source": [
    "---\n",
    "***Q. What is the Global Interpreter Lock (GIL) in Python, and why is it important?***\n",
    "\n",
    "The Global Interpreter Lock (GIL) is a mutex used in CPython (the standard Python interpreter) to prevent multiple native threads from executing Python bytecode simultaneously. It simplifies memory management but limits multi-threading performance for CPU-bound tasks. This makes threading in Python less effective for certain tasks, though it works well for I/O-bound operations."
   ]
  },
  {
   "cell_type": "markdown",
   "metadata": {},
   "source": [
    "---\n",
    "***Q. Can you explain common searching and graph traversal algorithms in Python?***\n",
    "\n",
    "Python has a number of different powerful algorithms for searching and graph traversal, and each one deals with different data structures and solves different problems.\n",
    "\n",
    "**Binary Search:** If you need to *quickly find an item in a sorted list*, binary search is your go-to. It works by repeatedly dividing the search range in half until the target is found.\n",
    "\n",
    "**AVL Tree:** An AVL tree keeps things balanced, which is a big advantage if you’re frequently inserting or deleting items in a tree. This self-balancing binary search tree structure keeps searches fast by making sure the tree never gets too skewed. \n",
    "\n",
    "**Breadth-First Search (BFS):** BFS is all about exploring a graph level by level. It’s especially useful if you’re trying to find the *shortest path in an unweighted graph* since it checks all possible moves from each node before going deeper. \n",
    "\n",
    "**Depth-First Search (DFS):** DFS takes a different approach by exploring as far as it can down each branch before backtracking. It’s great for tasks like maze-solving or tree traversal. \n",
    "\n",
    "**A Algorithm\\*:** The A* algorithm is a bit more advanced and combines the best of both BFS and DFS by using heuristics to find the shortest path efficiently. It’s commonly used in pathfinding for maps and games. \n",
    "\n",
    "---"
   ]
  },
  {
   "cell_type": "markdown",
   "metadata": {},
   "source": [
    "***Q. What is a KeyError in Python, and how can you handle it?***\n",
    "\n",
    "A KeyError in Python occurs when you try to access a key that doesn’t exist in a dictionary. This error is raised because Python expects every key you look up to be present in the dictionary, and when it isn’t, it throws a KeyError.\n",
    "\n",
    "For example, if you have a dictionary of student scores and try to access a student who isn’t in the dictionary, you’ll get a KeyError. To handle this error, you have a few options:\n",
    "\n",
    "1. **Use the .get() method**: This method returns None (or a specified default value) instead of throwing an error if the key isn’t found.\n",
    "\n",
    "2. **Use a try-except block**: Wrapping your code in try-except allows you to catch the KeyError and handle it gracefully.\n",
    "\n",
    "3. **Check for the key with in**: You can check if a key exists in the dictionary using if key in dictionary before trying to access it.\n",
    "\n",
    "---"
   ]
  },
  {
   "cell_type": "markdown",
   "metadata": {},
   "source": [
    "***Q. How does Python handle memory management, and what role does garbage collection play?***\n",
    "\n",
    "Python manages memory allocation and deallocation automatically using a private heap, where all objects and data structures are stored. The memory management process is handled by Python’s memory manager, which optimizes memory usage, and the garbage collector, which deals with unused or unreferenced objects to free up memory.\n",
    "\n",
    "Garbage collection in Python uses reference counting as well as a cyclic garbage collector to detect and collect unused data. When an object has no more references, it becomes eligible for garbage collection. The gc module in Python allows you to interact with the garbage collector directly, providing functions to enable or disable garbage collection, as well as to perform manual collection.\n",
    "\n",
    "---"
   ]
  },
  {
   "cell_type": "markdown",
   "metadata": {},
   "source": [
    "***Q. What is the difference between shallow copy and deep copy in Python, and when would you use each?***\n",
    "\n",
    "In Python, shallow and deep copies are used to duplicate objects, but they handle nested structures differently.\n",
    "\n",
    "**Shallow Copy**: A shallow copy creates a new object but inserts references to the objects found in the original. So, if the original object contains other mutable objects (like lists within lists), the shallow copy will reference the same inner objects. This can lead to unexpected changes if you modify one of those inner objects in either the original or copied structure. You can create a shallow copy using the copy() method or the copy module’s copy() function.\n",
    "\n",
    "**Deep Copy**: A deep copy creates a new object and recursively copies all objects found within the original. This means that even nested structures get duplicated, so changes in one copy don’t affect the other. To create a deep copy, you can use the copy module’s deepcopy() function.\n",
    "\n",
    "Example Usage: A shallow copy is suitable when the object contains only immutable items or when you want changes in nested structures to reflect in both copies. A deep copy is ideal when working with complex, nested objects where you want a completely independent duplicate. Read our Python Copy List: What You Should Know tutorial to learn more. This tutorial includes a whole section on the difference between shallow copy and deep copy.\n",
    "\n",
    "---"
   ]
  },
  {
   "cell_type": "markdown",
   "metadata": {},
   "source": [
    "***Q. How can you use Python’s collections module to simplify common tasks?***\n",
    "\n",
    "The collections module in Python provides specialized data structures like defaultdict, Counter, deque, and OrderedDict to simplify various tasks. For instance, Counter is ideal for counting elements in an iterable, while defaultdict can initialize dictionary values without explicit checks.\n",
    "\n",
    "Example:"
   ]
  },
  {
   "cell_type": "code",
   "execution_count": 9,
   "metadata": {},
   "outputs": [
    {
     "name": "stdout",
     "output_type": "stream",
     "text": [
      "Counter({'a': 3, 'b': 2, 'c': 1})\n"
     ]
    }
   ],
   "source": [
    "from collections import Counter\n",
    "\n",
    "data = ['a', 'b', 'c', 'a', 'b', 'a']\n",
    "count = Counter(data)\n",
    "print(count)  # Output: Counter({'a': 3, 'b': 2, 'c': 1})"
   ]
  },
  {
   "cell_type": "markdown",
   "metadata": {},
   "source": [
    "---\n",
    "***Q. What is monkey patching in Python?***\n",
    "\n",
    "Monkey patching in Python is a <u style=\"color:red;\"> dynamic technique </u>that can change the behavior of the code at run-time. In short, you can modify a class or module at run-time.\n",
    "\n",
    "Example:\n",
    "\n",
    "Let’s learn monkey patching with an example. \n",
    "\n",
    "We have created a class monkey with a patch() function. We have also created a monk_p function outside the class. \n",
    "\n",
    "We will now replace the patch with the monk_p function by assigning monkey.patch to monk_p.\n",
    "\n",
    "In the end, we will test the modification by creating the object using the monkey class and running the patch() function. \n",
    "\n",
    "Instead of displaying patch() is being called, it has displayed monk_p() is being called. "
   ]
  },
  {
   "cell_type": "code",
   "execution_count": 10,
   "metadata": {},
   "outputs": [
    {
     "name": "stdout",
     "output_type": "stream",
     "text": [
      "monk_p() is being called\n"
     ]
    }
   ],
   "source": [
    "class monkey:\n",
    "    def patch(self):\n",
    "          print (\"patch() is being called\")\n",
    "\n",
    "def monk_p(self):\n",
    "    print (\"monk_p() is being called\")\n",
    "\n",
    "# replacing address of \"patch\" with \"monk_p\"\n",
    "monkey.patch = monk_p\n",
    "\n",
    "obj = monkey()\n",
    "\n",
    "obj.patch()\n",
    "# monk_p() is being called"
   ]
  },
  {
   "cell_type": "markdown",
   "metadata": {},
   "source": [
    "---\n",
    "\n",
    "***Q. What is the Python “with” statement designed for?***\n",
    "\n",
    "The with statement is used for exception handling to make code cleaner and simpler. It is generally used for the management of common resources like creating, editing, and saving a file. \n",
    "\n",
    "Example:\n",
    "\n",
    "Instead of writing multiple lines of open, try, finally, and close, you can create and write a text file using the with statement. It is simple."
   ]
  },
  {
   "cell_type": "code",
   "execution_count": null,
   "metadata": {},
   "outputs": [],
   "source": [
    "# using with statement\n",
    "with open('myfile.txt', 'w') as file:\n",
    "    file.write('DataCamp Black Friday Sale!!!')"
   ]
  },
  {
   "cell_type": "markdown",
   "metadata": {},
   "source": [
    "---\n",
    "***Q. Why use else in try/except construct in Python?***\n",
    "\n",
    "try: and except: are commonly known for exceptional handling in Python, so where does else: come in handy? else: will be triggered when no exception is raised. \n",
    "\n",
    "Example:\n",
    "\n",
    "Let’s learn more about else: with a couple of examples.\n",
    "\n",
    "1. On the first try, we entered 2 as the numerator and d as the denominator. Which is incorrect, and except: was triggered with “Invalid input!”. \n",
    "\n",
    "2. On the second try, we entered 2 as the numerator and 1 as the denominator and got the result 2. No exception was raised, so it triggered the else: printing the message Division is successful. \n"
   ]
  },
  {
   "cell_type": "code",
   "execution_count": null,
   "metadata": {},
   "outputs": [],
   "source": [
    "try:\n",
    "    num1 = int(input('Enter Numerator: '))\n",
    "    num2 = int(input('Enter Denominator: '))\n",
    "    division = num1/num2\n",
    "    print(f'Result is: {division}')\n",
    "except:\n",
    "    print('Invalid input!')\n",
    "else:\n",
    "    print('Division is successful.')\n",
    "\n",
    "\n",
    "## Try 1 ##\n",
    "# Enter Numerator: 2\n",
    "# Enter Denominator: d\n",
    "# Invalid input!\n",
    "\n",
    "## Try 2 ##\n",
    "# Enter Numerator: 2\n",
    "# Enter Denominator: 1\n",
    "# Result is: 2.0\n",
    "# Division is successful."
   ]
  },
  {
   "cell_type": "markdown",
   "metadata": {},
   "source": [
    "---\n",
    "***Q. What are decorators in Python?***\n",
    "\n",
    "Decorators in Python are a design pattern that allows you to add new functionality to an existing object without modifying its structure. They are commonly used to extend the behavior of functions or methods.\n",
    "\n",
    "Example:"
   ]
  },
  {
   "cell_type": "code",
   "execution_count": 11,
   "metadata": {},
   "outputs": [
    {
     "name": "stdout",
     "output_type": "stream",
     "text": [
      "Something is happening before the function is called.\n",
      "Hello!\n",
      "Something is happening after the function is called.\n"
     ]
    }
   ],
   "source": [
    "def my_decorator(func):\n",
    "    def wrapper():\n",
    "        print(\"Something is happening before the function is called.\")\n",
    "        func()\n",
    "        print(\"Something is happening after the function is called.\")\n",
    "    return wrapper\n",
    "\n",
    "@my_decorator\n",
    "def say_hello():\n",
    "    print(\"Hello!\")\n",
    "\n",
    "say_hello()\n",
    "# Output:\n",
    "# Something is happening before the function is called.\n",
    "# Hello!\n",
    "# Something is happening after the function is called."
   ]
  },
  {
   "cell_type": "markdown",
   "metadata": {},
   "source": [
    "---\n",
    "***Q. What are context managers in Python, and how are they implemented?***\n",
    "\n",
    "Context managers in Python are used to manage resources, ensuring that they are properly acquired and released. The most common use of context managers is the with statement.\n",
    "\n",
    "Example: In this example, the FileManager class is a context manager that ensures the file is properly closed after it is used within the with statement."
   ]
  },
  {
   "cell_type": "code",
   "execution_count": null,
   "metadata": {},
   "outputs": [],
   "source": [
    "class FileManager:\n",
    "    def __init__(self, filename, mode):\n",
    "        self.filename = filename\n",
    "        self.mode = mode\n",
    "    \n",
    "    def __enter__(self):\n",
    "        self.file = open(self.filename, self.mode)\n",
    "        return self.file\n",
    "    \n",
    "    def __exit__(self, exc_type, exc_value, traceback):\n",
    "        self.file.close()\n",
    "\n",
    "with FileManager('test.txt', 'w') as f:\n",
    "    f.write('Hello, world!')"
   ]
  },
  {
   "cell_type": "markdown",
   "metadata": {},
   "source": [
    "---\n",
    "\n",
    "***Q. What are metaclasses in Python, and how do they differ from regular classes?***\n",
    "\n",
    "Metaclasses are classes of classes. They define how classes behave and are created. While regular classes create objects, metaclasses create classes. By using metaclasses, you can modify class definitions, enforce rules, or add functionality during class creation.\n",
    "\n",
    "Example:"
   ]
  },
  {
   "cell_type": "code",
   "execution_count": null,
   "metadata": {},
   "outputs": [],
   "source": [
    "class Meta(type):\n",
    "    def __new__(cls, name, bases, dct):\n",
    "        print(f\"Creating class {name}\")\n",
    "        return super().__new__(cls, name, bases, dct)\n",
    "\n",
    "class MyClass(metaclass=Meta):\n",
    "    pass\n",
    "# Output: Creating class MyClass"
   ]
  },
  {
   "cell_type": "markdown",
   "metadata": {},
   "source": [
    "---\n",
    "\n",
    "***Q. What are the advantages of NumPy over regular Python lists?***\n",
    "\n",
    "**Memory**\n",
    "\n",
    "Numpy arrays consume less memory. \n",
    "\n",
    "For example, if you create a list and a Numpy array of a thousand elements. The list will consume 48K bytes, and the Numpy array will consume 8k bytes of memory.  \n",
    "\n",
    "**Speed**\n",
    "\n",
    "Numpy arrays take less time to perform the operations on arrays than lists. \n",
    "\n",
    "For example, if we are multiplying two lists and two Numpy arrays of 1 million elements together. It took 0.15 seconds for the list and 0.0059 seconds for the array to operate. \n",
    "\n",
    "**Versatility**\n",
    "\n",
    "Numpy arrays are convenient to use as they offer simple array multiple, addition, and a lot more built-in functionality. Whereas Python lists are incapable of running basic operations.\n",
    "\n",
    "---"
   ]
  },
  {
   "cell_type": "markdown",
   "metadata": {},
   "source": [
    "***Q. What is the difference between merge, join, and concatenate?***\n",
    "\n",
    "**Merge**\n",
    "Merge two DataFrames named series objects using the unique column identifier. \n",
    "It requires two DataFrame, a common column in both DataFrame, and “how” you want to join them together. You can left, right, outer, inner, and cross join two data DataFrames. By default, it is an inner join.\n",
    "\n",
    "`pd.merge(df1, df2, how='outer', on='Id')`\n",
    "\n",
    "\n",
    "**Join**\n",
    "Join the DataFrames using the unique index. It requires an optional on argument that can be a column or multiple column names. By default, the join function performs a left join.\n",
    "\n",
    "`df1.join(df2)`\n",
    "\n",
    "**Concatenate**\n",
    "Concatenate joins two or multiple DataFrames along a particular axis (rows or columns). It doesn't require an on argument. \n",
    "\n",
    "`pd.concat(df1,df2)`\n",
    "\n",
    "\n",
    "**join():** combines two DataFrames by index.\n",
    "\n",
    "**merge():** combines two DataFrames by the column or columns you specify.\n",
    "\n",
    "**concat():** combines two or more DataFrames vertically or horizontally.\n",
    "\n",
    "---"
   ]
  },
  {
   "cell_type": "markdown",
   "metadata": {},
   "source": [
    "***Q. How do you identify and deal with missing values?***\n",
    "\n",
    "**Identifying missing values**\n",
    "\n",
    "We can identify missing values in the DataFrame by using the isnull() function and then applying sum(). Isnull() will return boolean values, and the sum will give you the number of missing values in each column. \n",
    "\n",
    "In the example, we have created a dictionary of lists and converted it into a pandas DataFrame. After that, we used isnull().sum() to get the number of missing values in each column.  "
   ]
  },
  {
   "cell_type": "code",
   "execution_count": 15,
   "metadata": {},
   "outputs": [
    {
     "data": {
      "text/plain": [
       "id       1\n",
       "Age      2\n",
       "Score    1\n",
       "dtype: int64"
      ]
     },
     "execution_count": 15,
     "metadata": {},
     "output_type": "execute_result"
    }
   ],
   "source": [
    "import pandas as pd\n",
    "import numpy as np\n",
    "\n",
    "# dictionary of lists\n",
    "dict = {'id':[1, 4, np.nan, 9],\n",
    "        'Age': [30, 45, np.nan, np.nan],\n",
    "        'Score':[np.nan, 140, 180, 198]}\n",
    "\n",
    "# creating a DataFrame\n",
    "df = pd.DataFrame(dict)\n",
    "\n",
    "df.isnull().sum()\n",
    "# id       1\n",
    "# Age      2\n",
    "# Score    1"
   ]
  },
  {
   "cell_type": "markdown",
   "metadata": {},
   "source": [
    "**Dealing with missing values**\n",
    "\n",
    "There are various ways of dealing with missing values. \n",
    "\n",
    "1. Drop the entire row or the columns if it consists of missing values using dropna(). This method is not recommended, as you will lose important information.\n",
    "\n",
    "2. Fill the missing values with the constant, average, backward fill, and forward fill using the fillna() function.\n",
    "\n",
    "3. Replace missing values with a constant String, Integer, or Float using the replace() function.\n",
    "\n",
    "4. Fill in the missing values using an interpolation method. \n",
    "\n",
    "Note: make sure you are working with a larger dataset while using the dropna() function."
   ]
  },
  {
   "cell_type": "code",
   "execution_count": 16,
   "metadata": {},
   "outputs": [
    {
     "name": "stderr",
     "output_type": "stream",
     "text": [
      "C:\\Users\\a42\\AppData\\Local\\Temp\\ipykernel_32092\\2780298335.py:5: FutureWarning: DataFrame.fillna with 'method' is deprecated and will raise in a future version. Use obj.ffill() or obj.bfill() instead.\n",
      "  df.fillna(method ='bfill')\n"
     ]
    },
    {
     "data": {
      "text/html": [
       "<div>\n",
       "<style scoped>\n",
       "    .dataframe tbody tr th:only-of-type {\n",
       "        vertical-align: middle;\n",
       "    }\n",
       "\n",
       "    .dataframe tbody tr th {\n",
       "        vertical-align: top;\n",
       "    }\n",
       "\n",
       "    .dataframe thead th {\n",
       "        text-align: right;\n",
       "    }\n",
       "</style>\n",
       "<table border=\"1\" class=\"dataframe\">\n",
       "  <thead>\n",
       "    <tr style=\"text-align: right;\">\n",
       "      <th></th>\n",
       "      <th>id</th>\n",
       "      <th>Age</th>\n",
       "      <th>Score</th>\n",
       "    </tr>\n",
       "  </thead>\n",
       "  <tbody>\n",
       "    <tr>\n",
       "      <th>0</th>\n",
       "      <td>1.0</td>\n",
       "      <td>30.0</td>\n",
       "      <td>NaN</td>\n",
       "    </tr>\n",
       "    <tr>\n",
       "      <th>1</th>\n",
       "      <td>4.0</td>\n",
       "      <td>45.0</td>\n",
       "      <td>140.0</td>\n",
       "    </tr>\n",
       "    <tr>\n",
       "      <th>2</th>\n",
       "      <td>6.5</td>\n",
       "      <td>45.0</td>\n",
       "      <td>180.0</td>\n",
       "    </tr>\n",
       "    <tr>\n",
       "      <th>3</th>\n",
       "      <td>9.0</td>\n",
       "      <td>45.0</td>\n",
       "      <td>198.0</td>\n",
       "    </tr>\n",
       "  </tbody>\n",
       "</table>\n",
       "</div>"
      ],
      "text/plain": [
       "    id   Age  Score\n",
       "0  1.0  30.0    NaN\n",
       "1  4.0  45.0  140.0\n",
       "2  6.5  45.0  180.0\n",
       "3  9.0  45.0  198.0"
      ]
     },
     "execution_count": 16,
     "metadata": {},
     "output_type": "execute_result"
    }
   ],
   "source": [
    "# drop missing values\n",
    "df.dropna(axis = 0, how ='any')\n",
    "\n",
    "#fillna\n",
    "df.fillna(method ='bfill')\n",
    "\n",
    "#replace null values with -999\n",
    "df.replace(to_replace = np.nan, value = -999)\n",
    "\n",
    "# Interpolate\n",
    "df.interpolate(method ='linear', limit_direction ='forward')"
   ]
  },
  {
   "cell_type": "markdown",
   "metadata": {},
   "source": [
    "---\n",
    "***Q. Which all Python libraries have you used for visualization?***\n",
    "\n",
    "Data visualization is the most important part of data analysis. You get to see your data in action, and it helps you find hidden patterns.\n",
    "\n",
    "The most popular Python data visualization libraries are:\n",
    "\n",
    "1. Matplotlib\n",
    "2. Seaborn\n",
    "3. Plotly\n",
    "4. Bokeh\n",
    "\n",
    "In Python, we generally use Matplotlib and seaborn to display all types of data visualization. With a few lines of code, you can use it to display scatter plot, line plot, box plot, bar chart, and many more. \n",
    "\n",
    "For interactive and more complex applications, we use Plotly. You can use it to create colorful interactive graphs with a few lines of code. You can zoom, apply animation, and even add control functions. Plotly provides more than 40 unique types of charts, and we can even use them to create a web application or dashboard. \n",
    "\n",
    "Bokeh is used for detailed graphics with a high level of interactivity across large datasets.\n",
    "\n",
    "---"
   ]
  },
  {
   "cell_type": "markdown",
   "metadata": {},
   "source": [
    "***Q. How would you normalize or standardize a dataset in Python?***\n",
    "\n",
    "Normalization scales data to a specific range, usually [0, 1], while standardization transforms it to have a mean of 0 and a standard deviation of 1. Both techniques are essential for preparing data for machine learning models.\n",
    "\n",
    "Example:"
   ]
  },
  {
   "cell_type": "code",
   "execution_count": 20,
   "metadata": {},
   "outputs": [
    {
     "name": "stdout",
     "output_type": "stream",
     "text": [
      "[[0.  0. ]\n",
      " [0.5 0.5]\n",
      " [1.  1. ]]\n",
      "[[-1.22474487 -1.22474487]\n",
      " [ 0.          0.        ]\n",
      " [ 1.22474487  1.22474487]]\n"
     ]
    }
   ],
   "source": [
    "from sklearn.preprocessing import MinMaxScaler, StandardScaler\n",
    "import numpy as np\n",
    "\n",
    "data = np.array([[1, 2], [3, 4], [5, 6]])\n",
    "\n",
    "# Normalize\n",
    "normalizer = MinMaxScaler()\n",
    "normalized = normalizer.fit_transform(data)\n",
    "print(normalized)\n",
    "\n",
    "# Standardize\n",
    "scaler = StandardScaler()\n",
    "standardized = scaler.fit_transform(data)\n",
    "print(standardized)"
   ]
  },
  {
   "cell_type": "markdown",
   "metadata": {},
   "source": [
    "---\n",
    "***Q. How can you replace string space with a given character in Python?***\n",
    "\n",
    "It is a simple string manipulation challenge. You have to replace the space with a specific character.  \n",
    "\n",
    "Example 1: A user has provided the string l vey u and the character o, and the output will be loveyou.\n",
    "\n",
    "Example 2: A user has provided the string D t C mpBl ckFrid yS le and the character a, and the output will be DataCampBlackFridaySale.\n",
    "\n",
    "In the str_replace() function, we will loop over each letter of the string and check if it is space or not. If it consists of space, we will replace it with the specific character provided by the user. Finally, we will be returning the modified string. "
   ]
  },
  {
   "cell_type": "code",
   "execution_count": 22,
   "metadata": {},
   "outputs": [
    {
     "data": {
      "text/plain": [
       "'DataCampBlackFridaySale'"
      ]
     },
     "execution_count": 22,
     "metadata": {},
     "output_type": "execute_result"
    }
   ],
   "source": [
    "def str_replace(text, ch):\n",
    "    result = ''\n",
    "    for i in text:\n",
    "        if i == ' ':\n",
    "            i = ch\n",
    "        result += i\n",
    "    return result\n",
    "\n",
    "text = input('Enter text:') #\"D t C mpBl ckFrid yS le\"\n",
    "ch = input('Enter character to be replaced:') #a\n",
    "\n",
    "str_replace(text, ch)"
   ]
  },
  {
   "cell_type": "markdown",
   "metadata": {},
   "source": [
    "---\n",
    "\n",
    "***Q. Given a positive integer num, write a function that returns True if num is a perfect square else False.***\n",
    "\n",
    "This has a relatively straightforward solution. You can check if the number has a perfect square root by:\n",
    "\n",
    "Finding the square root of the number and converting it into an integer.\n",
    "Applying the square to the square root number and checking if it's a perfect square root.\n",
    "Returning the result as a boolean.\n",
    "\n",
    "Test 1  \n",
    "We have provided number 10 to the valid_square() function. \n",
    "\n",
    "1. By taking the square root of the number, we get 3.1622776601683795.\n",
    "2. By converting it into an integer, we get 3.\n",
    "3. Then, take the square of 3 and get 9.\n",
    "4. 9 is not equal to the number, so the function will return False. \n",
    "\n",
    "Test 2\n",
    "We have provided number 36 to the valid_square() function. \n",
    "\n",
    "1. By taking the square root of the number, we get 6.\n",
    "2. By converting it into an integer, we get 6.\n",
    "3. Then, take the square of 6 and get 36.\n",
    "4. 36 is equal to the number, so the function will return True."
   ]
  },
  {
   "cell_type": "code",
   "execution_count": 29,
   "metadata": {},
   "outputs": [
    {
     "data": {
      "text/plain": [
       "True"
      ]
     },
     "execution_count": 29,
     "metadata": {},
     "output_type": "execute_result"
    }
   ],
   "source": [
    "def valid_square(num):\n",
    "    sq_rt = int(num ** 0.5)\n",
    "    if (sq_rt ** 2) == num:\n",
    "        return True\n",
    "    else:\n",
    "        return False\n",
    "\n",
    "valid_square(36)"
   ]
  },
  {
   "cell_type": "markdown",
   "metadata": {},
   "source": [
    "---\n",
    "\n",
    "***Q. Given an integer n, return the number of trailing zeroes in n factorial n!***\n",
    "\n",
    "To pass this challenge, you have to first calculate n factorial (n!) and then calculate the number of training zeros. \n",
    "\n",
    "**Finding factorial**\n",
    "\n",
    "In the first step, we will use a while loop to iterate over the n factorial and stop when the n is equal to 1. \n",
    "\n",
    "**Calculating trailing zeros**\n",
    "\n",
    "In the second step, we will calculate the trailing zero, not the total number of zeros. There is a huge difference. \n",
    "\n",
    "\n",
    "`7! = 5040`\n",
    "\n",
    "The seven factorials have a total of two zeros and only one trailing zero, so our solution should return 1. \n",
    "\n",
    "1. Convert the factorial number to a string.\n",
    "2. Read it back and apply for a loop.\n",
    "3. If the number is 0, add +1 to the result, otherwise break the loop.\n",
    "4. Returns the result.\n",
    "\n",
    "The solution is elegant but requires attention to detail. "
   ]
  },
  {
   "cell_type": "code",
   "execution_count": 41,
   "metadata": {},
   "outputs": [
    {
     "name": "stdout",
     "output_type": "stream",
     "text": [
      "Factorial of 7 is 5040\n",
      "Total number of trailing zeros is 1.\n"
     ]
    }
   ],
   "source": [
    "def factorial_trailing_zeros(n):\n",
    "    number = n\n",
    "    fact = n\n",
    "    while n > 1:\n",
    "        fact *= n-1\n",
    "        n -= 1\n",
    "     \n",
    "    print(f'Factorial of {number} is {fact}')\n",
    "\n",
    "    result = 0\n",
    "\n",
    "    for i in str(fact)[::-1]:\n",
    "        if i == '0':\n",
    "            result += 1\n",
    "        else:\n",
    "            break\n",
    "\n",
    "    return result\n",
    "\n",
    "res = factorial_trailing_zeros(7)\n",
    "print(f'Total number of trailing zeros is {res}.')"
   ]
  },
  {
   "cell_type": "markdown",
   "metadata": {},
   "source": [
    "---\n",
    "***Q. Can the String Be Split into Dictionary Words?***\n",
    "\n",
    "You are provided with a large string and a dictionary of the words. You have to find if the input string can be segmented into words using the dictionary or not.  \n",
    "\n",
    "The solution is reasonably straightforward. You have to segment a large string at each point and check if the string can be segmented to the words in the dictionary.\n",
    "\n",
    "1. Run the loop using the length of the large string.\n",
    "2. We will create two substrings. \n",
    "3. The first substring will check each point in the large string from s[0:i]\n",
    "4. If the first substring is not in the dictionary, it will return False.\n",
    "5. If the first substring is in the dictionary, it will create the second substring using s[i:0].\n",
    "6. If the second substring is in the dictionary or the second substring is of zero length, then return True. Recursively call can_segment_str() with the second substring and return True if it can be segmented. "
   ]
  },
  {
   "cell_type": "code",
   "execution_count": 45,
   "metadata": {},
   "outputs": [
    {
     "data": {
      "text/plain": [
       "True"
      ]
     },
     "execution_count": 45,
     "metadata": {},
     "output_type": "execute_result"
    }
   ],
   "source": [
    "def can_segment_str(s, dictionary):\n",
    "    for i in range(1, len(s) + 1):\n",
    "        first_str = s[0:i]\n",
    "        if first_str in dictionary:\n",
    "            second_str = s[i:]\n",
    "            if (\n",
    "                not second_str\n",
    "                or second_str in dictionary\n",
    "                or can_segment_str(second_str, dictionary)\n",
    "            ):\n",
    "                return True\n",
    "    return False\n",
    "\n",
    "\n",
    "s = \"datacamp\"\n",
    "dictionary = [\"data\", \"camp\", \"cam\", \"lack\"]\n",
    "can_segment_str(s, dictionary)\n",
    "# True"
   ]
  },
  {
   "cell_type": "markdown",
   "metadata": {},
   "source": [
    "---\n",
    "\n",
    "***Q. Can you remove duplicates from a sorted array?***\n",
    "\n",
    "Given an integer sorted array in increasing order, remove the duplicate numbers such that each unique element appears only once. Make sure you keep the final order of the array the same.\n",
    "\n",
    "It is impossible to change the length of the array in Python, so we will place the result in the first part of the array. After removing duplicates, we will have k elements, and the first k elements in the array should hold the results. \n",
    "\n",
    "Example 1: input array is [1,1,2,2], the function should return 2. \n",
    "\n",
    "Example 2: input array is [1,1,2,3,3], the function should return 3.\n",
    "\n",
    "Solution:\n",
    "\n",
    "1. Run the loop for the range of 1 to the size of the array.\n",
    "2. Check if the previous number is unique or not. We are comparing previous elements with the current one.  \n",
    "3. If it is unique, update the array using insertIndex, which is 1 at the start, and add +1 to the insertIndex. \n",
    "4. Return insertIndex as it is the k. \n",
    "\n",
    "This question is relatively straightforward once you know how. If you put more time into understanding the statement, you can easily come up with a solution. "
   ]
  },
  {
   "cell_type": "code",
   "execution_count": 48,
   "metadata": {},
   "outputs": [
    {
     "data": {
      "text/plain": [
       "3"
      ]
     },
     "execution_count": 48,
     "metadata": {},
     "output_type": "execute_result"
    }
   ],
   "source": [
    "def sort_array(arr):\n",
    "    insertIndex = 1\n",
    "    for i in range(1, len(arr)):\n",
    "        if arr[i] != arr[i - 1]:\n",
    "            insertIndex += 1\n",
    "    return insertIndex\n",
    "\n",
    "sort_array([1,1,2,2,3])"
   ]
  },
  {
   "cell_type": "code",
   "execution_count": 49,
   "metadata": {},
   "outputs": [
    {
     "data": {
      "text/plain": [
       "5"
      ]
     },
     "execution_count": 49,
     "metadata": {},
     "output_type": "execute_result"
    }
   ],
   "source": [
    "def removeDuplicates(array):\n",
    "    size = len(array)\n",
    "    insertIndex = 1\n",
    "    for i in range(1, size):\n",
    "        if array[i - 1] != array[i]:\n",
    "            # Updating insertIndex in our main array\n",
    "            array[insertIndex] = array[i]\n",
    "            # Incrementing insertIndex count by 1\n",
    "            insertIndex = insertIndex + 1\n",
    "    return insertIndex\n",
    "\n",
    "array_1 = [1,2,2,3,3,4]\n",
    "removeDuplicates(array_1)\n",
    "# 4\n",
    "\n",
    "array_2 = [1,1,3,4,5,6,6]\n",
    "removeDuplicates(array_2)\n",
    "# 5"
   ]
  },
  {
   "cell_type": "markdown",
   "metadata": {},
   "source": [
    "---\n",
    "***Q. Can you find the missing number in the array?***\n",
    "\n",
    "You have been provided with the list of positive integers from 1 to n. All the numbers from 1 to n are present except x, and you must find x. \n",
    "\n",
    "Example:\n",
    "n = 8 \n",
    "\n",
    "missing number = 7\n",
    "\n",
    "This question is a simple math problem.\n",
    "1. Find the sum of all elements in the list.\n",
    "2. By using arithmetic series sum formula, we will find the expected sum of the first n numbers. \n",
    "3. Return the difference between the expected sum and the sum of the elements."
   ]
  },
  {
   "cell_type": "code",
   "execution_count": 53,
   "metadata": {},
   "outputs": [
    {
     "data": {
      "text/plain": [
       "4"
      ]
     },
     "execution_count": 53,
     "metadata": {},
     "output_type": "execute_result"
    }
   ],
   "source": [
    "def find_missing(input_list):\n",
    "    sum_of_numbers = sum(input_list)\n",
    "\n",
    "    # There is exactly 1 number missing\n",
    "    n = len(input_list) + 1\n",
    "    actual_sum = (n * (n + 1)) / 2\n",
    "\n",
    "    return int(actual_sum - sum_of_numbers)\n",
    "\n",
    "\n",
    "list_1 = [1, 2, 3, 5]\n",
    "\n",
    "find_missing(list_1)"
   ]
  },
  {
   "cell_type": "markdown",
   "metadata": {},
   "source": [
    "---\n",
    "\n",
    "***Q. Write a Python function to determine if a given string is a palindrome.***\n",
    "\n",
    "A string is a palindrome if it reads the same forward and backward.\n",
    "\n",
    "Example:"
   ]
  },
  {
   "cell_type": "code",
   "execution_count": 54,
   "metadata": {},
   "outputs": [
    {
     "name": "stdout",
     "output_type": "stream",
     "text": [
      "True\n",
      "False\n"
     ]
    }
   ],
   "source": [
    "def is_palindrome(s):\n",
    "    s = ''.join(e for e in s if e.isalnum()).lower()  # Remove non-alphanumeric and convert to lowercase\n",
    "    return s == s[::-1]\n",
    "\n",
    "print(is_palindrome(\"A man, a plan, a canal: Panama\"))  # Output: True\n",
    "print(is_palindrome(\"hello\"))  # Output: False"
   ]
  },
  {
   "cell_type": "markdown",
   "metadata": {},
   "source": [
    "---\n",
    "***Q. Can you find the maximum single sell profit?***\n",
    "\n",
    "You are provided with the list of stock prices, and you have to return the buy and sell price to make the highest profit. \n",
    "\n",
    "Note: We have to make maximum profit from a single buy/sell, and if we can’t make a profit, we have to reduce our losses. \n",
    "\n",
    "Example 1: stock_price = [8, 4, 12, 9, 20, 1], buy = 4, and sell = 20. Maximizing the profit. \n",
    "\n",
    "Example 2: stock_price = [8, 6, 5, 4, 3, 2, 1], buy = 6, and sell = 5. Minimizing the loss.\n",
    "\n",
    "Solution:\n",
    "\n",
    "1. We will calculate the global profit by subtracting global sell (the first element in the list) from current buy (the second element in the list). \n",
    "2. Run the loop for the range of 1 to the length of the list. \n",
    "3. Within the loop, calculate the current profit using list elements and current buy value. \n",
    "4. If the current profit is greater than the global profit, change the global profit with the current profit and global sell to the i element of the list.\n",
    "5. If the current buy is greater than the current element of the list, change the current buy with the current element of the list. \n",
    "6. In the end, we will return global buy and sell value. To get global buy value, we will subtract global sell from global profit.\n",
    "\n",
    "The question is a bit tricky, and you can come up with your unique algorithm to solve the problems. "
   ]
  },
  {
   "cell_type": "code",
   "execution_count": 56,
   "metadata": {},
   "outputs": [
    {
     "data": {
      "text/plain": [
       "(6, 5)"
      ]
     },
     "execution_count": 56,
     "metadata": {},
     "output_type": "execute_result"
    }
   ],
   "source": [
    "def buy_sell_stock_prices(stock_prices):\n",
    "    current_buy = stock_prices[0]\n",
    "    global_sell = stock_prices[1]\n",
    "    global_profit = global_sell - current_buy\n",
    "\n",
    "    for i in range(1, len(stock_prices)):\n",
    "        current_profit = stock_prices[i] - current_buy\n",
    "\n",
    "        if current_profit > global_profit:\n",
    "            global_profit = current_profit\n",
    "            global_sell = stock_prices[i]\n",
    "\n",
    "        if current_buy > stock_prices[i]:\n",
    "            current_buy = stock_prices[i]\n",
    "\n",
    "    return global_sell - global_profit, global_sell\n",
    "\n",
    "stock_prices_1 = [10,9,16,17,19,23]\n",
    "buy_sell_stock_prices(stock_prices_1)\n",
    "# (9, 23)\n",
    "\n",
    "\n",
    "stock_prices_2 = [8, 6, 5, 4, 3, 2, 1]\n",
    "buy_sell_stock_prices(stock_prices_2)\n",
    "# (6, 5)"
   ]
  },
  {
   "cell_type": "markdown",
   "metadata": {},
   "source": [
    "---\n",
    "***Q. Can you find a Pythagorean triplet in an array?***\n",
    "\n",
    "Write a function that returns True if there is a Pythagorean triplet that satisfies a2 + b2 = c2.\n",
    "\n",
    "Example:\n",
    "\n",
    "Input: [3, 1, 4, 6, 5] \n",
    "\n",
    "Output: True\n",
    "\n",
    "Input: [10, 4, 6, 12, 5] \n",
    "\n",
    "Output: False \n",
    "\n",
    "Solution:\n",
    "\n",
    "1. Square all the elements in the array.\n",
    "\n",
    "2. Sort the array in increasing order.\n",
    "\n",
    "3. Run two loops. The outer loop starts from the last index of the array to 1, and the inner loop starts from (outer_loop_index - 1) to the start.\n",
    "\n",
    "4. Create set() to store the elements between outer loop index and inner loop index.\n",
    "\n",
    "5. Check if there is a number present in the set which is equal to (array[outerLoopIndex] – array[innerLoopIndex]). If yes, return True, else False. "
   ]
  },
  {
   "cell_type": "code",
   "execution_count": null,
   "metadata": {},
   "outputs": [],
   "source": [
    "def checkTriplet(array):\n",
    "    n = len(array) #5\n",
    "    for i in range(n):\n",
    "        array[i] = array[i]**2  #[9, 4, 16, 36, 25]\n",
    "\n",
    "    array.sort() #[4, 9, 16, 25, 36]\n",
    "\n",
    "    for i in range(n - 1, 1, -1): #range(4,1,-1)\n",
    "        s = set()\n",
    "        for j in range(i - 1, -1, -1): #range(3,-1,-1)\n",
    "            if (array[i] - array[j]) in s: # 25 - 16 = 9\n",
    "                return True\n",
    "            s.add(array[j]) # 25, 16\n",
    "    return False\n",
    "\n",
    "arr = [3, 2, 4, 6, 5]\n",
    "checkTriplet(arr)\n",
    "# True"
   ]
  },
  {
   "cell_type": "markdown",
   "metadata": {},
   "source": [
    "---\n",
    "***Q. How many ways can you make change with coins and a total amount?***\n",
    "\n",
    "We need to create a function that takes a list of coin denominations and total amounts and returns the number of ways we can make the change. \n",
    "\n",
    "In the example, we have provided coin denominations [1, 2, 5] and the total amount of 5. In return, we got five ways we can make the change. \n",
    "\n",
    "Solution:\n",
    "\n",
    "1. We will create the list of size amount + 1. Additional spaces are added to store the solution for a zero amount.\n",
    "\n",
    "2. We will initiate a solution list with 1.\n",
    "\n",
    "3. We will run two loops. The outer loop will return the number of denominations, and the inner loop will run from the range of the outer loop index to the amount +1.\n",
    "\n",
    "4. The results of different denominations are stored in the array solution. solution[i] = solution[i] + solution[i - den]\n",
    "\n",
    "5. The process will be repeated for all the elements in the denomination list, and at the last element of the solution list, we will have our number."
   ]
  },
  {
   "cell_type": "code",
   "execution_count": 57,
   "metadata": {},
   "outputs": [
    {
     "data": {
      "text/plain": [
       "4"
      ]
     },
     "execution_count": 57,
     "metadata": {},
     "output_type": "execute_result"
    }
   ],
   "source": [
    "def solve_coin_change(denominations, amount):\n",
    "    solution = [0] * (amount + 1)\n",
    "    solution[0] = 1\n",
    "    for den in denominations:\n",
    "        for i in range(den, amount + 1):\n",
    "            solution[i] += solution[i - den]\n",
    "\n",
    "    return solution[len(solution) - 1]\n",
    "\n",
    "denominations = [1,2,5]\n",
    "amount = 5\n",
    "\n",
    "solve_coin_change(denominations,amount)\n",
    "# 4"
   ]
  },
  {
   "cell_type": "markdown",
   "metadata": {},
   "source": [
    "---\n",
    "***Q. Define a lambda function, an iterator, and a generator in Python.***\n",
    "\n",
    "The Lambda function is also known as an anonymous function. You can add any number of parameters but with only one statement. \n",
    "\n",
    "An iterator is an object that we can use to iterate over iterable objects like lists, dictionaries, tuples, and sets.\n",
    "\n",
    "The generator is a function similar to a normal function, but it generates a value using the yield keyword instead of return. If the function body contains yield, it automatically becomes a generator.\n",
    "\n",
    "---"
   ]
  },
  {
   "cell_type": "markdown",
   "metadata": {},
   "source": [
    "***Q. Given an array arr[], find the maximum j – i such that arr[j] > arr[i]***\n",
    "\n",
    "This question is quite straightforward but requires special attention to detail. We are provided with an array of positive integers. We have to find the maximum difference between j-i where array[j] > array[i].\n",
    "\n",
    "Examples:\n",
    "\n",
    "1. Input: [20, 70, 40, 50, 12, 38, 98], Output: 6  (j = 6, i = 0)\n",
    "2. Input: [10, 3, 2, 4, 5, 6, 7, 8, 18, 0], Output: 8 ( j = 8, i = 0)\n",
    "\n",
    "Solution: \n",
    "\n",
    "1. Calculate the length of the array and initiate max difference with -1.\n",
    "2. Run two loops. The outer loop picks elements from the left, and the inner loop compares the picked elements with elements starting from the right side. \n",
    "3. Stop the inner loop when the element is greater than the picked element and keep updating the maximum difference using j - I. "
   ]
  },
  {
   "cell_type": "code",
   "execution_count": 58,
   "metadata": {},
   "outputs": [
    {
     "data": {
      "text/plain": [
       "6"
      ]
     },
     "execution_count": 58,
     "metadata": {},
     "output_type": "execute_result"
    }
   ],
   "source": [
    "def max_index_diff(array):\n",
    "    n = len(array)\n",
    "    max_diff = -1\n",
    "    for i in range(0, n):\n",
    "        j = n - 1\n",
    "        while(j > i):\n",
    "            if array[j] > array[i] and max_diff < (j - i):\n",
    "                max_diff = j - i\n",
    "            j -= 1\n",
    "\n",
    "    return max_diff\n",
    "\n",
    "array_1 = [20,70,40,50,12,38,98]\n",
    "\n",
    "max_index_diff(array_1)\n",
    "# 6"
   ]
  },
  {
   "cell_type": "markdown",
   "metadata": {},
   "source": [
    "---\n",
    "***Q. How would you use the ternary operators in Python?***\n",
    "\n",
    "Ternary operators are also known as conditional expressions. They are operators that evaluate expression based on conditions being True and False.\n",
    "\n",
    "You can write conditional expressions in a single line instead of writing using multiple lines of if-else statements. It allows you to write clean and compact code. \n",
    "\n",
    "For example, we can convert nested if-else statements into one line, as shown below. \n",
    "\n",
    "If-else statement"
   ]
  },
  {
   "cell_type": "code",
   "execution_count": 59,
   "metadata": {},
   "outputs": [
    {
     "name": "stdout",
     "output_type": "stream",
     "text": [
      "Distinction\n"
     ]
    }
   ],
   "source": [
    "score = 75\n",
    "\n",
    "if score < 70:\n",
    "    if score < 50:\n",
    "        print('Fail')\n",
    "    else:\n",
    "        print('Merit')\n",
    "else:\n",
    "    print('Distinction')\n",
    "# Distinction"
   ]
  },
  {
   "cell_type": "code",
   "execution_count": 60,
   "metadata": {},
   "outputs": [
    {
     "name": "stdout",
     "output_type": "stream",
     "text": [
      "Distinction\n"
     ]
    }
   ],
   "source": [
    "# Nested Ternary Operator\n",
    "\n",
    "print('Fail' if score < 50 else 'Merit' if score < 70 else 'Distinction')\n",
    "# Distinction"
   ]
  },
  {
   "cell_type": "markdown",
   "metadata": {},
   "source": [
    "---\n",
    "***Q. How would you implement an LRU Cache in Python?***\n",
    "\n",
    "Python provides a built-in functools. lru_cache decorator to implement an LRU (Least Recently Used) cache. Alternatively, you can create one manually using the OrderedDict from collections.\n",
    "\n",
    "Example using functools:"
   ]
  },
  {
   "cell_type": "code",
   "execution_count": 61,
   "metadata": {},
   "outputs": [
    {
     "name": "stdout",
     "output_type": "stream",
     "text": [
      "3\n",
      "3\n"
     ]
    }
   ],
   "source": [
    "from functools import lru_cache\n",
    "\n",
    "@lru_cache(maxsize=3)\n",
    "def add(a, b):\n",
    "    return a + b\n",
    "\n",
    "print(add(1, 2))  # Calculates and caches result\n",
    "print(add(1, 2))  # Retrieves result from cache"
   ]
  },
  {
   "cell_type": "markdown",
   "metadata": {},
   "source": [
    "---"
   ]
  }
 ],
 "metadata": {
  "kernelspec": {
   "display_name": "Python 3",
   "language": "python",
   "name": "python3"
  },
  "language_info": {
   "codemirror_mode": {
    "name": "ipython",
    "version": 3
   },
   "file_extension": ".py",
   "mimetype": "text/x-python",
   "name": "python",
   "nbconvert_exporter": "python",
   "pygments_lexer": "ipython3",
   "version": "3.12.5"
  }
 },
 "nbformat": 4,
 "nbformat_minor": 2
}
