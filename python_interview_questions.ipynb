{
 "cells": [
  {
   "cell_type": "markdown",
   "metadata": {},
   "source": [
    "## **Python Interview Questions & Answers**\n",
    "\n",
    "https://www.datacamp.com/blog/top-python-interview-questions-and-answers"
   ]
  },
  {
   "cell_type": "markdown",
   "metadata": {},
   "source": [
    "***Q. What is Python, and list some of its key features?***\n",
    "\n",
    "Python is a versatile, high-level programming language known for its easy-to-read syntax and broad applications. Here are some of Python’s key features:\n",
    "\n",
    "1. **Simple and Readable Syntax**: Python’s syntax is clear and straightforward, making it accessible for beginners and efficient for experienced developers.\n",
    "\n",
    "2. **Interpreted Language**: Python executes code line by line, which helps in debugging and testing.\n",
    "\n",
    "3. **Dynamic Typing**: Python does not require explicit data type declarations, allowing more flexibility.\n",
    "\n",
    "4. **Extensive Libraries and Frameworks**: Libraries like NumPy, Pandas, and Django expand Python’s functionality for specialized tasks in data science, web development, and more.\n",
    "\n",
    "5. **Cross-Platform Compatibility**: Python can run on different operating systems, including Windows, macOS, and Linux.\n",
    "\n",
    "---"
   ]
  },
  {
   "cell_type": "markdown",
   "metadata": {},
   "source": [
    "***Q. What are Python lists and tuples?***\n",
    "\n",
    "Lists and tuples are fundamental Python data structures with distinct characteristics and use cases.\n",
    "\n",
    "List:\n",
    "\n",
    "1. Mutable: Elements can be changed after creation.\n",
    "2. Memory Usage: Consumes more memory.\n",
    "3. Performance: Slower iteration compared to tuples but better for insertion and deletion operations.\n",
    "4. Methods: Offers various built-in methods for manipulation.\n",
    "\n",
    "Example:"
   ]
  },
  {
   "cell_type": "code",
   "execution_count": 55,
   "metadata": {},
   "outputs": [
    {
     "name": "stdout",
     "output_type": "stream",
     "text": [
      "['Data', 'Camp', 'Tutorial', 'Session']\n"
     ]
    }
   ],
   "source": [
    "a_list = [\"Data\", \"Camp\", \"Tutorial\"]\n",
    "a_list.append(\"Session\")\n",
    "print(a_list)  # Output: ['Data', 'Camp', 'Tutorial', 'Session']"
   ]
  },
  {
   "cell_type": "markdown",
   "metadata": {},
   "source": [
    "Tuple:\n",
    "\n",
    "1. Immutable: Elements cannot be changed after creation.\n",
    "2. Memory Usage: Consumes less memory.\n",
    "3. Performance: Faster iteration compared to lists but lacks the flexibility of lists.\n",
    "4. Methods: Limited built-in methods.\n",
    "\n",
    "Example:"
   ]
  },
  {
   "cell_type": "code",
   "execution_count": 2,
   "metadata": {},
   "outputs": [
    {
     "name": "stdout",
     "output_type": "stream",
     "text": [
      "('Data', 'Camp', 'Tutorial')\n"
     ]
    }
   ],
   "source": [
    "a_tuple = (\"Data\", \"Camp\", \"Tutorial\")\n",
    "print(a_tuple)  # Output: ('Data', 'Camp', 'Tutorial')"
   ]
  },
  {
   "cell_type": "markdown",
   "metadata": {},
   "source": [
    "---\n",
    "***Q. What is __init__() in Python?***\n",
    "\n",
    "The __init__() method is known as a constructor in object-oriented programming (OOP) terminology. It is used to initialize an object's state when it is created. This method is automatically called when a new instance of a class is instantiated.\n",
    "\n",
    "Purpose:\n",
    "\n",
    "Assign values to object properties.\n",
    "Perform any initialization operations.\n",
    "\n",
    "Example: \n",
    "\n",
    "We have created a book_shop class and added the constructor and book() function. The constructor will store the book title name and the book() function will print the book name.\n",
    "\n",
    "To test our code we have initialized the b object with “Sandman” and executed the book() function. "
   ]
  },
  {
   "cell_type": "code",
   "execution_count": 3,
   "metadata": {},
   "outputs": [
    {
     "name": "stdout",
     "output_type": "stream",
     "text": [
      "The title of book is  Sandman\n"
     ]
    }
   ],
   "source": [
    "class book_shop:\n",
    "\n",
    "    # constructor\n",
    "    def __init__(self, title):\n",
    "        self.title = title\n",
    "\n",
    "    # Sample method\n",
    "    def book(self):\n",
    "        print('The title of book is ', self.title)\n",
    "\n",
    "b = book_shop('Sandman')\n",
    "b.book()\n",
    "# The tile of the book is Sandman       "
   ]
  },
  {
   "cell_type": "markdown",
   "metadata": {},
   "source": [
    "---\n",
    "***Q. What is the difference between a mutable data type and an immutable data type?***\n",
    "\n",
    "**Mutable data types:**\n",
    "\n",
    "1. Definition: Mutable data types are those that can be modified after their creation.\n",
    "2. Examples: List, Dictionary, Set.\n",
    "3. Characteristics: Elements can be added, removed, or changed.\n",
    "4. Use Case: Suitable for collections of items where frequent updates are needed.\n",
    "\n",
    "Example:"
   ]
  },
  {
   "cell_type": "code",
   "execution_count": 4,
   "metadata": {},
   "outputs": [
    {
     "name": "stdout",
     "output_type": "stream",
     "text": [
      "[1, 2, 3, 4]\n",
      "{'a': 1, 'b': 2, 'c': 3}\n"
     ]
    }
   ],
   "source": [
    "# List Example\n",
    "a_list = [1, 2, 3]\n",
    "a_list.append(4)\n",
    "print(a_list)  # Output: [1, 2, 3, 4]\n",
    "\n",
    "# Dictionary Example\n",
    "a_dict = {'a': 1, 'b': 2}\n",
    "a_dict['c'] = 3\n",
    "print(a_dict)  # Output: {'a': 1, 'b': 2, 'c': 3}"
   ]
  },
  {
   "cell_type": "markdown",
   "metadata": {},
   "source": [
    "**Immutable data types:**\n",
    "\n",
    "1. Definition: Immutable data types are those that cannot be modified after their creation.\n",
    "2. Examples: Numeric (int, float), String, Tuple.\n",
    "3. Characteristics: Elements cannot be changed once set; any operation that appears to modify an immutable object will create a new object.\n",
    "\n",
    "Example:"
   ]
  },
  {
   "cell_type": "code",
   "execution_count": null,
   "metadata": {},
   "outputs": [],
   "source": [
    "# Numeric Example\n",
    "a_num = 10\n",
    "a_num = 20  # Creates a new integer object\n",
    "print(a_num)  # Output: 20\n",
    "\n",
    "# String Example\n",
    "a_str = \"hello\"\n",
    "a_str = \"world\"  # Creates a new string object\n",
    "print(a_str)  # Output: world\n",
    "\n",
    "# Tuple Example\n",
    "a_tuple = (1, 2, 3)\n",
    "# a_tuple[0] = 4  # This will raise a TypeError\n",
    "print(a_tuple)  # Output: (1, 2, 3)"
   ]
  },
  {
   "cell_type": "markdown",
   "metadata": {},
   "source": [
    "---\n",
    "***Q. Explain list, dictionary, and tuple comprehension with an example.***\n",
    "\n",
    "**List**\n",
    "\n",
    "List comprehension offers one-liner syntax to create a new list based on the values of the existing list.\n",
    "You can use a for loop to replicate the same thing, but it will require you to write multiple lines, and sometimes it can get complex. \n",
    "\n",
    "List comprehension eases the creation of the list based on existing iterable."
   ]
  },
  {
   "cell_type": "code",
   "execution_count": null,
   "metadata": {},
   "outputs": [],
   "source": [
    "my_list = [i for i in range(1, 10)]\n",
    "my_list\n",
    "# [1, 2, 3, 4, 5, 6, 7, 8, 9]"
   ]
  },
  {
   "cell_type": "markdown",
   "metadata": {},
   "source": [
    "**Dictionary**\n",
    "\n",
    "Similar to a List comprehension, you can create a dictionary based on an existing table with a single line of code. You need to enclose the operation with curly brackets {}."
   ]
  },
  {
   "cell_type": "code",
   "execution_count": 5,
   "metadata": {},
   "outputs": [
    {
     "data": {
      "text/plain": [
       "{1: 1, 2: 4, 3: 9, 4: 16, 5: 25, 6: 36, 7: 49, 8: 64, 9: 81}"
      ]
     },
     "execution_count": 5,
     "metadata": {},
     "output_type": "execute_result"
    }
   ],
   "source": [
    "# Creating a dictionary using dictionary comprehension\n",
    "my_dict = {i: i**2 for i in range(1, 10)}\n",
    "\n",
    "# Output the dictionary\n",
    "my_dict\n",
    "\n",
    "# {1: 1, 2: 4, 3: 9, 4: 16, 5: 25, 6: 36, 7: 49, 8: 64, 9: 81}"
   ]
  },
  {
   "cell_type": "markdown",
   "metadata": {},
   "source": [
    "**Tuple**\n",
    "\n",
    "It is a bit different for Tuples. You can create Tuple comprehension using round brackets (), but it will return a generator object, not a tuple comprehension.\n",
    "\n",
    "You can run the loop to extract the elements or convert them to a list."
   ]
  },
  {
   "cell_type": "code",
   "execution_count": 8,
   "metadata": {},
   "outputs": [
    {
     "name": "stdout",
     "output_type": "stream",
     "text": [
      "<generator object <genexpr> at 0x00000243C17E8E80>\n"
     ]
    },
    {
     "data": {
      "text/plain": [
       "[1, 2, 3, 4, 5, 6, 7, 8, 9]"
      ]
     },
     "execution_count": 8,
     "metadata": {},
     "output_type": "execute_result"
    }
   ],
   "source": [
    "my_tuple = (i for i in range(1, 10))\n",
    "my_tuple\n",
    "# <generator object <genexpr> at 0x7fb91b151430>\n",
    "print(my_tuple)\n",
    "\n",
    "lst = list(my_tuple)\n",
    "lst"
   ]
  },
  {
   "cell_type": "markdown",
   "metadata": {},
   "source": [
    "---\n",
    "***Q. What is the Global Interpreter Lock (GIL) in Python, and why is it important?***\n",
    "\n",
    "The Global Interpreter Lock (GIL) is a mutex used in CPython (the standard Python interpreter) to prevent multiple native threads from executing Python bytecode simultaneously. It simplifies memory management but limits multi-threading performance for CPU-bound tasks. This makes threading in Python less effective for certain tasks, though it works well for I/O-bound operations."
   ]
  },
  {
   "cell_type": "markdown",
   "metadata": {},
   "source": [
    "---\n",
    "***Q. Can you explain common searching and graph traversal algorithms in Python?***\n",
    "\n",
    "Python has a number of different powerful algorithms for searching and graph traversal, and each one deals with different data structures and solves different problems.\n",
    "\n",
    "**Binary Search:** If you need to *quickly find an item in a sorted list*, binary search is your go-to. It works by repeatedly dividing the search range in half until the target is found.\n",
    "\n",
    "**AVL Tree:** An AVL tree keeps things balanced, which is a big advantage if you’re frequently inserting or deleting items in a tree. This self-balancing binary search tree structure keeps searches fast by making sure the tree never gets too skewed. \n",
    "\n",
    "**Breadth-First Search (BFS):** BFS is all about exploring a graph level by level. It’s especially useful if you’re trying to find the *shortest path in an unweighted graph* since it checks all possible moves from each node before going deeper. \n",
    "\n",
    "**Depth-First Search (DFS):** DFS takes a different approach by exploring as far as it can down each branch before backtracking. It’s great for tasks like maze-solving or tree traversal. \n",
    "\n",
    "**A Algorithm\\*:** The A* algorithm is a bit more advanced and combines the best of both BFS and DFS by using heuristics to find the shortest path efficiently. It’s commonly used in pathfinding for maps and games. \n",
    "\n",
    "---"
   ]
  },
  {
   "cell_type": "markdown",
   "metadata": {},
   "source": [
    "***Q. What is a KeyError in Python, and how can you handle it?***\n",
    "\n",
    "A KeyError in Python occurs when you try to access a key that doesn’t exist in a dictionary. This error is raised because Python expects every key you look up to be present in the dictionary, and when it isn’t, it throws a KeyError.\n",
    "\n",
    "For example, if you have a dictionary of student scores and try to access a student who isn’t in the dictionary, you’ll get a KeyError. To handle this error, you have a few options:\n",
    "\n",
    "1. **Use the .get() method**: This method returns None (or a specified default value) instead of throwing an error if the key isn’t found.\n",
    "\n",
    "2. **Use a try-except block**: Wrapping your code in try-except allows you to catch the KeyError and handle it gracefully.\n",
    "\n",
    "3. **Check for the key with in**: You can check if a key exists in the dictionary using if key in dictionary before trying to access it.\n",
    "\n",
    "---"
   ]
  },
  {
   "cell_type": "markdown",
   "metadata": {},
   "source": [
    "***Q. How does Python handle memory management, and what role does garbage collection play?***\n",
    "\n",
    "Python manages memory allocation and deallocation automatically using a private heap, where all objects and data structures are stored. The memory management process is handled by Python’s memory manager, which optimizes memory usage, and the garbage collector, which deals with unused or unreferenced objects to free up memory.\n",
    "\n",
    "Garbage collection in Python uses reference counting as well as a cyclic garbage collector to detect and collect unused data. When an object has no more references, it becomes eligible for garbage collection. The gc module in Python allows you to interact with the garbage collector directly, providing functions to enable or disable garbage collection, as well as to perform manual collection.\n",
    "\n",
    "---"
   ]
  },
  {
   "cell_type": "markdown",
   "metadata": {},
   "source": [
    "***Q. What is the difference between shallow copy and deep copy in Python, and when would you use each?***\n",
    "\n",
    "In Python, shallow and deep copies are used to duplicate objects, but they handle nested structures differently.\n",
    "\n",
    "**Shallow Copy**: A shallow copy creates a new object but inserts references to the objects found in the original. So, if the original object contains other mutable objects (like lists within lists), the shallow copy will reference the same inner objects. This can lead to unexpected changes if you modify one of those inner objects in either the original or copied structure. You can create a shallow copy using the copy() method or the copy module’s copy() function.\n",
    "\n",
    "**Deep Copy**: A deep copy creates a new object and recursively copies all objects found within the original. This means that even nested structures get duplicated, so changes in one copy don’t affect the other. To create a deep copy, you can use the copy module’s deepcopy() function.\n",
    "\n",
    "Example Usage: A shallow copy is suitable when the object contains only immutable items or when you want changes in nested structures to reflect in both copies. A deep copy is ideal when working with complex, nested objects where you want a completely independent duplicate. Read our Python Copy List: What You Should Know tutorial to learn more. This tutorial includes a whole section on the difference between shallow copy and deep copy.\n",
    "\n",
    "---"
   ]
  },
  {
   "cell_type": "markdown",
   "metadata": {},
   "source": [
    "***Q. How can you use Python’s collections module to simplify common tasks?***\n",
    "\n",
    "The collections module in Python provides specialized data structures like defaultdict, Counter, deque, and OrderedDict to simplify various tasks. For instance, Counter is ideal for counting elements in an iterable, while defaultdict can initialize dictionary values without explicit checks.\n",
    "\n",
    "Example:"
   ]
  },
  {
   "cell_type": "code",
   "execution_count": 9,
   "metadata": {},
   "outputs": [
    {
     "name": "stdout",
     "output_type": "stream",
     "text": [
      "Counter({'a': 3, 'b': 2, 'c': 1})\n"
     ]
    }
   ],
   "source": [
    "from collections import Counter\n",
    "\n",
    "data = ['a', 'b', 'c', 'a', 'b', 'a']\n",
    "count = Counter(data)\n",
    "print(count)  # Output: Counter({'a': 3, 'b': 2, 'c': 1})"
   ]
  },
  {
   "cell_type": "markdown",
   "metadata": {},
   "source": [
    "---\n",
    "***Q. What is monkey patching in Python?***\n",
    "\n",
    "Monkey patching in Python is a <u style=\"color:red;\"> dynamic technique </u>that can change the behavior of the code at run-time. In short, you can modify a class or module at run-time.\n",
    "\n",
    "Example:\n",
    "\n",
    "Let’s learn monkey patching with an example. \n",
    "\n",
    "We have created a class monkey with a patch() function. We have also created a monk_p function outside the class. \n",
    "\n",
    "We will now replace the patch with the monk_p function by assigning monkey.patch to monk_p.\n",
    "\n",
    "In the end, we will test the modification by creating the object using the monkey class and running the patch() function. \n",
    "\n",
    "Instead of displaying patch() is being called, it has displayed monk_p() is being called. "
   ]
  },
  {
   "cell_type": "code",
   "execution_count": 10,
   "metadata": {},
   "outputs": [
    {
     "name": "stdout",
     "output_type": "stream",
     "text": [
      "monk_p() is being called\n"
     ]
    }
   ],
   "source": [
    "class monkey:\n",
    "    def patch(self):\n",
    "          print (\"patch() is being called\")\n",
    "\n",
    "def monk_p(self):\n",
    "    print (\"monk_p() is being called\")\n",
    "\n",
    "# replacing address of \"patch\" with \"monk_p\"\n",
    "monkey.patch = monk_p\n",
    "\n",
    "obj = monkey()\n",
    "\n",
    "obj.patch()\n",
    "# monk_p() is being called"
   ]
  },
  {
   "cell_type": "markdown",
   "metadata": {},
   "source": [
    "---\n",
    "\n",
    "***Q. What is the Python “with” statement designed for?***\n",
    "\n",
    "The with statement is used for exception handling to make code cleaner and simpler. It is generally used for the management of common resources like creating, editing, and saving a file. \n",
    "\n",
    "Example:\n",
    "\n",
    "Instead of writing multiple lines of open, try, finally, and close, you can create and write a text file using the with statement. It is simple."
   ]
  },
  {
   "cell_type": "code",
   "execution_count": null,
   "metadata": {},
   "outputs": [],
   "source": [
    "# using with statement\n",
    "with open('myfile.txt', 'w') as file:\n",
    "    file.write('DataCamp Black Friday Sale!!!')"
   ]
  },
  {
   "cell_type": "markdown",
   "metadata": {},
   "source": [
    "---\n",
    "***Q. Why use else in try/except construct in Python?***\n",
    "\n",
    "try: and except: are commonly known for exceptional handling in Python, so where does else: come in handy? else: will be triggered when no exception is raised. \n",
    "\n",
    "Example:\n",
    "\n",
    "Let’s learn more about else: with a couple of examples.\n",
    "\n",
    "1. On the first try, we entered 2 as the numerator and d as the denominator. Which is incorrect, and except: was triggered with “Invalid input!”. \n",
    "\n",
    "2. On the second try, we entered 2 as the numerator and 1 as the denominator and got the result 2. No exception was raised, so it triggered the else: printing the message Division is successful. \n"
   ]
  },
  {
   "cell_type": "code",
   "execution_count": null,
   "metadata": {},
   "outputs": [],
   "source": [
    "try:\n",
    "    num1 = int(input('Enter Numerator: '))\n",
    "    num2 = int(input('Enter Denominator: '))\n",
    "    division = num1/num2\n",
    "    print(f'Result is: {division}')\n",
    "except:\n",
    "    print('Invalid input!')\n",
    "else:\n",
    "    print('Division is successful.')\n",
    "\n",
    "\n",
    "## Try 1 ##\n",
    "# Enter Numerator: 2\n",
    "# Enter Denominator: d\n",
    "# Invalid input!\n",
    "\n",
    "## Try 2 ##\n",
    "# Enter Numerator: 2\n",
    "# Enter Denominator: 1\n",
    "# Result is: 2.0\n",
    "# Division is successful."
   ]
  },
  {
   "cell_type": "markdown",
   "metadata": {},
   "source": [
    "---\n",
    "***Q. What are decorators in Python?***\n",
    "\n",
    "Decorators in Python are a design pattern that allows you to add new functionality to an existing object without modifying its structure. They are commonly used to extend the behavior of functions or methods.\n",
    "\n",
    "Example:"
   ]
  },
  {
   "cell_type": "code",
   "execution_count": 11,
   "metadata": {},
   "outputs": [
    {
     "name": "stdout",
     "output_type": "stream",
     "text": [
      "Something is happening before the function is called.\n",
      "Hello!\n",
      "Something is happening after the function is called.\n"
     ]
    }
   ],
   "source": [
    "def my_decorator(func):\n",
    "    def wrapper():\n",
    "        print(\"Something is happening before the function is called.\")\n",
    "        func()\n",
    "        print(\"Something is happening after the function is called.\")\n",
    "    return wrapper\n",
    "\n",
    "@my_decorator\n",
    "def say_hello():\n",
    "    print(\"Hello!\")\n",
    "\n",
    "say_hello()\n",
    "# Output:\n",
    "# Something is happening before the function is called.\n",
    "# Hello!\n",
    "# Something is happening after the function is called."
   ]
  },
  {
   "cell_type": "markdown",
   "metadata": {},
   "source": [
    "---\n",
    "***Q. What are context managers in Python, and how are they implemented?***\n",
    "\n",
    "Context managers in Python are used to manage resources, ensuring that they are properly acquired and released. The most common use of context managers is the with statement.\n",
    "\n",
    "Example: In this example, the FileManager class is a context manager that ensures the file is properly closed after it is used within the with statement."
   ]
  },
  {
   "cell_type": "code",
   "execution_count": null,
   "metadata": {},
   "outputs": [],
   "source": [
    "class FileManager:\n",
    "    def __init__(self, filename, mode):\n",
    "        self.filename = filename\n",
    "        self.mode = mode\n",
    "    \n",
    "    def __enter__(self):\n",
    "        self.file = open(self.filename, self.mode)\n",
    "        return self.file\n",
    "    \n",
    "    def __exit__(self, exc_type, exc_value, traceback):\n",
    "        self.file.close()\n",
    "\n",
    "with FileManager('test.txt', 'w') as f:\n",
    "    f.write('Hello, world!')"
   ]
  },
  {
   "cell_type": "markdown",
   "metadata": {},
   "source": [
    "---\n",
    "\n",
    "***Q. What are metaclasses in Python, and how do they differ from regular classes?***\n",
    "\n",
    "Metaclasses are classes of classes. They define how classes behave and are created. While regular classes create objects, metaclasses create classes. By using metaclasses, you can modify class definitions, enforce rules, or add functionality during class creation.\n",
    "\n",
    "Example:"
   ]
  },
  {
   "cell_type": "code",
   "execution_count": null,
   "metadata": {},
   "outputs": [],
   "source": [
    "class Meta(type):\n",
    "    def __new__(cls, name, bases, dct):\n",
    "        print(f\"Creating class {name}\")\n",
    "        return super().__new__(cls, name, bases, dct)\n",
    "\n",
    "class MyClass(metaclass=Meta):\n",
    "    pass\n",
    "# Output: Creating class MyClass"
   ]
  },
  {
   "cell_type": "markdown",
   "metadata": {},
   "source": [
    "---\n",
    "\n",
    "***Q. What are the advantages of NumPy over regular Python lists?***\n",
    "\n",
    "**Memory**\n",
    "\n",
    "Numpy arrays consume less memory. \n",
    "\n",
    "For example, if you create a list and a Numpy array of a thousand elements. The list will consume 48K bytes, and the Numpy array will consume 8k bytes of memory.  \n",
    "\n",
    "**Speed**\n",
    "\n",
    "Numpy arrays take less time to perform the operations on arrays than lists. \n",
    "\n",
    "For example, if we are multiplying two lists and two Numpy arrays of 1 million elements together. It took 0.15 seconds for the list and 0.0059 seconds for the array to operate. \n",
    "\n",
    "**Versatility**\n",
    "\n",
    "Numpy arrays are convenient to use as they offer simple array multiple, addition, and a lot more built-in functionality. Whereas Python lists are incapable of running basic operations.\n",
    "\n",
    "---"
   ]
  },
  {
   "cell_type": "markdown",
   "metadata": {},
   "source": [
    "***Q. What is the difference between merge, join, and concatenate?***\n",
    "\n",
    "**Merge**\n",
    "Merge two DataFrames named series objects using the unique column identifier. \n",
    "It requires two DataFrame, a common column in both DataFrame, and “how” you want to join them together. You can left, right, outer, inner, and cross join two data DataFrames. By default, it is an inner join.\n",
    "\n",
    "`pd.merge(df1, df2, how='outer', on='Id')`\n",
    "\n",
    "\n",
    "**Join**\n",
    "Join the DataFrames using the unique index. It requires an optional on argument that can be a column or multiple column names. By default, the join function performs a left join.\n",
    "\n",
    "`df1.join(df2)`\n",
    "\n",
    "**Concatenate**\n",
    "Concatenate joins two or multiple DataFrames along a particular axis (rows or columns). It doesn't require an on argument. \n",
    "\n",
    "`pd.concat(df1,df2)`\n",
    "\n",
    "\n",
    "**join():** combines two DataFrames by index.\n",
    "\n",
    "**merge():** combines two DataFrames by the column or columns you specify.\n",
    "\n",
    "**concat():** combines two or more DataFrames vertically or horizontally.\n",
    "\n",
    "---"
   ]
  },
  {
   "cell_type": "markdown",
   "metadata": {},
   "source": [
    "***Q. How do you identify and deal with missing values?***\n",
    "\n",
    "**Identifying missing values**\n",
    "\n",
    "We can identify missing values in the DataFrame by using the isnull() function and then applying sum(). Isnull() will return boolean values, and the sum will give you the number of missing values in each column. \n",
    "\n",
    "In the example, we have created a dictionary of lists and converted it into a pandas DataFrame. After that, we used isnull().sum() to get the number of missing values in each column.  "
   ]
  },
  {
   "cell_type": "code",
   "execution_count": 15,
   "metadata": {},
   "outputs": [
    {
     "data": {
      "text/plain": [
       "id       1\n",
       "Age      2\n",
       "Score    1\n",
       "dtype: int64"
      ]
     },
     "execution_count": 15,
     "metadata": {},
     "output_type": "execute_result"
    }
   ],
   "source": [
    "import pandas as pd\n",
    "import numpy as np\n",
    "\n",
    "# dictionary of lists\n",
    "dict = {'id':[1, 4, np.nan, 9],\n",
    "        'Age': [30, 45, np.nan, np.nan],\n",
    "        'Score':[np.nan, 140, 180, 198]}\n",
    "\n",
    "# creating a DataFrame\n",
    "df = pd.DataFrame(dict)\n",
    "\n",
    "df.isnull().sum()\n",
    "# id       1\n",
    "# Age      2\n",
    "# Score    1"
   ]
  },
  {
   "cell_type": "markdown",
   "metadata": {},
   "source": [
    "**Dealing with missing values**\n",
    "\n",
    "There are various ways of dealing with missing values. \n",
    "\n",
    "1. Drop the entire row or the columns if it consists of missing values using dropna(). This method is not recommended, as you will lose important information.\n",
    "\n",
    "2. Fill the missing values with the constant, average, backward fill, and forward fill using the fillna() function.\n",
    "\n",
    "3. Replace missing values with a constant String, Integer, or Float using the replace() function.\n",
    "\n",
    "4. Fill in the missing values using an interpolation method. \n",
    "\n",
    "Note: make sure you are working with a larger dataset while using the dropna() function."
   ]
  },
  {
   "cell_type": "code",
   "execution_count": 16,
   "metadata": {},
   "outputs": [
    {
     "name": "stderr",
     "output_type": "stream",
     "text": [
      "C:\\Users\\a42\\AppData\\Local\\Temp\\ipykernel_32092\\2780298335.py:5: FutureWarning: DataFrame.fillna with 'method' is deprecated and will raise in a future version. Use obj.ffill() or obj.bfill() instead.\n",
      "  df.fillna(method ='bfill')\n"
     ]
    },
    {
     "data": {
      "text/html": [
       "<div>\n",
       "<style scoped>\n",
       "    .dataframe tbody tr th:only-of-type {\n",
       "        vertical-align: middle;\n",
       "    }\n",
       "\n",
       "    .dataframe tbody tr th {\n",
       "        vertical-align: top;\n",
       "    }\n",
       "\n",
       "    .dataframe thead th {\n",
       "        text-align: right;\n",
       "    }\n",
       "</style>\n",
       "<table border=\"1\" class=\"dataframe\">\n",
       "  <thead>\n",
       "    <tr style=\"text-align: right;\">\n",
       "      <th></th>\n",
       "      <th>id</th>\n",
       "      <th>Age</th>\n",
       "      <th>Score</th>\n",
       "    </tr>\n",
       "  </thead>\n",
       "  <tbody>\n",
       "    <tr>\n",
       "      <th>0</th>\n",
       "      <td>1.0</td>\n",
       "      <td>30.0</td>\n",
       "      <td>NaN</td>\n",
       "    </tr>\n",
       "    <tr>\n",
       "      <th>1</th>\n",
       "      <td>4.0</td>\n",
       "      <td>45.0</td>\n",
       "      <td>140.0</td>\n",
       "    </tr>\n",
       "    <tr>\n",
       "      <th>2</th>\n",
       "      <td>6.5</td>\n",
       "      <td>45.0</td>\n",
       "      <td>180.0</td>\n",
       "    </tr>\n",
       "    <tr>\n",
       "      <th>3</th>\n",
       "      <td>9.0</td>\n",
       "      <td>45.0</td>\n",
       "      <td>198.0</td>\n",
       "    </tr>\n",
       "  </tbody>\n",
       "</table>\n",
       "</div>"
      ],
      "text/plain": [
       "    id   Age  Score\n",
       "0  1.0  30.0    NaN\n",
       "1  4.0  45.0  140.0\n",
       "2  6.5  45.0  180.0\n",
       "3  9.0  45.0  198.0"
      ]
     },
     "execution_count": 16,
     "metadata": {},
     "output_type": "execute_result"
    }
   ],
   "source": [
    "# drop missing values\n",
    "df.dropna(axis = 0, how ='any')\n",
    "\n",
    "#fillna\n",
    "df.fillna(method ='bfill')\n",
    "\n",
    "#replace null values with -999\n",
    "df.replace(to_replace = np.nan, value = -999)\n",
    "\n",
    "# Interpolate\n",
    "df.interpolate(method ='linear', limit_direction ='forward')"
   ]
  },
  {
   "cell_type": "markdown",
   "metadata": {},
   "source": [
    "---\n",
    "***Q. Which all Python libraries have you used for visualization?***\n",
    "\n",
    "Data visualization is the most important part of data analysis. You get to see your data in action, and it helps you find hidden patterns.\n",
    "\n",
    "The most popular Python data visualization libraries are:\n",
    "\n",
    "1. Matplotlib\n",
    "2. Seaborn\n",
    "3. Plotly\n",
    "4. Bokeh\n",
    "\n",
    "In Python, we generally use Matplotlib and seaborn to display all types of data visualization. With a few lines of code, you can use it to display scatter plot, line plot, box plot, bar chart, and many more. \n",
    "\n",
    "For interactive and more complex applications, we use Plotly. You can use it to create colorful interactive graphs with a few lines of code. You can zoom, apply animation, and even add control functions. Plotly provides more than 40 unique types of charts, and we can even use them to create a web application or dashboard. \n",
    "\n",
    "Bokeh is used for detailed graphics with a high level of interactivity across large datasets.\n",
    "\n",
    "---"
   ]
  },
  {
   "cell_type": "markdown",
   "metadata": {},
   "source": [
    "***Q. How would you normalize or standardize a dataset in Python?***\n",
    "\n",
    "Normalization scales data to a specific range, usually [0, 1], while standardization transforms it to have a mean of 0 and a standard deviation of 1. Both techniques are essential for preparing data for machine learning models.\n",
    "\n",
    "Example:"
   ]
  },
  {
   "cell_type": "code",
   "execution_count": 20,
   "metadata": {},
   "outputs": [
    {
     "name": "stdout",
     "output_type": "stream",
     "text": [
      "[[0.  0. ]\n",
      " [0.5 0.5]\n",
      " [1.  1. ]]\n",
      "[[-1.22474487 -1.22474487]\n",
      " [ 0.          0.        ]\n",
      " [ 1.22474487  1.22474487]]\n"
     ]
    }
   ],
   "source": [
    "from sklearn.preprocessing import MinMaxScaler, StandardScaler\n",
    "import numpy as np\n",
    "\n",
    "data = np.array([[1, 2], [3, 4], [5, 6]])\n",
    "\n",
    "# Normalize\n",
    "normalizer = MinMaxScaler()\n",
    "normalized = normalizer.fit_transform(data)\n",
    "print(normalized)\n",
    "\n",
    "# Standardize\n",
    "scaler = StandardScaler()\n",
    "standardized = scaler.fit_transform(data)\n",
    "print(standardized)"
   ]
  },
  {
   "cell_type": "markdown",
   "metadata": {},
   "source": [
    "---\n",
    "***Q. How can you replace string space with a given character in Python?***\n",
    "\n",
    "It is a simple string manipulation challenge. You have to replace the space with a specific character.  \n",
    "\n",
    "Example 1: A user has provided the string l vey u and the character o, and the output will be loveyou.\n",
    "\n",
    "Example 2: A user has provided the string D t C mpBl ckFrid yS le and the character a, and the output will be DataCampBlackFridaySale.\n",
    "\n",
    "In the str_replace() function, we will loop over each letter of the string and check if it is space or not. If it consists of space, we will replace it with the specific character provided by the user. Finally, we will be returning the modified string. "
   ]
  },
  {
   "cell_type": "code",
   "execution_count": 22,
   "metadata": {},
   "outputs": [
    {
     "data": {
      "text/plain": [
       "'DataCampBlackFridaySale'"
      ]
     },
     "execution_count": 22,
     "metadata": {},
     "output_type": "execute_result"
    }
   ],
   "source": [
    "def str_replace(text, ch):\n",
    "    result = ''\n",
    "    for i in text:\n",
    "        if i == ' ':\n",
    "            i = ch\n",
    "        result += i\n",
    "    return result\n",
    "\n",
    "text = input('Enter text:') #\"D t C mpBl ckFrid yS le\"\n",
    "ch = input('Enter character to be replaced:') #a\n",
    "\n",
    "str_replace(text, ch)"
   ]
  },
  {
   "cell_type": "markdown",
   "metadata": {},
   "source": [
    "---\n",
    "\n",
    "***Q. Given a positive integer num, write a function that returns True if num is a perfect square else False.***\n",
    "\n",
    "This has a relatively straightforward solution. You can check if the number has a perfect square root by:\n",
    "\n",
    "Finding the square root of the number and converting it into an integer.\n",
    "Applying the square to the square root number and checking if it's a perfect square root.\n",
    "Returning the result as a boolean.\n",
    "\n",
    "Test 1  \n",
    "We have provided number 10 to the valid_square() function. \n",
    "\n",
    "1. By taking the square root of the number, we get 3.1622776601683795.\n",
    "2. By converting it into an integer, we get 3.\n",
    "3. Then, take the square of 3 and get 9.\n",
    "4. 9 is not equal to the number, so the function will return False. \n",
    "\n",
    "Test 2\n",
    "We have provided number 36 to the valid_square() function. \n",
    "\n",
    "1. By taking the square root of the number, we get 6.\n",
    "2. By converting it into an integer, we get 6.\n",
    "3. Then, take the square of 6 and get 36.\n",
    "4. 36 is equal to the number, so the function will return True."
   ]
  },
  {
   "cell_type": "code",
   "execution_count": 29,
   "metadata": {},
   "outputs": [
    {
     "data": {
      "text/plain": [
       "True"
      ]
     },
     "execution_count": 29,
     "metadata": {},
     "output_type": "execute_result"
    }
   ],
   "source": [
    "def valid_square(num):\n",
    "    sq_rt = int(num ** 0.5)\n",
    "    if (sq_rt ** 2) == num:\n",
    "        return True\n",
    "    else:\n",
    "        return False\n",
    "\n",
    "valid_square(36)"
   ]
  },
  {
   "cell_type": "markdown",
   "metadata": {},
   "source": [
    "---\n",
    "\n",
    "***Q. Given an integer n, return the number of trailing zeroes in n factorial n!***\n",
    "\n",
    "To pass this challenge, you have to first calculate n factorial (n!) and then calculate the number of training zeros. \n",
    "\n",
    "**Finding factorial**\n",
    "\n",
    "In the first step, we will use a while loop to iterate over the n factorial and stop when the n is equal to 1. \n",
    "\n",
    "**Calculating trailing zeros**\n",
    "\n",
    "In the second step, we will calculate the trailing zero, not the total number of zeros. There is a huge difference. \n",
    "\n",
    "\n",
    "`7! = 5040`\n",
    "\n",
    "The seven factorials have a total of two zeros and only one trailing zero, so our solution should return 1. \n",
    "\n",
    "1. Convert the factorial number to a string.\n",
    "2. Read it back and apply for a loop.\n",
    "3. If the number is 0, add +1 to the result, otherwise break the loop.\n",
    "4. Returns the result.\n",
    "\n",
    "The solution is elegant but requires attention to detail. "
   ]
  },
  {
   "cell_type": "code",
   "execution_count": 41,
   "metadata": {},
   "outputs": [
    {
     "name": "stdout",
     "output_type": "stream",
     "text": [
      "Factorial of 7 is 5040\n",
      "Total number of trailing zeros is 1.\n"
     ]
    }
   ],
   "source": [
    "def factorial_trailing_zeros(n):\n",
    "    number = n\n",
    "    fact = n\n",
    "    while n > 1:\n",
    "        fact *= n-1\n",
    "        n -= 1\n",
    "     \n",
    "    print(f'Factorial of {number} is {fact}')\n",
    "\n",
    "    result = 0\n",
    "\n",
    "    for i in str(fact)[::-1]:\n",
    "        if i == '0':\n",
    "            result += 1\n",
    "        else:\n",
    "            break\n",
    "\n",
    "    return result\n",
    "\n",
    "res = factorial_trailing_zeros(7)\n",
    "print(f'Total number of trailing zeros is {res}.')"
   ]
  },
  {
   "cell_type": "markdown",
   "metadata": {},
   "source": [
    "---\n",
    "***Q. Can the String Be Split into Dictionary Words?***\n",
    "\n",
    "You are provided with a large string and a dictionary of the words. You have to find if the input string can be segmented into words using the dictionary or not.  \n",
    "\n",
    "The solution is reasonably straightforward. You have to segment a large string at each point and check if the string can be segmented to the words in the dictionary.\n",
    "\n",
    "1. Run the loop using the length of the large string.\n",
    "2. We will create two substrings. \n",
    "3. The first substring will check each point in the large string from s[0:i]\n",
    "4. If the first substring is not in the dictionary, it will return False.\n",
    "5. If the first substring is in the dictionary, it will create the second substring using s[i:0].\n",
    "6. If the second substring is in the dictionary or the second substring is of zero length, then return True. Recursively call can_segment_str() with the second substring and return True if it can be segmented. "
   ]
  },
  {
   "cell_type": "code",
   "execution_count": 45,
   "metadata": {},
   "outputs": [
    {
     "data": {
      "text/plain": [
       "True"
      ]
     },
     "execution_count": 45,
     "metadata": {},
     "output_type": "execute_result"
    }
   ],
   "source": [
    "def can_segment_str(s, dictionary):\n",
    "    for i in range(1, len(s) + 1):\n",
    "        first_str = s[0:i]\n",
    "        if first_str in dictionary:\n",
    "            second_str = s[i:]\n",
    "            if (\n",
    "                not second_str\n",
    "                or second_str in dictionary\n",
    "                or can_segment_str(second_str, dictionary)\n",
    "            ):\n",
    "                return True\n",
    "    return False\n",
    "\n",
    "\n",
    "s = \"datacamp\"\n",
    "dictionary = [\"data\", \"camp\", \"cam\", \"lack\"]\n",
    "can_segment_str(s, dictionary)\n",
    "# True"
   ]
  },
  {
   "cell_type": "markdown",
   "metadata": {},
   "source": [
    "---\n",
    "\n",
    "***Q. Can you remove duplicates from a sorted array?***\n",
    "\n",
    "Given an integer sorted array in increasing order, remove the duplicate numbers such that each unique element appears only once. Make sure you keep the final order of the array the same.\n",
    "\n",
    "It is impossible to change the length of the array in Python, so we will place the result in the first part of the array. After removing duplicates, we will have k elements, and the first k elements in the array should hold the results. \n",
    "\n",
    "Example 1: input array is [1,1,2,2], the function should return 2. \n",
    "\n",
    "Example 2: input array is [1,1,2,3,3], the function should return 3.\n",
    "\n",
    "Solution:\n",
    "\n",
    "1. Run the loop for the range of 1 to the size of the array.\n",
    "2. Check if the previous number is unique or not. We are comparing previous elements with the current one.  \n",
    "3. If it is unique, update the array using insertIndex, which is 1 at the start, and add +1 to the insertIndex. \n",
    "4. Return insertIndex as it is the k. \n",
    "\n",
    "This question is relatively straightforward once you know how. If you put more time into understanding the statement, you can easily come up with a solution. "
   ]
  },
  {
   "cell_type": "code",
   "execution_count": 48,
   "metadata": {},
   "outputs": [
    {
     "data": {
      "text/plain": [
       "3"
      ]
     },
     "execution_count": 48,
     "metadata": {},
     "output_type": "execute_result"
    }
   ],
   "source": [
    "def sort_array(arr):\n",
    "    insertIndex = 1\n",
    "    for i in range(1, len(arr)):\n",
    "        if arr[i] != arr[i - 1]:\n",
    "            insertIndex += 1\n",
    "    return insertIndex\n",
    "\n",
    "sort_array([1,1,2,2,3])"
   ]
  },
  {
   "cell_type": "code",
   "execution_count": 49,
   "metadata": {},
   "outputs": [
    {
     "data": {
      "text/plain": [
       "5"
      ]
     },
     "execution_count": 49,
     "metadata": {},
     "output_type": "execute_result"
    }
   ],
   "source": [
    "def removeDuplicates(array):\n",
    "    size = len(array)\n",
    "    insertIndex = 1\n",
    "    for i in range(1, size):\n",
    "        if array[i - 1] != array[i]:\n",
    "            # Updating insertIndex in our main array\n",
    "            array[insertIndex] = array[i]\n",
    "            # Incrementing insertIndex count by 1\n",
    "            insertIndex = insertIndex + 1\n",
    "    return insertIndex\n",
    "\n",
    "array_1 = [1,2,2,3,3,4]\n",
    "removeDuplicates(array_1)\n",
    "# 4\n",
    "\n",
    "array_2 = [1,1,3,4,5,6,6]\n",
    "removeDuplicates(array_2)\n",
    "# 5"
   ]
  },
  {
   "cell_type": "markdown",
   "metadata": {},
   "source": [
    "---\n",
    "***Q. Can you find the missing number in the array?***\n",
    "\n",
    "You have been provided with the list of positive integers from 1 to n. All the numbers from 1 to n are present except x, and you must find x. \n",
    "\n",
    "Example:\n",
    "n = 8 \n",
    "\n",
    "missing number = 7\n",
    "\n",
    "This question is a simple math problem.\n",
    "1. Find the sum of all elements in the list.\n",
    "2. By using arithmetic series sum formula, we will find the expected sum of the first n numbers. \n",
    "3. Return the difference between the expected sum and the sum of the elements."
   ]
  },
  {
   "cell_type": "code",
   "execution_count": 53,
   "metadata": {},
   "outputs": [
    {
     "data": {
      "text/plain": [
       "4"
      ]
     },
     "execution_count": 53,
     "metadata": {},
     "output_type": "execute_result"
    }
   ],
   "source": [
    "def find_missing(input_list):\n",
    "    sum_of_numbers = sum(input_list)\n",
    "\n",
    "    # There is exactly 1 number missing\n",
    "    n = len(input_list) + 1\n",
    "    actual_sum = (n * (n + 1)) / 2\n",
    "\n",
    "    return int(actual_sum - sum_of_numbers)\n",
    "\n",
    "\n",
    "list_1 = [1, 2, 3, 5]\n",
    "\n",
    "find_missing(list_1)"
   ]
  },
  {
   "cell_type": "markdown",
   "metadata": {},
   "source": [
    "---\n",
    "\n",
    "***Q. Write a Python function to determine if a given string is a palindrome.***\n",
    "\n",
    "A string is a palindrome if it reads the same forward and backward.\n",
    "\n",
    "Example:"
   ]
  },
  {
   "cell_type": "code",
   "execution_count": 54,
   "metadata": {},
   "outputs": [
    {
     "name": "stdout",
     "output_type": "stream",
     "text": [
      "True\n",
      "False\n"
     ]
    }
   ],
   "source": [
    "def is_palindrome(s):\n",
    "    s = ''.join(e for e in s if e.isalnum()).lower()  # Remove non-alphanumeric and convert to lowercase\n",
    "    return s == s[::-1]\n",
    "\n",
    "print(is_palindrome(\"A man, a plan, a canal: Panama\"))  # Output: True\n",
    "print(is_palindrome(\"hello\"))  # Output: False"
   ]
  },
  {
   "cell_type": "markdown",
   "metadata": {},
   "source": [
    "---\n",
    "***Q. Can you find the maximum single sell profit?***\n",
    "\n",
    "You are provided with the list of stock prices, and you have to return the buy and sell price to make the highest profit. \n",
    "\n",
    "Note: We have to make maximum profit from a single buy/sell, and if we can’t make a profit, we have to reduce our losses. \n",
    "\n",
    "Example 1: stock_price = [8, 4, 12, 9, 20, 1], buy = 4, and sell = 20. Maximizing the profit. \n",
    "\n",
    "Example 2: stock_price = [8, 6, 5, 4, 3, 2, 1], buy = 6, and sell = 5. Minimizing the loss.\n",
    "\n",
    "Solution:\n",
    "\n",
    "1. We will calculate the global profit by subtracting global sell (the first element in the list) from current buy (the second element in the list). \n",
    "2. Run the loop for the range of 1 to the length of the list. \n",
    "3. Within the loop, calculate the current profit using list elements and current buy value. \n",
    "4. If the current profit is greater than the global profit, change the global profit with the current profit and global sell to the i element of the list.\n",
    "5. If the current buy is greater than the current element of the list, change the current buy with the current element of the list. \n",
    "6. In the end, we will return global buy and sell value. To get global buy value, we will subtract global sell from global profit.\n",
    "\n",
    "The question is a bit tricky, and you can come up with your unique algorithm to solve the problems. "
   ]
  },
  {
   "cell_type": "code",
   "execution_count": 56,
   "metadata": {},
   "outputs": [
    {
     "data": {
      "text/plain": [
       "(6, 5)"
      ]
     },
     "execution_count": 56,
     "metadata": {},
     "output_type": "execute_result"
    }
   ],
   "source": [
    "def buy_sell_stock_prices(stock_prices):\n",
    "    current_buy = stock_prices[0]\n",
    "    global_sell = stock_prices[1]\n",
    "    global_profit = global_sell - current_buy\n",
    "\n",
    "    for i in range(1, len(stock_prices)):\n",
    "        current_profit = stock_prices[i] - current_buy\n",
    "\n",
    "        if current_profit > global_profit:\n",
    "            global_profit = current_profit\n",
    "            global_sell = stock_prices[i]\n",
    "\n",
    "        if current_buy > stock_prices[i]:\n",
    "            current_buy = stock_prices[i]\n",
    "\n",
    "    return global_sell - global_profit, global_sell\n",
    "\n",
    "stock_prices_1 = [10,9,16,17,19,23]\n",
    "buy_sell_stock_prices(stock_prices_1)\n",
    "# (9, 23)\n",
    "\n",
    "\n",
    "stock_prices_2 = [8, 6, 5, 4, 3, 2, 1]\n",
    "buy_sell_stock_prices(stock_prices_2)\n",
    "# (6, 5)"
   ]
  },
  {
   "cell_type": "markdown",
   "metadata": {},
   "source": [
    "---\n",
    "***Q. Can you find a Pythagorean triplet in an array?***\n",
    "\n",
    "Write a function that returns True if there is a Pythagorean triplet that satisfies a2 + b2 = c2.\n",
    "\n",
    "Example:\n",
    "\n",
    "Input: [3, 1, 4, 6, 5] \n",
    "\n",
    "Output: True\n",
    "\n",
    "Input: [10, 4, 6, 12, 5] \n",
    "\n",
    "Output: False \n",
    "\n",
    "Solution:\n",
    "\n",
    "1. Square all the elements in the array.\n",
    "\n",
    "2. Sort the array in increasing order.\n",
    "\n",
    "3. Run two loops. The outer loop starts from the last index of the array to 1, and the inner loop starts from (outer_loop_index - 1) to the start.\n",
    "\n",
    "4. Create set() to store the elements between outer loop index and inner loop index.\n",
    "\n",
    "5. Check if there is a number present in the set which is equal to (array[outerLoopIndex] – array[innerLoopIndex]). If yes, return True, else False. "
   ]
  },
  {
   "cell_type": "code",
   "execution_count": null,
   "metadata": {},
   "outputs": [],
   "source": [
    "def checkTriplet(array):\n",
    "    n = len(array) #5\n",
    "    for i in range(n):\n",
    "        array[i] = array[i]**2  #[9, 4, 16, 36, 25]\n",
    "\n",
    "    array.sort() #[4, 9, 16, 25, 36]\n",
    "\n",
    "    for i in range(n - 1, 1, -1): #range(4,1,-1)\n",
    "        s = set()\n",
    "        for j in range(i - 1, -1, -1): #range(3,-1,-1)\n",
    "            if (array[i] - array[j]) in s: # 25 - 16 = 9\n",
    "                return True\n",
    "            s.add(array[j]) # 25, 16\n",
    "    return False\n",
    "\n",
    "arr = [3, 2, 4, 6, 5]\n",
    "checkTriplet(arr)\n",
    "# True"
   ]
  },
  {
   "cell_type": "markdown",
   "metadata": {},
   "source": [
    "---\n",
    "***Q. How many ways can you make change with coins and a total amount?***\n",
    "\n",
    "We need to create a function that takes a list of coin denominations and total amounts and returns the number of ways we can make the change. \n",
    "\n",
    "In the example, we have provided coin denominations [1, 2, 5] and the total amount of 5. In return, we got five ways we can make the change. \n",
    "\n",
    "Solution:\n",
    "\n",
    "1. We will create the list of size amount + 1. Additional spaces are added to store the solution for a zero amount.\n",
    "\n",
    "2. We will initiate a solution list with 1.\n",
    "\n",
    "3. We will run two loops. The outer loop will return the number of denominations, and the inner loop will run from the range of the outer loop index to the amount +1.\n",
    "\n",
    "4. The results of different denominations are stored in the array solution. solution[i] = solution[i] + solution[i - den]\n",
    "\n",
    "5. The process will be repeated for all the elements in the denomination list, and at the last element of the solution list, we will have our number."
   ]
  },
  {
   "cell_type": "code",
   "execution_count": 57,
   "metadata": {},
   "outputs": [
    {
     "data": {
      "text/plain": [
       "4"
      ]
     },
     "execution_count": 57,
     "metadata": {},
     "output_type": "execute_result"
    }
   ],
   "source": [
    "def solve_coin_change(denominations, amount):\n",
    "    solution = [0] * (amount + 1)\n",
    "    solution[0] = 1\n",
    "    for den in denominations:\n",
    "        for i in range(den, amount + 1):\n",
    "            solution[i] += solution[i - den]\n",
    "\n",
    "    return solution[len(solution) - 1]\n",
    "\n",
    "denominations = [1,2,5]\n",
    "amount = 5\n",
    "\n",
    "solve_coin_change(denominations,amount)\n",
    "# 4"
   ]
  },
  {
   "cell_type": "markdown",
   "metadata": {},
   "source": [
    "---\n",
    "***Q. Define a lambda function, an iterator, and a generator in Python.***\n",
    "\n",
    "The Lambda function is also known as an anonymous function. You can add any number of parameters but with only one statement. \n",
    "\n",
    "An iterator is an object that we can use to iterate over iterable objects like lists, dictionaries, tuples, and sets.\n",
    "\n",
    "The generator is a function similar to a normal function, but it generates a value using the yield keyword instead of return. If the function body contains yield, it automatically becomes a generator.\n",
    "\n",
    "---"
   ]
  },
  {
   "cell_type": "markdown",
   "metadata": {},
   "source": [
    "***Q. Given an array arr[], find the maximum j – i such that arr[j] > arr[i]***\n",
    "\n",
    "This question is quite straightforward but requires special attention to detail. We are provided with an array of positive integers. We have to find the maximum difference between j-i where array[j] > array[i].\n",
    "\n",
    "Examples:\n",
    "\n",
    "1. Input: [20, 70, 40, 50, 12, 38, 98], Output: 6  (j = 6, i = 0)\n",
    "2. Input: [10, 3, 2, 4, 5, 6, 7, 8, 18, 0], Output: 8 ( j = 8, i = 0)\n",
    "\n",
    "Solution: \n",
    "\n",
    "1. Calculate the length of the array and initiate max difference with -1.\n",
    "2. Run two loops. The outer loop picks elements from the left, and the inner loop compares the picked elements with elements starting from the right side. \n",
    "3. Stop the inner loop when the element is greater than the picked element and keep updating the maximum difference using j - I. "
   ]
  },
  {
   "cell_type": "code",
   "execution_count": 58,
   "metadata": {},
   "outputs": [
    {
     "data": {
      "text/plain": [
       "6"
      ]
     },
     "execution_count": 58,
     "metadata": {},
     "output_type": "execute_result"
    }
   ],
   "source": [
    "def max_index_diff(array):\n",
    "    n = len(array)\n",
    "    max_diff = -1\n",
    "    for i in range(0, n):\n",
    "        j = n - 1\n",
    "        while(j > i):\n",
    "            if array[j] > array[i] and max_diff < (j - i):\n",
    "                max_diff = j - i\n",
    "            j -= 1\n",
    "\n",
    "    return max_diff\n",
    "\n",
    "array_1 = [20,70,40,50,12,38,98]\n",
    "\n",
    "max_index_diff(array_1)\n",
    "# 6"
   ]
  },
  {
   "cell_type": "markdown",
   "metadata": {},
   "source": [
    "---\n",
    "***Q. How would you use the ternary operators in Python?***\n",
    "\n",
    "Ternary operators are also known as conditional expressions. They are operators that evaluate expression based on conditions being True and False.\n",
    "\n",
    "You can write conditional expressions in a single line instead of writing using multiple lines of if-else statements. It allows you to write clean and compact code. \n",
    "\n",
    "For example, we can convert nested if-else statements into one line, as shown below. \n",
    "\n",
    "If-else statement"
   ]
  },
  {
   "cell_type": "code",
   "execution_count": 59,
   "metadata": {},
   "outputs": [
    {
     "name": "stdout",
     "output_type": "stream",
     "text": [
      "Distinction\n"
     ]
    }
   ],
   "source": [
    "score = 75\n",
    "\n",
    "if score < 70:\n",
    "    if score < 50:\n",
    "        print('Fail')\n",
    "    else:\n",
    "        print('Merit')\n",
    "else:\n",
    "    print('Distinction')\n",
    "# Distinction"
   ]
  },
  {
   "cell_type": "code",
   "execution_count": 60,
   "metadata": {},
   "outputs": [
    {
     "name": "stdout",
     "output_type": "stream",
     "text": [
      "Distinction\n"
     ]
    }
   ],
   "source": [
    "# Nested Ternary Operator\n",
    "\n",
    "print('Fail' if score < 50 else 'Merit' if score < 70 else 'Distinction')\n",
    "# Distinction"
   ]
  },
  {
   "cell_type": "markdown",
   "metadata": {},
   "source": [
    "---\n",
    "***Q. How would you implement an LRU Cache in Python?***\n",
    "\n",
    "Python provides a built-in functools. lru_cache decorator to implement an LRU (Least Recently Used) cache. Alternatively, you can create one manually using the OrderedDict from collections.\n",
    "\n",
    "Example using functools:"
   ]
  },
  {
   "cell_type": "code",
   "execution_count": 61,
   "metadata": {},
   "outputs": [
    {
     "name": "stdout",
     "output_type": "stream",
     "text": [
      "3\n",
      "3\n"
     ]
    }
   ],
   "source": [
    "from functools import lru_cache\n",
    "\n",
    "@lru_cache(maxsize=3)\n",
    "def add(a, b):\n",
    "    return a + b\n",
    "\n",
    "print(add(1, 2))  # Calculates and caches result\n",
    "print(add(1, 2))  # Retrieves result from cache"
   ]
  },
  {
   "cell_type": "markdown",
   "metadata": {},
   "source": [
    "---\n",
    "***Debugging a Python Program***\n",
    "\n",
    "By using this command we can debug a python program\n",
    "\n",
    "python -m pdb python-script.py\n",
    "\n",
    "---"
   ]
  },
  {
   "cell_type": "markdown",
   "metadata": {},
   "source": [
    "***Yield Keyword in Python***\n",
    "\n",
    "The keyword in Python can turn any function into a generator. Yields work like a standard return keyword."
   ]
  },
  {
   "cell_type": "code",
   "execution_count": 2,
   "metadata": {},
   "outputs": [
    {
     "name": "stdout",
     "output_type": "stream",
     "text": [
      "S M\n"
     ]
    }
   ],
   "source": [
    "def days(index):\n",
    "    day = ['S','M','T','W','Tr','F','St']\n",
    "    yield day[index]   \n",
    "    yield day[index+1]\n",
    "  \n",
    "res = days(0)\n",
    "print(next(res), next(res))"
   ]
  },
  {
   "cell_type": "markdown",
   "metadata": {},
   "source": [
    "---\n",
    "***Converting a List into a String***\n",
    "\n",
    "When we want to convert a list into a string, we can use the <.join()> method which joins all the elements into one and returns as a string."
   ]
  },
  {
   "cell_type": "code",
   "execution_count": 3,
   "metadata": {},
   "outputs": [
    {
     "name": "stdout",
     "output_type": "stream",
     "text": [
      "S M T W Tr F St\n"
     ]
    }
   ],
   "source": [
    "days = ['S','M','T','W','Tr','F','St']\n",
    "ltos = ' '.join(days)\n",
    "print(ltos)"
   ]
  },
  {
   "cell_type": "markdown",
   "metadata": {},
   "source": [
    "---\n",
    "***Converting a List into a Tuple***\n",
    "\n",
    "By using Python <tuple()> function we can convert a list into a tuple. But we can’t change the list after turning it into tuple, because it becomes immutable.\n"
   ]
  },
  {
   "cell_type": "code",
   "execution_count": 4,
   "metadata": {},
   "outputs": [
    {
     "name": "stdout",
     "output_type": "stream",
     "text": [
      "('S', 'M', 'T', 'W', 'Tr', 'F', 'St')\n"
     ]
    }
   ],
   "source": [
    "days = ['S','M','T','W','Tr','F','St']\n",
    "ltos = tuple(days)\n",
    "print(ltos)"
   ]
  },
  {
   "cell_type": "markdown",
   "metadata": {},
   "source": [
    "---\n",
    "***Converting a List into a Set***\n",
    "\n",
    "User can convert list into set by using <set()> function."
   ]
  },
  {
   "cell_type": "code",
   "execution_count": 5,
   "metadata": {},
   "outputs": [
    {
     "name": "stdout",
     "output_type": "stream",
     "text": [
      "{'W', 'St', 'M', 'F', 'S', 'T', 'Tr'}\n"
     ]
    }
   ],
   "source": [
    "days = ['S','M','T','W','Tr','F','St']\n",
    "ltos = set(days)\n",
    "print(ltos)"
   ]
  },
  {
   "cell_type": "markdown",
   "metadata": {},
   "source": [
    "---\n",
    "***Counting the occurrences of a particular element in the list***\n",
    "\n",
    "We can count the occurrences of an individual element by using a <count()> function."
   ]
  },
  {
   "cell_type": "code",
   "execution_count": 7,
   "metadata": {},
   "outputs": [
    {
     "name": "stdout",
     "output_type": "stream",
     "text": [
      "3\n"
     ]
    }
   ],
   "source": [
    "days = ['S','M','W', 'M','M','F','S']\n",
    "\n",
    "print(days.count('M'))"
   ]
  },
  {
   "cell_type": "markdown",
   "metadata": {},
   "source": [
    "---\n",
    "***Counting the occurrences of elements in the list***\n"
   ]
  },
  {
   "cell_type": "code",
   "execution_count": 11,
   "metadata": {},
   "outputs": [
    {
     "name": "stdout",
     "output_type": "stream",
     "text": [
      "[['F', 1], ['S', 2], ['M', 3]]\n",
      "['F', 1]\n",
      "['S', 2]\n",
      "['M', 3]\n"
     ]
    }
   ],
   "source": [
    "days = ['S','M','M','M','F','S']\n",
    "y = set(days)\n",
    "\n",
    "print([[x,days.count(x)] for x in y])\n",
    "\n",
    "for j in y:\n",
    "    print([j, days.count(j)])"
   ]
  },
  {
   "cell_type": "markdown",
   "metadata": {},
   "source": [
    "---\n",
    "***Creating a NumPy Array in Python***\n",
    "\n",
    "NumPy arrays are more flexible then lists in Python."
   ]
  },
  {
   "cell_type": "code",
   "execution_count": 12,
   "metadata": {},
   "outputs": [
    {
     "name": "stdout",
     "output_type": "stream",
     "text": [
      "[1 2 3 4 5]\n",
      "<class 'numpy.ndarray'>\n"
     ]
    }
   ],
   "source": [
    "import numpy as np\n",
    "\n",
    "arr = np.array([1, 2, 3, 4, 5])\n",
    "\n",
    "print(arr)\n",
    "print(type(arr))"
   ]
  },
  {
   "cell_type": "markdown",
   "metadata": {},
   "source": [
    "---\n",
    "***Implement a LRU (Least Recently Used) Cache***"
   ]
  },
  {
   "cell_type": "code",
   "execution_count": 23,
   "metadata": {},
   "outputs": [
    {
     "name": "stdout",
     "output_type": "stream",
     "text": [
      "1\n",
      "<__main__.LRUCache object at 0x00000277E2D2C830>\n",
      "-1\n",
      "3\n",
      "3\n"
     ]
    }
   ],
   "source": [
    "from collections import OrderedDict\n",
    "\n",
    "class LRUCache:\n",
    "    #The LRUCache class has an __init__ method that initializes the cache with a specified capacity. \n",
    "    # It creates an empty OrderedDict to store the cache items and sets the capacity to the given value.\n",
    "    def __init__(self, capacity: int):\n",
    "        self.cache = OrderedDict()\n",
    "        self.capacity = capacity\n",
    "\n",
    "    # The get method retrieves the value associated with a given key. If the key is not present in the cache, it returns -1. \n",
    "    # If the key is found, it moves the key to the end of the OrderedDict to mark it as recently used \n",
    "    # and returns the corresponding value.\n",
    "    def get(self, key: int) -> int:\n",
    "        if key not in self.cache:\n",
    "            return -1\n",
    "        else:\n",
    "            self.cache.move_to_end(key)\n",
    "            return self.cache[key]\n",
    "\n",
    "    # The put method inserts a key-value pair into the cache. \n",
    "    # If the key already exists, it updates the value and moves the key to the end of the OrderedDict to mark it as recently used.\n",
    "    #  If the cache exceeds its capacity after the insertion, the method removes the least recently used item, which is the first item in the OrderedDict.\n",
    "    def put(self, key: int, value: int) -> None:\n",
    "        if key in self.cache:\n",
    "            self.cache.move_to_end(key)\n",
    "        self.cache[key] = value\n",
    "        if len(self.cache) > self.capacity:\n",
    "            self.cache.popitem(last = False)\n",
    "\n",
    "# Example usage:\n",
    "lru = LRUCache(2)\n",
    "lru.put(1, 1)\n",
    "lru.put(2, 2)\n",
    "print(lru.get(1)) \n",
    "lru.put(3, 3)\n",
    "print(lru)\n",
    "print(lru.get(2))\n",
    "print(lru.get(3))\n",
    "lru.put(4,4)\n",
    "print(lru.get(3))"
   ]
  },
  {
   "cell_type": "markdown",
   "metadata": {},
   "source": [
    "***How can I implement an LRU cache in Python without using the collections module?***\n",
    "\n",
    "You can implement an LRU cache in Python without using the collections module by using a \n",
    "combination of a dictionary and a doubly linked list. The dictionary will store the key-value pairs for O(1) access,\n",
    "and the doubly linked list will maintain the order of usage for O(1) insertion and deletion.\n",
    "\n",
    "Here is an implementation:\n",
    "\n"
   ]
  },
  {
   "cell_type": "code",
   "execution_count": 24,
   "metadata": {},
   "outputs": [
    {
     "name": "stdout",
     "output_type": "stream",
     "text": [
      "1\n",
      "-1\n",
      "3\n",
      "-1\n",
      "3\n",
      "4\n"
     ]
    }
   ],
   "source": [
    "class Node:\n",
    "    def __init__(self, key: int, value: int):\n",
    "        self.key = key\n",
    "        self.value = value\n",
    "        self.prev = None\n",
    "        self.next = None\n",
    "\n",
    "class LRUCache:\n",
    "    def __init__(self, capacity: int):\n",
    "        self.capacity = capacity\n",
    "        self.cache = {}  # Dictionary to store key-node pairs\n",
    "        self.head = Node(0, 0)  # Dummy head\n",
    "        self.tail = Node(0, 0)  # Dummy tail\n",
    "        self.head.next = self.tail\n",
    "        self.tail.prev = self.head\n",
    "\n",
    "    def _remove(self, node: Node):\n",
    "        prev_node = node.prev\n",
    "        next_node = node.next\n",
    "        prev_node.next = next_node\n",
    "        next_node.prev = prev_node\n",
    "\n",
    "    def _add(self, node: Node):\n",
    "        prev_tail = self.tail.prev\n",
    "        prev_tail.next = node\n",
    "        node.prev = prev_tail\n",
    "        node.next = self.tail\n",
    "        self.tail.prev = node\n",
    "\n",
    "    def get(self, key: int) -> int:\n",
    "        if key in self.cache:\n",
    "            node = self.cache[key]\n",
    "            self._remove(node)\n",
    "            self._add(node)\n",
    "            return node.value\n",
    "        return -1\n",
    "\n",
    "    def put(self, key: int, value: int) -> None:\n",
    "        if key in self.cache:\n",
    "            self._remove(self.cache[key])\n",
    "        node = Node(key, value)\n",
    "        self._add(node)\n",
    "        self.cache[key] = node\n",
    "        if len(self.cache) > self.capacity:\n",
    "            lru = self.head.next\n",
    "            self._remove(lru)\n",
    "            del self.cache[lru.key]\n",
    "\n",
    "# Example usage:\n",
    "lru = LRUCache(2)\n",
    "lru.put(1, 1)\n",
    "lru.put(2, 2)\n",
    "print(lru.get(1))  # Output: 1\n",
    "lru.put(3, 3)\n",
    "print(lru.get(2))  # Output: -1 (2 was evicted)\n",
    "print(lru.get(3))  # Output: 3\n",
    "lru.put(4, 4)\n",
    "print(lru.get(1))  # Output: -1 (1 was evicted)\n",
    "print(lru.get(3))  # Output: 3\n",
    "print(lru.get(4))  # Output: 4"
   ]
  },
  {
   "cell_type": "markdown",
   "metadata": {},
   "source": [
    "---\n",
    "***Find the Longest Substring Without Repeating Characters***"
   ]
  },
  {
   "cell_type": "code",
   "execution_count": 28,
   "metadata": {},
   "outputs": [
    {
     "name": "stdout",
     "output_type": "stream",
     "text": [
      "3\n"
     ]
    }
   ],
   "source": [
    "def length_of_longest_substring(s: str) -> int:\n",
    "    char_index_map = {}\n",
    "    start = max_length = 0\n",
    "\n",
    "    # It uses a sliding window approach combined with a hash map to efficiently track the characters and their positions.\n",
    "    for i, char in enumerate(s):\n",
    "        if char in char_index_map and char_index_map[char] >= start:\n",
    "            start = char_index_map[char] + 1\n",
    "        char_index_map[char] = i\n",
    "        max_length = max(max_length, i - start + 1)\n",
    "\n",
    "    return max_length\n",
    "\n",
    "# Example usage:\n",
    "print(length_of_longest_substring(\"abcabcbb\"))\n"
   ]
  },
  {
   "cell_type": "code",
   "execution_count": 27,
   "metadata": {},
   "outputs": [
    {
     "name": "stdout",
     "output_type": "stream",
     "text": [
      "Index 0: Abhinav\n",
      "Index 1: Aakanksha\n",
      "[(0, 'Abhinav'), (1, 'Aakanksha')]\n"
     ]
    }
   ],
   "source": [
    "a = ['Abhinav', 'Aakanksha']\n",
    "\n",
    "for i, name in enumerate(a):\n",
    "    print(f\"Index {i}: {name}\")\n",
    "\n",
    "# Converting to a list of tuples\n",
    "print(list(enumerate(a)))"
   ]
  },
  {
   "cell_type": "markdown",
   "metadata": {},
   "source": [
    "---\n",
    "***Find the Kth Largest Element in an Array***\n"
   ]
  },
  {
   "cell_type": "code",
   "execution_count": 29,
   "metadata": {},
   "outputs": [
    {
     "name": "stdout",
     "output_type": "stream",
     "text": [
      "5\n"
     ]
    }
   ],
   "source": [
    "import heapq\n",
    "\n",
    "def find_kth_largest(nums: list, k: int) -> int:\n",
    "    return heapq.nlargest(k, nums)[-1]\n",
    "\n",
    "# Example usage:\n",
    "print(find_kth_largest([3, 2, 1, 5, 6, 4], 2))"
   ]
  },
  {
   "cell_type": "markdown",
   "metadata": {},
   "source": [
    "---\n",
    "***Detect a Cycle in a Linked List***\n"
   ]
  },
  {
   "cell_type": "code",
   "execution_count": 30,
   "metadata": {},
   "outputs": [
    {
     "name": "stdout",
     "output_type": "stream",
     "text": [
      "True\n"
     ]
    }
   ],
   "source": [
    "class ListNode:\n",
    "    def __init__(self, value=0, next=None):\n",
    "        self.value = value\n",
    "        self.next = next\n",
    "\n",
    "def has_cycle(head: ListNode) -> bool:\n",
    "    slow = fast = head\n",
    "    while fast and fast.next:\n",
    "        slow = slow.next\n",
    "        fast = fast.next.next\n",
    "        if slow == fast:\n",
    "            return True\n",
    "    return False\n",
    "\n",
    "# Example usage:\n",
    "# Creating a linked list with a cycle for demonstration:\n",
    "node1 = ListNode(1)\n",
    "node2 = ListNode(2)\n",
    "node3 = ListNode(3)\n",
    "node1.next = node2\n",
    "node2.next = node3\n",
    "node3.next = node1  # Cycle here\n",
    "print(has_cycle(node1))"
   ]
  },
  {
   "cell_type": "markdown",
   "metadata": {},
   "source": [
    "1st iteration\n",
    "slow = fast = node1\n",
    "slow = node2\n",
    "fast = node3\n",
    "\n",
    "2nd:\n",
    "slow = node3\n",
    "fast = node2\n",
    "\n",
    "3rd:\n",
    "slow = node1\n",
    "fast = node1\n"
   ]
  },
  {
   "cell_type": "markdown",
   "metadata": {},
   "source": [
    "---\n",
    "***Serialize and Deserialize a Binary Tree***"
   ]
  },
  {
   "cell_type": "code",
   "execution_count": null,
   "metadata": {},
   "outputs": [],
   "source": [
    "\n",
    "class TreeNode:\n",
    "    def __init__(self, val=0, left=None, right=None):\n",
    "        self.val = val\n",
    "        self.left = left\n",
    "        self.right = right\n",
    "\n",
    "class Codec:\n",
    "    def serialize(self, root: TreeNode) -> str:\n",
    "        def dfs(node):\n",
    "            if not node:\n",
    "                result.append(\"None\")\n",
    "            else:\n",
    "                result.append(str(node.val))\n",
    "                dfs(node.left)\n",
    "                dfs(node.right)\n",
    "        result = []\n",
    "        dfs(root)\n",
    "        return ','.join(result)\n",
    "\n",
    "    def deserialize(self, data: str) -> TreeNode:\n",
    "        def dfs():\n",
    "            val = next(values)\n",
    "            if val == \"None\":\n",
    "                return None\n",
    "            node = TreeNode(int(val))\n",
    "            node.left = dfs()\n",
    "            node.right = dfs()\n",
    "            return node\n",
    "        values = iter(data.split(','))\n",
    "        return dfs()\n",
    "\n",
    "# Example usage:\n",
    "codec = Codec()\n",
    "tree = TreeNode(1, TreeNode(2), TreeNode(3, TreeNode(4), TreeNode(5)))\n",
    "serialized = codec.serialize(tree)\n",
    "print(serialized) \n",
    "deserialized = codec.deserialize(serialized)"
   ]
  },
  {
   "cell_type": "markdown",
   "metadata": {},
   "source": [
    "---\n",
    "***Find the Longest Consecutive Sequence in an Unsorted List***\n",
    "\n",
    "Problem: Given an unsorted list of integers, find the length of the longest consecutive sequence."
   ]
  },
  {
   "cell_type": "code",
   "execution_count": 34,
   "metadata": {},
   "outputs": [
    {
     "name": "stdout",
     "output_type": "stream",
     "text": [
      "{1, 2, 3, 100, 4, 200}\n",
      "4\n"
     ]
    }
   ],
   "source": [
    "def longest_consecutive(nums):\n",
    "    num_set = set(nums)  # Convert list to set for O(1) lookups\n",
    "    print(num_set)\n",
    "    longest = 0\n",
    "\n",
    "    for num in num_set:\n",
    "        if num - 1 not in num_set:  # Start of a new sequence\n",
    "            length = 1\n",
    "            while num + length in num_set:\n",
    "                length += 1\n",
    "            longest = max(longest, length)\n",
    "\n",
    "    return longest\n",
    "\n",
    "# Example usage:\n",
    "print(longest_consecutive([100, 4, 200, 1, 3, 2]))  # Output: 4"
   ]
  },
  {
   "cell_type": "markdown",
   "metadata": {},
   "source": [
    "---\n",
    "***Multidimensional Arrays in Python***"
   ]
  },
  {
   "cell_type": "code",
   "execution_count": null,
   "metadata": {},
   "outputs": [
    {
     "name": "stdout",
     "output_type": "stream",
     "text": [
      "[[1, 2, 3], [4, 5, 6], [7, 8, 9]]\n"
     ]
    }
   ],
   "source": [
    "# Creating a 2D array\n",
    "array = [[1, 2, 3], \n",
    "         [4, 5, 6], \n",
    "         [7, 8, 9]]\n",
    "print(array)"
   ]
  },
  {
   "cell_type": "code",
   "execution_count": null,
   "metadata": {},
   "outputs": [
    {
     "name": "stdout",
     "output_type": "stream",
     "text": [
      "4\n"
     ]
    }
   ],
   "source": [
    "# Accessing an element\n",
    "print(array[1][0])  # Outputs: 4"
   ]
  },
  {
   "cell_type": "code",
   "execution_count": null,
   "metadata": {},
   "outputs": [
    {
     "name": "stdout",
     "output_type": "stream",
     "text": [
      "[[1, 'New Code', 3], [4, 5, 6], [7, 8, 9]]\n"
     ]
    }
   ],
   "source": [
    "# Updating an element\n",
    "array[0][1] = 'New Code'  \n",
    "print(array)"
   ]
  },
  {
   "cell_type": "code",
   "execution_count": null,
   "metadata": {},
   "outputs": [
    {
     "name": "stdout",
     "output_type": "stream",
     "text": [
      "3\n"
     ]
    }
   ],
   "source": [
    "# Finding the number of rows\n",
    "num_floors = len(array)\n",
    "print(num_floors) # Outputs: 3"
   ]
  },
  {
   "cell_type": "code",
   "execution_count": null,
   "metadata": {},
   "outputs": [
    {
     "name": "stdout",
     "output_type": "stream",
     "text": [
      "[[1, 'New Code', 3], [4, 5, 6], [7, 8, 9], ['Unit-1', 'Unit-2', 'Unit-3']]\n"
     ]
    }
   ],
   "source": [
    "# Adding a new row to our array\n",
    "array.append(['Unit-1', 'Unit-2', 'Unit-3'])\n",
    "print(array)"
   ]
  },
  {
   "cell_type": "code",
   "execution_count": null,
   "metadata": {},
   "outputs": [
    {
     "name": "stdout",
     "output_type": "stream",
     "text": [
      "[[1, 3], [4, 5, 6], [7, 8, 9], ['Unit-1', 'Unit-2', 'Unit-3']]\n"
     ]
    }
   ],
   "source": [
    "# Removing an element\n",
    "array[0].remove('New Code')\n",
    "print(array)"
   ]
  },
  {
   "cell_type": "markdown",
   "metadata": {},
   "source": [
    "Traversing Multidimensional Arrays\n",
    "\n",
    "We can visit every floor (outer array) and every apartment on each floor (inner array) by using nested loops."
   ]
  },
  {
   "cell_type": "code",
   "execution_count": 1,
   "metadata": {},
   "outputs": [
    {
     "name": "stdout",
     "output_type": "stream",
     "text": [
      "Apt 101, Apt 102, Apt 103, \n",
      "Apt 201, Exit Floor, Apt 203, \n",
      "Apt 301, Apt 302, Apt 303, \n"
     ]
    },
    {
     "data": {
      "text/plain": [
       "'\\nPrints:\\nApt 101, Apt 102, Apt 103, \\nApt 201, Exit Floor, Apt 203, \\nApt 301, Apt 302, Apt 303, \\n'"
      ]
     },
     "execution_count": 1,
     "metadata": {},
     "output_type": "execute_result"
    }
   ],
   "source": [
    "array = [[\"Apt 101\", \"Apt 102\", \"Apt 103\"], \n",
    "         [\"Apt 201\", \"Exit Floor\", \"Apt 203\"], \n",
    "         [\"Apt 301\", \"Apt 302\", \"Apt 303\"]]\n",
    "# Loop through 2D array\n",
    "for floor in array:\n",
    "    for unit in floor:\n",
    "        print(unit, end =', ')\n",
    "    print()\n",
    "\"\"\"\n",
    "Prints:\n",
    "Apt 101, Apt 102, Apt 103, \n",
    "Apt 201, Exit Floor, Apt 203, \n",
    "Apt 301, Apt 302, Apt 303, \n",
    "\"\"\""
   ]
  },
  {
   "cell_type": "markdown",
   "metadata": {},
   "source": [
    "Break/Continue in Nested Loops\n",
    "\n",
    "Sometimes, when we visit every apartment on each floor, we might need to start visiting the next floor midway. break helps us exit the current loop, while continue helps us skip the current iteration and move to the next one."
   ]
  },
  {
   "cell_type": "code",
   "execution_count": 2,
   "metadata": {},
   "outputs": [
    {
     "name": "stdout",
     "output_type": "stream",
     "text": [
      "Apt 101, Apt 102, Apt 103, \n",
      "Apt 201, \n",
      "Apt 301, Apt 302, Apt 303, \n"
     ]
    },
    {
     "data": {
      "text/plain": [
       "'\\nPrints:\\nApt 101, Apt 102, Apt 103, \\nApt 201, \\nApt 301, Apt 302, Apt 303, \\n'"
      ]
     },
     "execution_count": 2,
     "metadata": {},
     "output_type": "execute_result"
    }
   ],
   "source": [
    "# Break in nested loop\n",
    "for floor in array:\n",
    "    for unit in floor:\n",
    "        if unit == 'Exit Floor':\n",
    "            break\n",
    "        print(unit, end =', ')\n",
    "    print()\n",
    "\"\"\"\n",
    "Prints:\n",
    "Apt 101, Apt 102, Apt 103, \n",
    "Apt 201, \n",
    "Apt 301, Apt 302, Apt 303, \n",
    "\"\"\""
   ]
  },
  {
   "cell_type": "markdown",
   "metadata": {},
   "source": [
    "Here, as soon as 'Exit Floor' is found on a floor, the entire loop breaks, and no further units on the floor are visited. However, the further units are processed as before, as break breaks only the nested loop.\n",
    "\n",
    "We can also make use of continue in a similar scenario:"
   ]
  },
  {
   "cell_type": "code",
   "execution_count": 5,
   "metadata": {},
   "outputs": [
    {
     "name": "stdout",
     "output_type": "stream",
     "text": [
      "Apt 101, Apt 102, Apt 103, \n",
      "Apt 201, Apt 203, \n",
      "Apt 301, Apt 302, Apt 303, \n"
     ]
    }
   ],
   "source": [
    "# Continue in nested loop\n",
    "for floor in array:\n",
    "    for unit in floor:\n",
    "        if unit == 'Exit Floor':\n",
    "            continue\n",
    "        print(unit, end =', ')\n",
    "    print()\n",
    "\n",
    "\n",
    "# Prints:\n",
    "# Apt 101, Apt 102, Apt 103, \n",
    "# Apt 201, Apt 203, \n",
    "# Apt 301, Apt 302, Apt 303, "
   ]
  },
  {
   "cell_type": "markdown",
   "metadata": {},
   "source": [
    "In this case, when 'Exit Floor' is encountered, the continue statement is executed. This skips printing 'Exit Floor' and continues with the next unit in the same floor. The loop doesn't stop entirely but simply skips over 'Exit Floor', resulting in a missing apartment in the printout for the second floor."
   ]
  },
  {
   "cell_type": "markdown",
   "metadata": {},
   "source": [
    "---\n",
    "\n",
    "Hello, fellow coder! Are you excited to dive into a new, intriguing coding challenge? In this lesson, we're going to explore special traversals of matrices. Using the Python programming language, we'll find our way through a matrix by climbing up and down the columns, zigzagging as we go. Sound exciting? Buckle up, then, and get ready!\n",
    "\n",
    "Task Statement\n",
    "\n",
    "Here's the task: you've been given a 2D matrix consisting of individual cells, each holding a unique integer value. Your goal is to create a function that will traverse this matrix, starting at the bottom right cell. From there, you'll travel up to the top of the same column, then move left to the next column, and then continue downwards from the top of this new column. After reaching the bottom of the column, you again move left and start moving upwards. This unique traverse pattern will be performed until all the cells have been visited.\n",
    "\n",
    "Consider this small \n",
    "3×4 matrix as an example:"
   ]
  },
  {
   "cell_type": "code",
   "execution_count": null,
   "metadata": {},
   "outputs": [],
   "source": [
    "[\n",
    "    [1, 2, 3, 4],\n",
    "    [5, 6, 7, 8],\n",
    "    [9, 10, 11, 12]\n",
    "]\n",
    "\n",
    "# With the described traversal pattern, your function should return this list: [12, 8, 4, 3, 7, 11, 10, 6, 2, 1, 5, 9]"
   ]
  },
  {
   "cell_type": "markdown",
   "metadata": {},
   "source": [
    "Solution Building: Step 1\n",
    "\n",
    "The first step towards a solution is understanding the dimensions of the matrix with which we're working. We can do this using Python's built-in len() function. Let's set up our function and identify the matrix size:"
   ]
  },
  {
   "cell_type": "code",
   "execution_count": null,
   "metadata": {},
   "outputs": [],
   "source": [
    "def column_traverse(matrix):\n",
    "    rows = len(matrix)\n",
    "    cols = len(matrix[0])"
   ]
  },
  {
   "cell_type": "markdown",
   "metadata": {},
   "source": [
    "Solution Building: Step 2\n",
    "\n",
    "Now that we're aware of the matrix dimensions, we should establish the starting point (bottom-right) and the direction of travel (upwards initially). Additionally, we'll need a list to keep track of the cells we've visited in order:"
   ]
  },
  {
   "cell_type": "code",
   "execution_count": null,
   "metadata": {},
   "outputs": [],
   "source": [
    "def column_traverse(matrix):\n",
    "    rows, cols = len(matrix), len(matrix[0])\n",
    "    direction = 'up'\n",
    "    row, col = rows - 1, cols - 1\n",
    "    output = []"
   ]
  },
  {
   "cell_type": "markdown",
   "metadata": {},
   "source": [
    "Solution Building: Step 3\n",
    "\n",
    "It's time to go exploring! We'll now implement a while loop to traverse the matrix. This loop will continue until we have covered all the cells in the matrix. As we \"visit\" each cell, we'll add the value in the cell to our list."
   ]
  },
  {
   "cell_type": "code",
   "execution_count": 7,
   "metadata": {},
   "outputs": [
    {
     "name": "stdout",
     "output_type": "stream",
     "text": [
      "[12, 8, 4, 3, 7, 11, 10, 6, 2, 1, 5, 9]\n"
     ]
    }
   ],
   "source": [
    "def column_traverse(matrix):\n",
    "    rows, cols = len(matrix), len(matrix[0])\n",
    "    direction = 'up'\n",
    "    row, col = rows - 1, cols - 1\n",
    "    output = []\n",
    "\n",
    "    while len(output) < rows * cols:\n",
    "        output.append(matrix[row][col])\n",
    "\n",
    "        if direction == \"up\":\n",
    "            if row - 1 < 0:\n",
    "                direction = \"down\"\n",
    "                col -= 1\n",
    "            else:\n",
    "                row -= 1\n",
    "        else:\n",
    "            if row + 1 == rows:\n",
    "                direction = \"up\"\n",
    "                col -= 1\n",
    "            else:\n",
    "                row += 1\n",
    "    return output\n",
    "\n",
    "\n",
    "matrix = [\n",
    "            [1, 2, 3, 4],\n",
    "            [5, 6, 7, 8],\n",
    "            [9, 10, 11, 12]\n",
    "        ]\n",
    "\n",
    "result = column_traverse(matrix)\n",
    "\n",
    "print(result)"
   ]
  },
  {
   "cell_type": "markdown",
   "metadata": {},
   "source": [
    "---\n",
    "Traverse Using Decreasing Range\n",
    "\n",
    "Let's explore one more way of traversal. We can leverage the utility of Python's range() function to traverse a 2D matrix in reverse order. This function, known for its flexibility, can also create a sequence that decrements.\n",
    "\n",
    "To achieve this, we use range() with three arguments - start, stop, and step. By setting step to -1, we generate a decreasing sequence.\n",
    "\n",
    "Consider our familiar \n",
    "3×4 matrix:"
   ]
  },
  {
   "cell_type": "code",
   "execution_count": 9,
   "metadata": {},
   "outputs": [
    {
     "name": "stdout",
     "output_type": "stream",
     "text": [
      "[12, 11, 10, 9, 8, 7, 6, 5, 4, 3, 2, 1]\n"
     ]
    }
   ],
   "source": [
    "def reverse_traverse(matrix):\n",
    "    rows, cols = len(matrix), len(matrix[0])\n",
    "    output = []\n",
    "\n",
    "    for row in range(rows-1, -1, -1):\n",
    "        for col in range(cols-1, -1, -1):\n",
    "            output.append(matrix[row][col])\n",
    "    \n",
    "    return output\n",
    "\n",
    "matrix = [\n",
    "            [1, 2, 3, 4],\n",
    "            [5, 6, 7, 8],\n",
    "            [9, 10, 11, 12]\n",
    "        ]\n",
    "\n",
    "result = reverse_traverse(matrix)\n",
    "\n",
    "print(result)"
   ]
  },
  {
   "cell_type": "markdown",
   "metadata": {},
   "source": [
    "In this function, we start the range() for row from rows - 1 and run it till -1 (which is excluded), decrementing at each step. Similarly, our nested range() for col starts from cols - 1 and goes till -1. This allows us to start from the bottom-right corner and traverse leftwards, then upwards, covering the entire matrix in reverse order."
   ]
  },
  {
   "cell_type": "markdown",
   "metadata": {},
   "source": [
    "---\n",
    "***Transposing Matrices in Python***\n",
    "\n",
    "Task Statement\n",
    "\n",
    "To begin, let's elaborate on the task at hand. You are required to write a Python function named transformMatrix(). This function will accept a 2D list (which represents a matrix) that contains integers as inputs. Your responsibility is to return another 2D list, which is the transposed version of the given matrix.\n",
    "\n",
    "Remember, when we mention 'transposing a matrix', we are referring to the process of switching its rows and columns. In other words, all the rows of the original matrix should convert into columns in the transposed matrix, and vice versa.\n",
    "\n",
    "For instance, if the original matrix (input 2D list) is:"
   ]
  },
  {
   "cell_type": "code",
   "execution_count": 10,
   "metadata": {},
   "outputs": [
    {
     "name": "stdout",
     "output_type": "stream",
     "text": [
      "[[1, 4], [2, 5], [3, 6]]\n"
     ]
    }
   ],
   "source": [
    "def transformMatrix(matrix):\n",
    "    rows = len(matrix)\n",
    "    cols = len(matrix[0]) if rows > 0 else 0\n",
    "    result = [[0 for _ in range(rows)] for _ in range(cols)]\n",
    "\n",
    "    for i in range(rows):\n",
    "        for j in range(cols):\n",
    "            result[j][i] = matrix[i][j]\n",
    "    \n",
    "    return result\n",
    "\n",
    "matrix = [\n",
    "    [1, 2, 3],\n",
    "    [4, 5, 6]\n",
    "]\n",
    "\n",
    "transposed = transformMatrix(matrix)\n",
    "\n",
    "print(transposed)\n"
   ]
  },
  {
   "cell_type": "code",
   "execution_count": 11,
   "metadata": {},
   "outputs": [
    {
     "name": "stdout",
     "output_type": "stream",
     "text": [
      "[[1, 4], [2, 5], [3, 6]]\n"
     ]
    }
   ],
   "source": [
    "def transformMatrix(matrix):\n",
    "    rows = len(matrix)\n",
    "    cols = len(matrix[0]) if rows > 0 else 0\n",
    "    result = [[matrix[j][i] for j in range(rows)] for i in range(cols)]\n",
    "\n",
    "    return result\n",
    "\n",
    "matrix = [\n",
    "    [1, 2, 3],\n",
    "    [4, 5, 6]\n",
    "]\n",
    "\n",
    "transposed = transformMatrix(matrix)\n",
    "\n",
    "print(transposed)"
   ]
  },
  {
   "cell_type": "markdown",
   "metadata": {},
   "source": [
    "---\n",
    "***Checking Adjacent Cells in 2D Arrays in Python***\n",
    "\n",
    "Task Statement\n",
    "\n",
    "Visualize a chessboard in the form of a 2D array, where each cell could be marked 'E' for empty or 'P' for a piece. Our quest involves summoning a Python function named find_positions(). Upon examining this 2D array, this function identifies all the spots where a new piece could be placed so that it can move to another empty cell in one move. The catch is that a piece can move only to an immediately neighboring cell directly above, below, to the left, or right, but not diagonally.\n",
    "\n",
    "Consider this 4x4 board for instance:\n",
    "\n"
   ]
  },
  {
   "cell_type": "code",
   "execution_count": null,
   "metadata": {},
   "outputs": [],
   "source": [
    "P E E P\n",
    "E P E P\n",
    "P E P P\n",
    "P E P E"
   ]
  },
  {
   "cell_type": "markdown",
   "metadata": {},
   "source": [
    "The function should render an output as: [(0, 1), (0, 2), (1, 2), (2, 1), (3, 1)]. This output represents the positions where a new piece can fit perfectly and then be able to move in the next turn."
   ]
  },
  {
   "cell_type": "code",
   "execution_count": 20,
   "metadata": {},
   "outputs": [
    {
     "name": "stdout",
     "output_type": "stream",
     "text": [
      "[(0, 1), (0, 2), (1, 2), (2, 1), (3, 1)]\n"
     ]
    }
   ],
   "source": [
    "def find_positions(board):\n",
    "    positions = []\n",
    "    rows, cols = len(board), len(board[0])\n",
    "\n",
    "    for i in range(rows):\n",
    "        for j in range(cols):\n",
    "            if board[i][j] == 'E':\n",
    "                if ((i > 0 and board[i - 1][j] == 'E') or\n",
    "                 (i < rows - 1 and board[i + 1][j] == 'E') or\n",
    "                 (j > 0 and board[i][j - 1] == 'E') or\n",
    "                 (j < cols - 1 and board[i][j + 1] == 'E')):\n",
    "                    positions.append((i, j))\n",
    "    \n",
    "    return positions\n",
    "\n",
    "\n",
    "board = [\n",
    "    ['P', 'E', 'E', 'P'],\n",
    "    ['E', 'P', 'E', 'P'],\n",
    "    ['P', 'E', 'P', 'P'],\n",
    "    ['P', 'E', 'P', 'E']\n",
    "]\n",
    "\n",
    "print(find_positions(board))\n",
    "\n",
    "# Prints [(0, 1), (0, 2), (1, 2), (2, 1), (3, 1)]"
   ]
  },
  {
   "cell_type": "markdown",
   "metadata": {},
   "source": [
    "---\n",
    "***Navigating Adjacent Cells in a Grid: An Exercise in 2D Traversal***\n",
    "\n",
    "Task Statement\n",
    "\n",
    "The task before us involves the creation of a Python function named path_traverse. This function should perform a particularly ordered traversal through a 2D grid. The function will accept a grid, along with the starting cell coordinates, as parameters. Starting from the provided cell, the function should make moves in any one of the four possible directions toward an adjacent cell. However, a conditions govern this selection: the new cell value should be strictly greater than the current cell's value.\n",
    "\n",
    "This pattern would continue as we keep selecting the next available, larger cell value. The traversal would halt when there are no cells left that satisfy our criteria. The final result of the function will be a list that includes all the visited cell values in the order of their visitation.\n",
    "\n",
    "Consider a 3x3 grid:"
   ]
  },
  {
   "cell_type": "code",
   "execution_count": null,
   "metadata": {},
   "outputs": [],
   "source": [
    "1 2 3\n",
    "4 5 6\n",
    "7 8 9"
   ]
  },
  {
   "cell_type": "markdown",
   "metadata": {},
   "source": [
    "If we start at the cell with the value '5', we can logically move to either '6' or '8'. Let's say we choose '6'; the only cell that we can now move to is '9'. After this, we have no more moves left that fit our criteria. Hence, the function returns [5, 6, 9]."
   ]
  },
  {
   "cell_type": "code",
   "execution_count": 26,
   "metadata": {},
   "outputs": [
    {
     "name": "stdout",
     "output_type": "stream",
     "text": [
      "[5, 8, 9]\n"
     ]
    }
   ],
   "source": [
    "def path_traverse(grid, start_row, start_col):\n",
    "    # Get the number of rows and columns in the grid\n",
    "    rows, columns = len(grid), len(grid[0])\n",
    "\n",
    "    # Check the validity of the input\n",
    "    if start_row < 0 or start_row >= rows or start_col < 0 or start_col >= columns:\n",
    "        return \"Invalid input\"\n",
    "\n",
    "    # Define all four possible directions of movement\n",
    "    directions = [(1, 0), (-1, 0), (0, -1), (0, 1)]\n",
    "\n",
    "    # Start with the value at the starting cell\n",
    "    visited = [grid[start_row][start_col]]\n",
    "\n",
    "    # Start an infinite loop until we break it when there are no more moves\n",
    "    while True:\n",
    "        # Initialize a current maximum as negative one \n",
    "        curr_max = -1\n",
    "\n",
    "        # Look at each adjacent cell in all the directions\n",
    "        for dir in directions:\n",
    "            # Calculate the new cell's row and column indices\n",
    "            new_row = start_row + dir[0]\n",
    "            new_col = start_col + dir[1]\n",
    "            \n",
    "            # If the new cell is out of the grid boundary, ignore it\n",
    "            if new_row < 0 or new_row >= rows or new_col < 0 or new_col >= columns:\n",
    "                continue\n",
    "\n",
    "            # If the value of the new cell is greater than the current maximum\n",
    "            if grid[new_row][new_col] > curr_max:\n",
    "                # Save it as the next cell to go to\n",
    "                next_row, next_col, curr_max = new_row, new_col, grid[new_row][new_col]\n",
    "\n",
    "        # If we don't have any valid cell we can go to, break from the loop   \n",
    "        if curr_max <= grid[start_row][start_col]: \n",
    "            break\n",
    "          \n",
    "        # Otherwise, go to the next cell\n",
    "        start_row, start_col = next_row, next_col\n",
    "\n",
    "        # Append the value of the next cell to the result list\n",
    "        visited.append(curr_max)\n",
    "\n",
    "    # Return the list of visited cells' values    \n",
    "    return visited\n",
    "\n",
    "grid = [[1, 2, 3],\n",
    "        [4, 5, 6],\n",
    "        [7, 8, 9]\n",
    "    ]\n",
    "\n",
    "visited_list = path_traverse(grid, 1 ,1)\n",
    "\n",
    "print(visited_list)"
   ]
  },
  {
   "cell_type": "markdown",
   "metadata": {},
   "source": [
    "---\n",
    "***Clean Code in Python Through Hands-on Practice***"
   ]
  },
  {
   "cell_type": "code",
   "execution_count": 4,
   "metadata": {},
   "outputs": [
    {
     "name": "stdout",
     "output_type": "stream",
     "text": [
      "20.0\n"
     ]
    }
   ],
   "source": [
    "class Book:\n",
    "    def __init__(self, title, author, price):\n",
    "        self._title = title\n",
    "        self._author = author\n",
    "        self._price = price\n",
    "\n",
    "    # The @property decorator lets you define methods for attribute access while maintaining\n",
    "    # the appearance of regular attribute access.\n",
    "    @property\n",
    "    def title(self):\n",
    "        return self._title\n",
    "\n",
    "    @property\n",
    "    def author(self):\n",
    "        return self._author\n",
    "\n",
    "    @property\n",
    "    def price(self):\n",
    "        return self._price\n",
    "\n",
    "    @price.setter\n",
    "    def price(self, price):\n",
    "        if price >= 0:\n",
    "            self._price = price\n",
    "        else:\n",
    "            raise ValueError(\"Price cannot be negative\")\n",
    "\n",
    "# Usage\n",
    "book = Book(\"Clean Code\", \"Robert C. Martin\", 10.0)\n",
    "\n",
    "price = book.price  # No need to call a method\n",
    "book.price = 20.0  # No need to call a setter method explicitly\n",
    "\n",
    "print(book.price)"
   ]
  },
  {
   "cell_type": "code",
   "execution_count": null,
   "metadata": {},
   "outputs": [],
   "source": [
    "class IntegerContainer:\n",
    "    def __init__(self):\n",
    "        self.numbers = []\n",
    "\n",
    "    def add(self, value: int) -> int:\n",
    "        self.numbers.append(value)\n",
    "        return len(self.numbers)\n",
    "\n",
    "    def delete(self, value: int) -> bool:\n",
    "        if value in self.numbers:\n",
    "            self.numbers.remove(value)\n",
    "            return True\n",
    "        return False\n",
    "\n",
    "    def get_median(self) -> int | None:\n",
    "        if not self.numbers:\n",
    "            return None\n",
    "        sorted_numbers = sorted(self.numbers)\n",
    "        n = len(sorted_numbers)\n",
    "        mid = n // 2\n",
    "        if n % 2 == 1:\n",
    "            return sorted_numbers[mid]\n",
    "        else:\n",
    "            return sorted_numbers[mid - 1]\n",
    "\n",
    "container = IntegerContainer()\n",
    "container.add(5)\n",
    "container.add(10)\n",
    "container.add(3)\n",
    "print(container.get_median())  # Output: 5\n",
    "container.add(8)\n",
    "print(container.get_median())  # Output: 5\n",
    "container.delete(10)\n",
    "print(container.get_median())  # Output: 5\n",
    "container.delete(5)\n",
    "print(container.get_median())  # Output: 3\n",
    "container.delete(3)\n",
    "container.delete(8)\n",
    "print(container.get_median())  # Output: None"
   ]
  },
  {
   "cell_type": "code",
   "execution_count": 21,
   "metadata": {},
   "outputs": [
    {
     "name": "stdout",
     "output_type": "stream",
     "text": [
      "5\n",
      "5\n",
      "5\n",
      "3\n"
     ]
    },
    {
     "data": {
      "text/plain": [
       "True"
      ]
     },
     "execution_count": 21,
     "metadata": {},
     "output_type": "execute_result"
    }
   ],
   "source": [
    "class Container:\n",
    "    \"\"\"\n",
    "    A container of integers that should support\n",
    "    addition, removal, and search for the median integer\n",
    "    \"\"\"\n",
    "    def __init__(self):\n",
    "        self.numbers = []\n",
    "\n",
    "    def add(self, value: int) -> None:\n",
    "        \"\"\"\n",
    "        Adds the specified value to the container\n",
    "\n",
    "        :param value: int\n",
    "        \"\"\"\n",
    "        # TODO: implement this method\n",
    "        self.numbers.append(value)\n",
    "        \n",
    "\n",
    "    def delete(self, value: int) -> bool:\n",
    "        \"\"\"\n",
    "        Attempts to delete one item of the specified value from the container\n",
    "\n",
    "        :param value: int\n",
    "        :return: True, if the value has been deleted, or\n",
    "                 False, otherwise.\n",
    "        \"\"\"\n",
    "        # TODO: implement this method\n",
    "        if value in self.numbers:\n",
    "            self.numbers.remove(value)\n",
    "            return True\n",
    "        return False\n",
    "\n",
    "    def get_median(self) -> int:\n",
    "        \"\"\"\n",
    "        Finds the container's median integer value, which is\n",
    "        the middle integer when the all integers are sorted in order.\n",
    "        If the sorted array has an even length,\n",
    "        the leftmost integer between the two middle \n",
    "        integers should be considered as the median.\n",
    "\n",
    "        :return: The median if the array is not empty, or\n",
    "        :raise:  a runtime exception, otherwise.\n",
    "        \"\"\"\n",
    "        # TODO: implement this method\n",
    "        if not self.numbers:\n",
    "            raise Exception\n",
    "        sorted_numbers = sorted(self.numbers)\n",
    "        n = len(sorted_numbers)\n",
    "        mid = n // 2\n",
    "        if n % 2 == 1:\n",
    "            return sorted_numbers[mid]\n",
    "        else:\n",
    "            return sorted_numbers[mid - 1]\n",
    "\n",
    "\n",
    "container = Container()\n",
    "container.add(5)\n",
    "container.add(10)\n",
    "container.add(3)\n",
    "print(container.get_median())  # Output: 5\n",
    "container.add(8)\n",
    "print(container.get_median())  # Output: 5\n",
    "container.delete(10)\n",
    "print(container.get_median())  # Output: 5\n",
    "container.delete(5)\n",
    "print(container.get_median())  # Output: 3\n",
    "container.delete(3)\n",
    "container.delete(8)\n"
   ]
  },
  {
   "cell_type": "code",
   "execution_count": null,
   "metadata": {},
   "outputs": [],
   "source": [
    "class UserProfile:\n",
    "    def __init__(self, name, email, age, address):\n",
    "        self.name = name\n",
    "        self.email = email\n",
    "        self.age = age\n",
    "        self.address = address\n",
    "\n",
    "    @classmethod\n",
    "    def from_string(cls, data_string):\n",
    "        data = data_string.split(',')\n",
    "        return cls(data[0], data[1], int(data[2]), data[3])\n",
    "\n",
    "\n",
    "# Example of using the from_string class method to create a UserProfile object\n",
    "data_string = \"John Doe,john.doe@example.com,30,1234 Elm Street\"\n",
    "user_profile = UserProfile.from_string(data_string)\n",
    "\n",
    "# Accessing attributes of the created object\n",
    "print(user_profile.name)  # Output: John Doe\n",
    "print(user_profile.email)  # Output: john.doe@example.com\n",
    "print(user_profile.age)  # Output: 30\n",
    "print(user_profile.address)  # Output: 1234 Elm Street"
   ]
  },
  {
   "cell_type": "code",
   "execution_count": null,
   "metadata": {},
   "outputs": [],
   "source": [
    "class Order:\n",
    "  def __init__(self, order_id, customer, items, payment_details):\n",
    "      self.order_id = order_id\n",
    "      self.customer = customer\n",
    "      self.items = items\n",
    "      self.payment_details = payment_details\n",
    "\n",
    "class Customer:\n",
    "  def __init__(self, name, address, email):\n",
    "      self.name = name\n",
    "      self.address = address\n",
    "      self.email = email\n",
    "\n",
    "class PaymentDetails:\n",
    "  def __init__(self, method, discount):\n",
    "      self.method = method\n",
    "      self.discount = discount\n",
    "\n",
    "customer = Customer(name=\"Alice Smith\", address=\"1234 Maple Drive\", email=\"alice.smith@example.com\")\n",
    "\n",
    "# List of items in the order\n",
    "items = [\"Notebook\", \"Pen\", \"Calculator\"]\n",
    "\n",
    "# Create PaymentDetails object\n",
    "payment_details = PaymentDetails(method=\"Credit Card\", discount=10)\n",
    "\n",
    "# Create Order object using the customer, items, and payment details\n",
    "order = Order(order_id=123456, customer=customer, items=items, payment_details=payment_details)\n",
    "\n",
    "# Accessing and printing the Order object's attributes\n",
    "print(f\"Order ID: {order.order_id}\")\n",
    "print(f\"Customer Name: {order.customer.name}\")\n",
    "print(f\"Customer Address: {order.customer.address}\")\n",
    "print(f\"Customer Email: {order.customer.email}\")\n",
    "print(f\"Items: {', '.join(order.items)}\")\n",
    "print(f\"Payment Method: {order.payment_details.method}\")\n",
    "print(f\"Discount: {order.payment_details.discount}%\")"
   ]
  },
  {
   "cell_type": "code",
   "execution_count": null,
   "metadata": {},
   "outputs": [],
   "source": [
    "class Pizza:\n",
    "    def __init__(self, builder):\n",
    "        self.size = builder.size\n",
    "        self.crust_type = builder.crust_type\n",
    "        self.toppings = builder.toppings\n",
    "\n",
    "    class Builder:\n",
    "        def __init__(self, size, crust_type):\n",
    "            self.size = size\n",
    "            self.crust_type = crust_type\n",
    "            self.toppings = []  # Default: No toppings\n",
    "\n",
    "        def add_topping(self, topping):\n",
    "            self.toppings.append(topping)\n",
    "            return self\n",
    "\n",
    "        def build(self):\n",
    "            return Pizza(self)\n",
    "\n",
    "# Using the builder to create a pizza object\n",
    "pizza = (Pizza.Builder(\"Large\", \"Thin Crust\")\n",
    "         .add_topping(\"Cheese\")\n",
    "         .add_topping(\"Pepperoni\")\n",
    "         .add_topping(\"Olives\")\n",
    "         .build())\n",
    "\n",
    "# Accessing the pizza object attributes\n",
    "print(f\"Pizza Size: {pizza.size}\")  # Output: Large\n",
    "print(f\"Crust Type: {pizza.crust_type}\")  # Output: Thin Crust\n",
    "print(f\"Toppings: {', '.join(pizza.toppings)}\")  # Output: Cheese, Pepperoni, Olives"
   ]
  },
  {
   "cell_type": "code",
   "execution_count": 5,
   "metadata": {},
   "outputs": [
    {
     "name": "stdout",
     "output_type": "stream",
     "text": [
      "Alice filing taxes\n",
      "Alice holding a meeting\n"
     ]
    }
   ],
   "source": [
    "class Person:\n",
    "    def __init__(self, name, age):\n",
    "        self.name = name\n",
    "        self.age = age\n",
    "\n",
    "class Employee:\n",
    "    def __init__(self, person_details, employee_id):\n",
    "        self.person_details = person_details\n",
    "        self.employee_id = employee_id\n",
    "\n",
    "    def file_taxes(self):\n",
    "        print(f\"{self.person_details.name} filing taxes\")\n",
    "\n",
    "class Manager(Employee):\n",
    "    def hold_meeting(self):\n",
    "        print(f\"{self.person_details.name} holding a meeting\")\n",
    "\n",
    "# The refactored, composition-based structure\n",
    "person = Person(name=\"Alice\", age=40)\n",
    "employee = Employee(person_details=person, employee_id=1001)\n",
    "manager = Manager(person_details=person, employee_id=1001)\n",
    "manager.file_taxes()\n",
    "manager.hold_meeting()"
   ]
  },
  {
   "cell_type": "code",
   "execution_count": 6,
   "metadata": {},
   "outputs": [
    {
     "name": "stdout",
     "output_type": "stream",
     "text": [
      "Starting the engine of the Toyota Camry\n",
      "Opening the trunk of the Toyota Camry\n",
      "Starting the engine of the Harley-Davidson Iron 883\n",
      "Popping a wheelie on the Harley-Davidson Iron 883\n"
     ]
    }
   ],
   "source": [
    "class BaseVehicle:\n",
    "    def __init__(self, make, model, year):\n",
    "        self.make = make\n",
    "        self.model = model\n",
    "        self.year = year\n",
    "\n",
    "    def start_engine(self):\n",
    "        print(f\"Starting the engine of the {self.make} {self.model}\")\n",
    "\n",
    "class Car(BaseVehicle):\n",
    "    def open_trunk(self):\n",
    "        print(f\"Opening the trunk of the {self.make} {self.model}\")\n",
    "\n",
    "class Motorcycle(BaseVehicle):\n",
    "    def pop_wheelie(self):\n",
    "        print(f\"Popping a wheelie on the {self.make} {self.model}\")\n",
    "\n",
    "# Example usage\n",
    "car = Car(make=\"Toyota\", model=\"Camry\", year=2023)\n",
    "car.start_engine()\n",
    "car.open_trunk()\n",
    "\n",
    "motorcycle = Motorcycle(make=\"Harley-Davidson\", model=\"Iron 883\", year=2023)\n",
    "motorcycle.start_engine()\n",
    "motorcycle.pop_wheelie()"
   ]
  },
  {
   "cell_type": "code",
   "execution_count": 16,
   "metadata": {},
   "outputs": [
    {
     "name": "stdout",
     "output_type": "stream",
     "text": [
      "Paying with cash\n",
      "Paying with credit card\n",
      "Paying $200 with mobile payment\n"
     ]
    }
   ],
   "source": [
    "# Implementing Abstract Classes for Payment Flexibility\n",
    "\n",
    "from abc import ABC, abstractmethod\n",
    "\n",
    "class Payment(ABC):\n",
    "    @abstractmethod\n",
    "    def pay(self):\n",
    "        pass\n",
    "\n",
    "class CashPayment(Payment):\n",
    "    def pay(self):\n",
    "        print(\"Paying with cash\")\n",
    "\n",
    "class CreditCardPayment(Payment):\n",
    "    def pay(self):\n",
    "        print(\"Paying with credit card\")\n",
    "\n",
    "class MobilePayment(Payment):\n",
    "    def pay(self):\n",
    "        print(f\"Paying ${self} with mobile payment\")\n",
    "\n",
    "\n",
    "def process_payment(payment_method, amount):\n",
    "    payment_method.pay(amount)\n",
    "\n",
    "\n",
    "# This setup works due to duck typing; each class implements the same method signature.\n",
    "process_payment(CashPayment, 100)\n",
    "process_payment(CreditCardPayment, 150)\n",
    "process_payment(MobilePayment, 200)"
   ]
  },
  {
   "cell_type": "code",
   "execution_count": 17,
   "metadata": {},
   "outputs": [
    {
     "name": "stdout",
     "output_type": "stream",
     "text": [
      "Gas engine starting...\n",
      "Electric motor powering up...\n"
     ]
    }
   ],
   "source": [
    "# Dependency Management between Classes\n",
    "# Refactoring for Dependency Injection in Python\n",
    "\n",
    "from abc import ABC, abstractmethod\n",
    "\n",
    "class Engine(ABC):\n",
    "    @abstractmethod\n",
    "    def start(self):\n",
    "        pass\n",
    "\n",
    "class GasEngine(Engine):\n",
    "    def start(self):\n",
    "        print(\"Gas engine starting...\")\n",
    "\n",
    "class ElectricEngine(Engine):\n",
    "    def start(self):\n",
    "        print(\"Electric motor powering up...\")\n",
    "\n",
    "class EngineFactory:\n",
    "    @staticmethod\n",
    "    def create_engine(engine_type: str) -> Engine:\n",
    "        if engine_type == \"gas\":\n",
    "            return GasEngine()\n",
    "        elif engine_type == \"electric\":\n",
    "            return ElectricEngine()\n",
    "        else:\n",
    "            raise ValueError(\"Invalid engine type\")\n",
    "\n",
    "class Car:\n",
    "    def __init__(self, engine_type: str):\n",
    "        self.engine = EngineFactory.create_engine(engine_type)\n",
    "\n",
    "    def start(self):\n",
    "        self.engine.start()\n",
    "\n",
    "# Example usage\n",
    "gas_car = Car(\"gas\")\n",
    "electric_car = Car(\"electric\")\n",
    "\n",
    "gas_car.start()      # Output: Gas engine starting...\n",
    "electric_car.start() # Output: Electric motor powering up..."
   ]
  },
  {
   "cell_type": "code",
   "execution_count": 23,
   "metadata": {},
   "outputs": [
    {
     "name": "stdout",
     "output_type": "stream",
     "text": [
      "4\n"
     ]
    }
   ],
   "source": [
    "# There is a bug in one line of the code. Find it, fix it, and submit.\n",
    "# Given a sorted array of integers a, your task is to determine which element of a is closest to all other values of a. In other words, find the element x in a, which minimizes the following sum:\n",
    "\n",
    "# abs(a[0] - x) + abs(a[1] - x) + ... + abs(a[a.length - 1] - x)\n",
    "# (where abs denotes the absolute value)\n",
    "\n",
    "# If there are several possible answers, output the smallest one.\n",
    "\n",
    "# Example\n",
    "\n",
    "# For a = [2, 4, 7], the output should be solution(a) = 4.\n",
    "\n",
    "# for x = 2, the value will be abs(2 - 2) + abs(4 - 2) + abs(7 - 2) = 7.\n",
    "# for x = 4, the value will be abs(2 - 4) + abs(4 - 4) + abs(7 - 4) = 5.\n",
    "# for x = 7, the value will be abs(2 - 7) + abs(4 - 7) + abs(7 - 7) = 8.\n",
    "# The lowest possible value is when x = 4, so the answer is 4.\n",
    "\n",
    "# For a = [2, 3], the output should be solution(a) = 2.\n",
    "\n",
    "# for x = 2, the value will be abs(2 - 2) + abs(3 - 2) = 1.\n",
    "# for x = 3, the value will be abs(2 - 3) + abs(3 - 3) = 1.\n",
    "# Because there is a tie, the smallest x between x = 2 and x = 3 is the answer.\n",
    "\n",
    "def solution(a):\n",
    "\n",
    "    indexOfMinimum = -1\n",
    "    minimalSum = float('inf')\n",
    "\n",
    "    for i in range(len(a)):\n",
    "        curSum = 0\n",
    "        for j in range(len(a)):\n",
    "            curSum += abs(a[i] - a[j])\n",
    "        if curSum < minimalSum:\n",
    "            minimalSum = curSum\n",
    "            indexOfMinimum = i\n",
    "\n",
    "    return a[indexOfMinimum]\n",
    "\n",
    "a = [2, 4, 7]\n",
    "\n",
    "print(solution(a))\n",
    "\n"
   ]
  },
  {
   "cell_type": "code",
   "execution_count": 22,
   "metadata": {},
   "outputs": [
    {
     "name": "stdout",
     "output_type": "stream",
     "text": [
      "         *\n",
      "        ***\n",
      "       *****\n",
      "      *******\n",
      "     *********\n",
      "    ***********\n",
      "   *************\n",
      "  ***************\n",
      " *****************\n",
      "*******************\n"
     ]
    }
   ],
   "source": [
    "def generate_pyramid(N: int) -> None:\n",
    "    for i in range(1, N + 1):\n",
    "        spaces = ' ' * (N - i)\n",
    "        stars = '*' * (2 * i - 1)\n",
    "        print(spaces + stars)\n",
    "\n",
    "# Example usage\n",
    "generate_pyramid(10)"
   ]
  },
  {
   "cell_type": "code",
   "execution_count": null,
   "metadata": {},
   "outputs": [],
   "source": [
    "class IntegerContainer:\n",
    "    def __init__(self):\n",
    "        self.numbers = set()\n",
    "\n",
    "    def add(self, value: int) -> str:\n",
    "        self.numbers.add(value)\n",
    "        return \"\"\n",
    "\n",
    "    def exists(self, value: int) -> str:\n",
    "        return \"true\" if value in self.numbers else \"false\"\n",
    "\n",
    "def solution(queries):\n",
    "    container = IntegerContainer()\n",
    "    results = []\n",
    "    for query in queries:\n",
    "        command, value = query\n",
    "        value = int(value)\n",
    "        if command == \"ADD\":\n",
    "            results.append(container.add(value))\n",
    "        elif command == \"EXISTS\":\n",
    "            results.append(container.exists(value))\n",
    "    return results\n",
    "\n",
    "# Example usage\n",
    "queries = [\n",
    "    [\"ADD\", \"1\"],\n",
    "    [\"ADD\", \"2\"],\n",
    "    [\"ADD\", \"5\"],\n",
    "    [\"ADD\", \"2\"],\n",
    "    [\"EXISTS\", \"2\"],\n",
    "    [\"EXISTS\", \"5\"],\n",
    "    [\"EXISTS\", \"1\"],\n",
    "    [\"EXISTS\", \"4\"],\n",
    "    [\"EXISTS\", \"3\"],\n",
    "    [\"EXISTS\", \"0\"]\n",
    "]\n",
    "print(solution(queries))  # Output: [\"\", \"\", \"\", \"\", \"true\", \"true\", \"true\", \"false\", \"false\", \"false\"]"
   ]
  },
  {
   "cell_type": "code",
   "execution_count": 24,
   "metadata": {},
   "outputs": [
    {
     "name": "stdout",
     "output_type": "stream",
     "text": [
      "11\n"
     ]
    }
   ],
   "source": [
    "# For n = 29, the output should be\n",
    "# solution(n) = 11.\n",
    "\n",
    "def solution(n):\n",
    "    str_num = str(n)\n",
    "    sum = 0\n",
    "    for i in str_num:\n",
    "        sum += int(i)\n",
    "    \n",
    "    return sum\n",
    "\n",
    "n = 29\n",
    "print(solution(n))"
   ]
  },
  {
   "cell_type": "code",
   "execution_count": 1,
   "metadata": {},
   "outputs": [
    {
     "name": "stdout",
     "output_type": "stream",
     "text": [
      "[3, 7, 13, 19, 23]\n"
     ]
    }
   ],
   "source": [
    "def is_prime(n):\n",
    "\n",
    "    if n <= 1:\n",
    "\n",
    "        return False\n",
    "\n",
    "    if n == 2:\n",
    "\n",
    "        return True\n",
    "\n",
    "    if n % 2 == 0:\n",
    "\n",
    "        return False\n",
    "\n",
    "    for i in range(3, int(n**0.5) + 1, 2):\n",
    "\n",
    "        if n % i == 0:\n",
    "\n",
    "            return False\n",
    "\n",
    "    return True\n",
    "\n",
    "def filter_primes(numbers):\n",
    "\n",
    "    return [num for num in numbers if is_prime(num)]\n",
    "\n",
    "# Example usage\n",
    "\n",
    "numbers = [10, 15, 3, 7, 13, 19, 21, 23]\n",
    "\n",
    "print(filter_primes(numbers))\n",
    "\n",
    "# Output: [3, 7, 13, 19, 23]"
   ]
  },
  {
   "cell_type": "code",
   "execution_count": null,
   "metadata": {},
   "outputs": [],
   "source": [
    "# Question 1: Adding up elements in a list\n",
    "# Prompt: Write a Python function that takes a list of numbers and returns the sum of all elements in the list. For example, for the list [1, 2, 3, 4], the function should return 10. \n",
    "\n",
    "# What this question evaluates: This question assesses basic list handling and the use of loops in Python. For this reason, don’t use the built-in Python sum function in your initial implementation.\n",
    "\n",
    "# Solution:\n",
    "\n",
    "def sum_of_list(numbers):\n",
    "    total = 0\n",
    "    for number in numbers:\n",
    "        total += number\n",
    "    return total\n",
    "\n",
    "\n",
    "# Explanation of solution: The function iterates over each element in the list numbers using a for loop. \n",
    "# It initializes a variable total to 0 and adds each element of the list to this variable, accumulating the sum. \n",
    "# Finally, it returns the total sum of the elements."
   ]
  },
  {
   "cell_type": "code",
   "execution_count": null,
   "metadata": {},
   "outputs": [],
   "source": [
    "# Question 2: Finding the highest number in a list\n",
    "# Prompt: Build on your previous function to return the largest number in the list, in addition to the sum. For the list [1, 2, 3, 4], the function should return the sum 10 and the maximum number 4.\n",
    "\n",
    "# What this question evaluates: This question builds on the first question by adding an understanding of how to compare elements in a list. For this problem, don’t use the built-in max function.\n",
    "\n",
    "# Solution:\n",
    "\n",
    "def sum_and_max_of_list(numbers):\n",
    "    total = 0\n",
    "    max_number = numbers[0]  # Assume the first number is the largest initially\n",
    "    for number in numbers:\n",
    "        total += number\n",
    "        if number > max_number:\n",
    "            max_number = number\n",
    "    return total, max_number\n",
    "\n",
    "# Explanation of solution: The function initializes two variables: total to store the sum and max_number to store the current maximum number, initially set to the first element in the list. As it iterates through the list, it adds each element to total. Simultaneously, it checks if each element is greater than the current max_number. If so, it updates max_number. It returns both the total sum and the maximum number found in the list."
   ]
  },
  {
   "cell_type": "code",
   "execution_count": null,
   "metadata": {},
   "outputs": [],
   "source": [
    "# Question 3: Counting occurrences of a specific element in a list\n",
    "# Prompt: Write a function that takes a list and a target number, and returns the count of occurrences of the target number in the list. For instance, in the list [1, 2, 3, 2, 2, 4] and target number 2, the function should return 3.\n",
    "\n",
    "# What this question evaluates: This question tests basic list operations and conditional logic in loops. Avoid using the count function at this time in order to practice the underlying technique.\n",
    "\n",
    "# Solution:\n",
    "\n",
    "def count_occurrences(numbers, target):\n",
    "count = 0\n",
    "    for number in numbers:\n",
    "        if number == target:\n",
    "            count += 1\n",
    "    return count\n",
    "\n",
    "# Explanation of solution: The function iterates over the list numbers. It uses a variable count to keep track of how many times the target number appears in the list. Each time it finds the target number, it increments count. After iterating through the list, it returns the total count of the target number’s occurrences."
   ]
  },
  {
   "cell_type": "code",
   "execution_count": null,
   "metadata": {},
   "outputs": [],
   "source": [
    "# Question 1: Reversing a string\n",
    "# Prompt: Write a Python function to reverse a given string. For example, if the input string is “hello”, the output should be “olleh”.\n",
    "\n",
    "# What this question evaluates: This question assesses basic understanding of string manipulation and iteration in Python.\n",
    "\n",
    "# Solution:\n",
    "\n",
    "def reverse_string(s):\n",
    "    return s[::-1]\n",
    "\n",
    "# Explanation of solution: The solution uses Python’s slicing mechanism. The slice [::-1] is a common Python idiom for reversing a string (or a list). It starts from the end towards the first character, stepping backwards. s[::-1] takes the entire string s and reverses it.\n",
    "\n",
    "# Question 2: Checking for a palindrome\n",
    "# Prompt: Enhance the previous function to check if the given string is a palindrome. A palindrome is a word that reads the same backward as forward, e.g., “radar”.\n",
    "\n",
    "# What this question evaluates: This question builds on the first question by adding conditional logic and understanding of string properties.\n",
    "\n",
    "# Solution:\n",
    "\n",
    "def is_palindrome(s):\n",
    "reversed_s = s[::-1]\n",
    "    return s == reversed_s\n",
    "\n",
    "# Explanation of solution: This solution first reverses the input string using the slicing method s[::-1]. It then compares the original string s with the reversed string. If they are identical, it means the string is a palindrome."
   ]
  },
  {
   "cell_type": "code",
   "execution_count": null,
   "metadata": {},
   "outputs": [],
   "source": [
    "# Question 3: Counting palindromic substrings\n",
    "# Prompt: Write a function to count the number of palindromic substrings in a given string. \n",
    "# For instance, in the string “aba”, there are three palindromic substrings: “a”, “b”, “aba”.\n",
    "\n",
    "# What this question evaluates: This question tests more advanced algorithmic thinking that involves \n",
    "# string manipulation, nested loops, and understanding of substrings.\n",
    "\n",
    "# Solution:\n",
    "\n",
    "def count_palindromic_substrings(s):\n",
    "count = 0\n",
    "    for i in range(len(s)):\n",
    "        for j in range(i, len(s)):\n",
    "            if s[i:j+1] == s[i:j+1][::-1]:\n",
    "                count += 1\n",
    "    return count\n",
    "\n",
    "# Explanation of solution: The function uses nested loops to generate all possible substrings of the input string. \n",
    "# The outer loop fixes the starting point of the substring, and the inner loop varies the endpoint. \n",
    "# For each substring generated (s[i:j+1]), the function checks if it is a palindrome \n",
    "# (by comparing it to its reverse). The count is incremented each time a palindromic substring is found."
   ]
  },
  {
   "cell_type": "code",
   "execution_count": null,
   "metadata": {},
   "outputs": [],
   "source": [
    "# Python data structures interview questions\n",
    "\n",
    "# Question 1: Implementing a stack\n",
    "# Prompt: Implement a stack data structure in Python using lists. Your stack should support \n",
    "# push, pop, and peek operations.\n",
    "\n",
    "# What this question evaluates: This question assesses the understanding of basic data structures \n",
    "# (like stacks) and methods to manipulate them using Python lists.\n",
    "\n",
    "# Solution: \n",
    "\n",
    "class Stack:\n",
    "def __init__(self):\n",
    "        self.items = []\n",
    "    def push(self, item):\n",
    "        self.items.append(item)\n",
    "    def pop(self):\n",
    "        return self.items.pop()\n",
    "    def peek(self):\n",
    "        return self.items[-1] if self.items else None\n",
    "    def is_empty(self):\n",
    "        return len(self.items) == 0\n",
    "\n",
    "# Explanation of solution: The Stack class uses a Python list to store elements. \n",
    "# push adds an item to the end of the list, pop removes the last item, \n",
    "# and peek returns the last item without removing it. \n",
    "# is_empty checks whether the stack is empty, \n",
    "# which is crucial for the subsequent questions."
   ]
  },
  {
   "cell_type": "code",
   "execution_count": null,
   "metadata": {},
   "outputs": [],
   "source": [
    "# Question 2: Creating a queue using 2 stacks\n",
    "# Prompt: Using your stack implementation from Question 1, create a queue data structure. \n",
    "# Implement enqueue and dequeue operations using two instances of your stack.\n",
    "\n",
    "# What this question evaluates: This question builds upon the stack implementation to create \n",
    "# a more complex data structure (queue) using two stacks. This tests the understanding of how different \n",
    "# data structures can be combined and the efficiency of operations.\n",
    "\n",
    "# Solution:\n",
    "\n",
    "class Queue:\n",
    "def __init__(self):\n",
    "        self.in_stack = Stack()\n",
    "        self.out_stack = Stack()\n",
    "    def enqueue(self, item):\n",
    "        self.in_stack.push(item)\n",
    "    def dequeue(self):\n",
    "        if self.out_stack.is_empty():\n",
    "            while not self.in_stack.is_empty():\n",
    "                self.out_stack.push(self.in_stack.pop())\n",
    "        return self.out_stack.pop()\n",
    "\n",
    "# Explanation of solution: The Queue class uses two instances of the Stack class.\n",
    "# One stack (in_stack) is used for enqueue operations, and the other (out_stack) for dequeue operations. \n",
    "# For dequeue, if out_stack is empty, all elements from in_stack are popped and pushed into out_stack. \n",
    "# This reverses the order of elements, making the earliest enqueued element available for dequeue."
   ]
  },
  {
   "cell_type": "code",
   "execution_count": null,
   "metadata": {},
   "outputs": [],
   "source": [
    "# Question 3: Make a balanced parentheses checker\n",
    "# Prompt: Write a function that uses your stack implementation to check if a string of parentheses \n",
    "# (e.g., ‘((()))’, ‘()()’) is balanced. \n",
    "# Every opening parenthesis must have a corresponding closing parenthesis.\n",
    "\n",
    "# What this question evaluates: This question requires using the stack to solve a common programming problem, \n",
    "# testing knowledge of both data structures and algorithms, as well as string processing.\n",
    "\n",
    "# Solution:\n",
    "\n",
    "def is_balanced_parentheses(string):\n",
    "stack = Stack()\n",
    "    for char in string:\n",
    "        if char == '(':\n",
    "            stack.push(char)\n",
    "        elif char == ')':\n",
    "            if stack.is_empty():\n",
    "                return False\n",
    "            stack.pop()\n",
    "    return stack.is_empty()\n",
    "\n",
    "# Explanation of solution: This function iterates through each character in the input string. \n",
    "# If an opening parenthesis is encountered, it is pushed onto the stack. \n",
    "# For a closing parenthesis, the function checks if the stack is empty (unmatched closing parenthesis) \n",
    "# or pops from the stack (matching pair found). \n",
    "# At the end, if the stack is empty, all parentheses are balanced; otherwise, they are not."
   ]
  },
  {
   "cell_type": "code",
   "execution_count": null,
   "metadata": {},
   "outputs": [],
   "source": [
    "# Question 1: Array Manipulation\n",
    "# Given an array a, your task is to output an array b of the same length by applying the following transformation: \n",
    "# – For each i from 0 to a.length - 1 inclusive, b[i] = a[i - 1] + a[i] + a[i + 1]\n",
    "# – If an element in the sum a[i - 1] + a[i] + a[i + 1] does not exist, use 0 in its place\n",
    "# – For instance, b[0] = 0 + a[0] + a[1]\n",
    "\n",
    "# Example\n",
    "\n",
    "# For a = [4, 0, 1, -2, 3]: \n",
    "# – b[0] = 0 + a[0] + a[1] = 0 + 4 + 0 = 4\n",
    "# – b[1] = a[0] + a[1] + a[2] = 4 + 0 + 1 = 5\n",
    "# – b[2] = a[1] + a[2] + a[3] = 0 + 1 + (-2) = -1\n",
    "# – b[3] = a[2] + a[3] + a[4] = 1 + (-2) + 3 = 2\n",
    "# – b[4] = a[3] + a[4] + 0 = (-2) + 3 + 0 = 1\n",
    "\n",
    "# So, the output should be solution(a) = [4, 5, -1, 2, 1].\n",
    "# Taking a look at this question, you can see that it covers a basic array traversal and manipulation. The candidate simply needs to return the sum of each value in a, plus its right and left neighbors. \n",
    "\n",
    "# At the same time, the question asks candidates to take into account corner cases with their implementation, which is an important fundamental skill. They need to correctly handle the first and last elements of the array.\n",
    "\n",
    "# Question 1: Solution\n",
    "\n",
    "def solution(a):\n",
    "   n = len(a)\n",
    "   b = [0 for _ in range(n)]\n",
    "   for i in range(n):\n",
    "       b[i] = a[i]\n",
    "       if i > 0:\n",
    "           b[i] += a[i - 1]\n",
    "       if i < n - 1:\n",
    "           b[i] += a[i + 1]\n",
    "   return b\n",
    "\n",
    "# Above is a simple 10-line implementation in Python. \n",
    "# First, the solution gets the length of a and then creates a zeroed-out array b of the same length. \n",
    "# Next, it uses a for loop to traverse through b and complete the operations as specified.\n",
    "# Note that this solution handles the edge cases by checking if the a index is in range before \n",
    "# adding the value to b."
   ]
  },
  {
   "cell_type": "code",
   "execution_count": 4,
   "metadata": {},
   "outputs": [
    {
     "name": "stdout",
     "output_type": "stream",
     "text": [
      "2\n"
     ]
    }
   ],
   "source": [
    "# Question 2: String Pattern Matching\n",
    "# You are given two strings: pattern and source. The first string pattern contains only the symbols 0 and 1, and the second string source contains only lowercase English letters.\n",
    "\n",
    "# Your task is to calculate the number of substrings of source that match pattern. \n",
    "\n",
    "# We’ll say that a substring source[l..r] matches pattern if the following three conditions are met:\n",
    "# – The pattern and substring are equal in length.\n",
    "# – Where there is a 0 in the pattern, there is a vowel in the substring. \n",
    "# – Where there is a 1 in the pattern, there is a consonant in the substring. \n",
    "\n",
    "# Vowels are ‘a‘, ‘e‘, ‘i‘, ‘o‘, ‘u‘, and ‘y‘. All other letters are consonants.\n",
    "\n",
    "# Example\n",
    "\n",
    "# For pattern = \"010\" and source = \"amazing\", the output should be solution(pattern, source) = 2.\n",
    "# – “010” matches source[0..2] = \"ama\". The pattern specifies “vowel, consonant, vowel”. “ama” matches this pattern: 0 matches a, 1 matches m, and 0 matches a. \n",
    "# – “010” doesn’t match source[1..3] = \"maz\" \n",
    "# – “010” matches source[2..4] = \"azi\" \n",
    "# – “010” doesn’t match source[3..5] = \"zin\" \n",
    "# – “010” doesn’t match source[4..6] = \"ing\"\n",
    "\n",
    "# So, there are 2 matches. For a visual demonstration, see the example video. \n",
    "\n",
    "# For pattern = \"100\" and source = \"codesignal\", the output should be solution(pattern, source) = 0.\n",
    "# – There are no double vowels in the string \"codesignal\", so it’s not possible for any of its substrings to match this pattern.\n",
    "\n",
    "# Guaranteed constraints:\n",
    "# 1 ≤ source.length ≤ 103\n",
    "# 1 ≤ pattern.length ≤ 103\n",
    "# This is a pattern-matching question where instances of a pattern need to be found inside of a larger array. It has the advantage of testing several fundamental programming skills at once: traversing multiple arrays with nested loops, working with subarrays, and performing basic collections/string operations.\n",
    "\n",
    "# Note that the guaranteed constraints in this question indicate that the candidate shouldn’t worry about optimizing their solution. \n",
    "\n",
    "# Question 2: Solution\n",
    "\n",
    "vowels = ['a', 'e', 'i', 'o', 'u', 'y'] \n",
    "\n",
    "def check_for_pattern(pattern, source, start_index):\n",
    "    for offset in range(len(pattern)):\n",
    "        if pattern[offset] == '0':\n",
    "            if source[start_index + offset] not in vowels:\n",
    "                return 0\n",
    "        else:\n",
    "            if source[start_index + offset] in vowels:\n",
    "                return 0\n",
    "    return 1\n",
    "\n",
    "def solution(pattern, source):\n",
    "    answer = 0\n",
    "    for start_index in range(len(source) - len(pattern) + 1):\n",
    "        answer += check_for_pattern(pattern, source, start_index)\n",
    "    return answer\n",
    "\n",
    "source = \"amazing\"\n",
    "pattern = \"010\"\n",
    "print(solution(pattern, source))\n",
    "\n",
    "# In this solution, the candidate first defines the vowels. \n",
    "# Then, they define a helper function, check_for_pattern, that their solution will call for \n",
    "# every possible substring in source. For each character in the pattern string, \n",
    "# the helper function checks if the character in the substring matches the pattern (0 for vowel, 1 for consonant)."
   ]
  },
  {
   "cell_type": "code",
   "execution_count": null,
   "metadata": {},
   "outputs": [],
   "source": [
    "class GameCharacter:\n",
    "    # constructor: defines class attributes\n",
    "    def __init__(self, name, health, strength):  \n",
    "        self.name = name       # attribute\n",
    "        self.health = health   # attribute\n",
    "        self.strength = strength   # attribute\n",
    "\n",
    "    def attack(self, other_character):  # method\n",
    "        other_character.health -= self.strength  # modifies 'other_character's health attribute\n",
    "\n",
    "character_1 = GameCharacter(\"Hero\", 100, 20)   # First instance of GameCharacter\n",
    "character_2 = GameCharacter(\"Villain\", 80, 15)  # Second instance\n",
    "\n",
    "print(character_2.health)  # prints: 80\n",
    "character_1.attack(character_2)  # character_1 attacks character_2\n",
    "print(character_2.health)  # prints: 60, health decreased after attack"
   ]
  },
  {
   "cell_type": "code",
   "execution_count": null,
   "metadata": {},
   "outputs": [],
   "source": [
    "# Define the BankAccount class\n",
    "class BankAccount:\n",
    "    # Constructor with a default balance of 0\n",
    "    def __init__(self, holder_name, balance=0):\n",
    "        self.holder_name = holder_name\n",
    "        self.balance = balance\n",
    "\n",
    "    # Method to deposit money\n",
    "    def deposit(self, amount):\n",
    "        if amount > 0:\n",
    "            self.balance += amount\n",
    "            print(f\"{amount} deposited. New balance: {self.balance}\")\n",
    "        else:\n",
    "            print(\"Deposit amount must be positive.\")\n",
    "\n",
    "    # Method to withdraw money\n",
    "    def withdraw(self, amount):\n",
    "        if 0 < amount <= self.balance:\n",
    "            self.balance -= amount\n",
    "            print(f\"{amount} withdrawn. Remaining balance: {self.balance}\")\n",
    "        else:\n",
    "            print(\"Insufficient balance for the withdrawal or amount is not positive.\")\n",
    "\n",
    "# Create an instance of BankAccount\n",
    "account = BankAccount(\"Alex\", 1000)  # An account with initial balance of 1000\n",
    "\n",
    "# Perform some transactions\n",
    "account.deposit(500)  # Deposit money\n",
    "account.withdraw(200)  # Withdraw money\n",
    "print(f\"Final balance in {account.holder_name}'s account: {account.balance}\")"
   ]
  },
  {
   "cell_type": "code",
   "execution_count": null,
   "metadata": {},
   "outputs": [],
   "source": [
    "class Robot:\n",
    "    def __init__(self, name, color='grey'):\n",
    "        self.name = name\n",
    "        self.color = color\n",
    "\n",
    "    def say_hello(self):\n",
    "        print(f\"Hello, I am {self.name} and I am {self.color}.\")\n",
    "\n",
    "robot_instance = Robot(\"Robbie\", \"red\")\n",
    "robot_instance.say_hello()  # Robbie says hello!"
   ]
  },
  {
   "cell_type": "code",
   "execution_count": null,
   "metadata": {},
   "outputs": [],
   "source": [
    "class BankAccount:\n",
    "    def __init__(self, account_number, balance):\n",
    "        self.account_number = account_number\n",
    "        self.__balance = balance  # Private attribute\n",
    "    \n",
    "    def deposit(self, amount):\n",
    "        self.__balance += amount  # Deposit money\n",
    "\n",
    "bank_account = BankAccount(1234, 100)\n",
    "print(bank_account.__balance) # Error: can't access private attribute"
   ]
  },
  {
   "cell_type": "code",
   "execution_count": null,
   "metadata": {},
   "outputs": [],
   "source": [
    "class BankAccount:\n",
    "    def __init__(self, account_number, balance):\n",
    "        self.account_number = account_number\n",
    "        self.__balance = balance\n",
    "\n",
    "    # Private method\n",
    "    def __add_interest(self, interest_rate):\n",
    "        self.__balance += self.__balance * interest_rate  # Calculation of interest\n",
    "\n",
    "    # Public method calling the private method\n",
    "    def add_yearly_interest(self):\n",
    "        self.__add_interest(0.02)  # Adds 2% interest\n",
    "\n",
    "bank_account = BankAccount(1234, 100)\n",
    "bank_account.add_yearly_interest() # Works for public methods\n",
    "bank_account.__add_interest(0.1) # Error: can't call a private method"
   ]
  },
  {
   "cell_type": "code",
   "execution_count": null,
   "metadata": {},
   "outputs": [],
   "source": [
    "# Define the parent class 'Vehicle'\n",
    "class Vehicle:\n",
    "    # Initialize the Vehicle with color and brand attributes\n",
    "    def __init__(self, color, brand):\n",
    "        self.color = color\n",
    "        self.brand = brand\n",
    "\n",
    "# Define the child class 'Car', inheriting from 'Vehicle'\n",
    "class Car(Vehicle):\n",
    "    def __init__(self, color, brand, doors):\n",
    "        # Call the parent class's __init__ method to set color and brand\n",
    "        super().__init__(color, brand)\n",
    "        self.doors = doors"
   ]
  },
  {
   "cell_type": "code",
   "execution_count": null,
   "metadata": {},
   "outputs": [],
   "source": [
    "class Artist:\n",
    "    def __init__(self, name):\n",
    "        self.name = name   # Parent's attribute\n",
    "\n",
    "class Musician(Artist):\n",
    "    def __init__(self, name, instrument):\n",
    "        super().__init__(name)   # Inheriting parent's attribute\n",
    "        self.instrument = instrument   # Child's own attribute\n",
    "\n",
    "john = Musician('John Lennon', 'Guitar')  # Creating a Musician instance\n",
    "print(john.name)   # Output: John Lennon\n",
    "print(john.instrument)   # Output: Guitar"
   ]
  },
  {
   "cell_type": "code",
   "execution_count": null,
   "metadata": {},
   "outputs": [],
   "source": [
    "class Vehicle:\n",
    "    def start(self):\n",
    "        return \"Vehicle is starting...\"\n",
    "\n",
    "class Car(Vehicle):\n",
    "    def start(self):\n",
    "        return super().start() + \" Beep! Beep!\"\n",
    "\n",
    "my_car = Car()\n",
    "print(my_car.start())   # Output: Vehicle is starting... Beep! Beep!"
   ]
  },
  {
   "cell_type": "code",
   "execution_count": null,
   "metadata": {},
   "outputs": [],
   "source": [
    "class ParentClass:\n",
    "    def __init__(self, value):\n",
    "        self.value = value\n",
    "\n",
    "class ChildClass(ParentClass):\n",
    "    def __init__(self, value, additional_value):\n",
    "        super().__init__(value)  # Invoke parent class's __init__\n",
    "        self.additional_value = additional_value\n",
    "\n",
    "child_class = ChildClass(\"value\", \"additional_value\")\n",
    "print(child_class.value) # Output: value\n",
    "print(child_class.additional_value) # Output: additional_value"
   ]
  },
  {
   "cell_type": "code",
   "execution_count": null,
   "metadata": {},
   "outputs": [],
   "source": [
    "class TupleExample:\n",
    "    def inspect_tuple(self):\n",
    "        my_tuple = (\"apple\", \"banana\", \"cherry\", \"durian\", \"elderberry\")\n",
    "        print(my_tuple[1])   # Output: 'banana'\n",
    "        print(my_tuple[-1])  # Output: 'elderberry'\n",
    "        print(my_tuple[2:4]) # Output: ('cherry', 'durian')\n",
    "        new_tuple = my_tuple[1:3] + (\"dragonfruit\",)\n",
    "        print(new_tuple)     # Output: ('banana', 'cherry', 'dragonfruit')\n",
    "\n",
    "# create an instance and call `inspect_tuple` method\n",
    "tuple_example = TupleExample()\n",
    "tuple_example.inspect_tuple()"
   ]
  },
  {
   "cell_type": "code",
   "execution_count": null,
   "metadata": {},
   "outputs": [],
   "source": [
    "class ShoppingCart:\n",
    "\n",
    "    def __init__(self):\n",
    "        # Initialize cart as an empty dictionary\n",
    "        self.cart = {}\n",
    "\n",
    "    def add_product(self, product_name, quantity):\n",
    "        \"\"\"Add or update the quantity of a product in the cart.\"\"\"\n",
    "        if product_name in self.cart:\n",
    "            self.cart[product_name] += quantity\n",
    "        else:\n",
    "            self.cart[product_name] = quantity\n",
    "\n",
    "    def remove_product(self, product_name):\n",
    "        \"\"\"Remove a product from the cart.\"\"\"\n",
    "        if product_name in self.cart:\n",
    "            del self.cart[product_name]\n",
    "        else:\n",
    "            print(f\"{product_name} not found in your cart.\")\n",
    "\n",
    "    def show_cart(self):\n",
    "        \"\"\"Display the products and their quantities in the cart.\"\"\"\n",
    "        if not self.cart:\n",
    "            print(\"Your shopping cart is empty.\")\n",
    "        else:\n",
    "            for product, quantity in self.cart.items():\n",
    "                print(f\"{product}: {quantity}\")\n",
    "\n",
    "# Create an instance of ShoppingCart\n",
    "my_cart = ShoppingCart()\n",
    "\n",
    "# Add products and update their quantities\n",
    "my_cart.add_product(\"Apples\", 5)\n",
    "my_cart.add_product(\"Bananas\", 2)\n",
    "my_cart.add_product(\"Apples\", 3)  # Updates quantity of apples to 8\n",
    "\n",
    "# Display cart\n",
    "my_cart.show_cart()\n",
    "# Output:\n",
    "# Apples: 8\n",
    "# Bananas: 2\n",
    "\n",
    "# Remove a product and show the updated cart\n",
    "my_cart.remove_product(\"Bananas\")\n",
    "my_cart.show_cart()\n",
    "# Output:\n",
    "# Apples: 8"
   ]
  },
  {
   "cell_type": "code",
   "execution_count": null,
   "metadata": {},
   "outputs": [],
   "source": [
    "# Creating a set and printing it\n",
    "my_set = {1, 2, 3, 4, 5, 5, 5}  # Duplicates will be omitted\n",
    "my_set_2 = set([1, 2, 3, 4, 5, 5, 5]) # The same set\n",
    "print(my_set)  # Output: {1, 2, 3, 4, 5}\n",
    "print(my_set_2) # Output: {1, 2, 3, 4, 5}\n",
    "\n",
    "# Adding an element\n",
    "my_set.add(6)  # my_set is now {1, 2, 3, 4, 5, 6}\n",
    "\n",
    "print(1 in my_set) # Output: True, as `my_set` includes an element 1\n",
    "\n",
    "# Removing an element\n",
    "my_set.remove(1)  # my_set becomes {2, 3, 4, 5, 6}\n",
    "\n",
    "print(1 in my_set) # Output: False, as `my_set` doesn't include 1 anymore\n",
    "\n",
    "# Discarding an element\n",
    "my_set.discard(7)  # No changes - 7 doesn't exist in my_set"
   ]
  },
  {
   "cell_type": "code",
   "execution_count": null,
   "metadata": {},
   "outputs": [],
   "source": [
    "set_1 = {1, 2, 3, 4}  # First set\n",
    "set_2 = {3, 4, 5, 6}  # Second set\n",
    "\n",
    "# Set union\n",
    "print(set_1.union(set_2))\n",
    "# Output: {1, 2, 3, 4, 5, 6}\n",
    "\n",
    "# Set intersection\n",
    "print(set_1.intersection(set_2))\n",
    "# Output: {3, 4}\n",
    "\n",
    "# Set difference\n",
    "print(set_1.difference(set_2))\n",
    "# Output: {1, 2}"
   ]
  },
  {
   "cell_type": "code",
   "execution_count": null,
   "metadata": {},
   "outputs": [],
   "source": [
    "# A frozenset is an immutable set that cannot be modified once declared. It is similar to an immutable version of sets, much like the function of tuples in the family of sets.\n",
    "# Frozen sets are handy when you wish to use a set as a dictionary key but can't use regular sets.\n",
    "\n",
    "my_fset = frozenset([1, 2, 3, 4, 5, 5, 5])\n",
    "print(my_fset)  # Output: frozenset({1, 2, 3, 4, 5})"
   ]
  },
  {
   "cell_type": "code",
   "execution_count": null,
   "metadata": {},
   "outputs": [],
   "source": [
    "import time\n",
    "\n",
    "my_set = set(range(1000000))  # A set of 10^6 elements\n",
    "my_list = list(range(1000000))  # A list with the same elements and order\n",
    "\n",
    "# Time taken for the set search\n",
    "start = time.time()\n",
    "print(999999 in my_set)  # Sets find the number swiftly\n",
    "print(\"Time taken for set: \", time.time() - start)\n",
    "# Output:\n",
    "# True\n",
    "# Time taken for set:  2.86102294921875e-05\n",
    "\n",
    "# Time taken for the list search\n",
    "start = time.time()\n",
    "print(999999 in my_list)  # Lists take longer to find the number\n",
    "print(\"Time taken for list: \", time.time() - start)\n",
    "# Output:\n",
    "# True\n",
    "# Time taken for list:  0.10818290710449219"
   ]
  },
  {
   "cell_type": "code",
   "execution_count": null,
   "metadata": {},
   "outputs": [],
   "source": [
    "# Dictionary within a dictionary\n",
    "nested_dict = {\n",
    "    'fruit':  {\n",
    "        'apple': 'red',  # key-value pair within the 'fruit' dictionary\n",
    "        'banana': 'yellow'  # another key-value pair within the 'fruit' dictionary\n",
    "    },\n",
    "    'vegetable': {\n",
    "        'carrot': 'orange',\n",
    "        'spinach': 'green'\n",
    "    }\n",
    "}\n",
    "\n",
    "# Accessing apple's color from nested dictionary\n",
    "print(nested_dict['fruit']['apple']) # Output: 'red'"
   ]
  },
  {
   "cell_type": "code",
   "execution_count": null,
   "metadata": {},
   "outputs": [],
   "source": [
    "# Lists within a dictionary\n",
    "list_dict = {\n",
    "    'numbers': [1, 2, 3],  # keys associated with lists\n",
    "    'letters': ['a', 'b', 'c']\n",
    "}\n",
    "\n",
    "# Accessing the second letter in the 'letters' list in list_dict\n",
    "print(list_dict['letters'][1]) # Output: 'b'"
   ]
  },
  {
   "cell_type": "code",
   "execution_count": null,
   "metadata": {},
   "outputs": [],
   "source": [
    "# Modifying spinach's color to red\n",
    "nested_dict['vegetable']['spinach'] = 'red'\n",
    "\n",
    "# Adding 10 to the first list in nested list\n",
    "nested_list[0].append(10)  \n",
    "\n",
    "# Adding cherry to the 'fruit' dictionary in nested_dict\n",
    "nested_dict['fruit']['cherry'] = 'red'\n",
    "\n",
    "# Deleting the 2nd value from the 3rd list in nested list\n",
    "del nested_list[2][1]  \n",
    "\n",
    "# Deleting apple from the 'fruit' dictionary in nested_dict\n",
    "del nested_dict['fruit']['apple']"
   ]
  },
  {
   "cell_type": "code",
   "execution_count": null,
   "metadata": {},
   "outputs": [],
   "source": [
    "# Trying to print a non-existent key in nested_dict\n",
    "try:\n",
    "    print(nested_dict['fruit']['mango'])\n",
    "except KeyError:\n",
    "    print(\"Key not found!\")"
   ]
  },
  {
   "cell_type": "markdown",
   "metadata": {},
   "source": [
    "Stacks: Last In, First Out (LIFO)\n",
    "A Stack adheres to the \"Last In, First Out\" or LIFO principle. It's like a pile of plates where the last plate added is the first one to be removed. Python uses the list to create a stack, with append() used for push, and pop() used for pop.\n",
    "\n",
    "Let's explore this using a pile of plates."
   ]
  },
  {
   "cell_type": "code",
   "execution_count": null,
   "metadata": {},
   "outputs": [],
   "source": [
    "class StackOfPlates:\n",
    "  def __init__(self):\n",
    "    self.stack = []\n",
    "\n",
    "  # Inserts a plate at the top of the stack\n",
    "  def add_plate(self, plate):\n",
    "    self.stack.append(plate)\n",
    "\n",
    "  # Removes the top plate from the stack\n",
    "  def remove_plate(self):\n",
    "    if len(self.stack) == 0:\n",
    "      return \"No plates left to remove!\"\n",
    "    return self.stack.pop()\n",
    "\n",
    "# Create a stack of plates\n",
    "plates = StackOfPlates()\n",
    "plates.add_plate('Plate') # Pushing a plate\n",
    "plates.add_plate('Another Plate') # Pushing another plate\n",
    "# Let's remove a plate; it should be the last one we added.\n",
    "print('Removed:', plates.remove_plate())  # Outputs: Removed: Another Plate"
   ]
  },
  {
   "cell_type": "markdown",
   "metadata": {},
   "source": [
    "Queues: First In, First Out (FIFO)\n",
    "A Queue represents the \"First In, First Out\" or FIFO principle, much like waiting in line at the grocery store. Python's deque class creates queues according to the FIFO principle, providing append() for enqueue and popleft() for dequeue.\n",
    "\n",
    "Let's examine this through a queue of people"
   ]
  },
  {
   "cell_type": "code",
   "execution_count": null,
   "metadata": {},
   "outputs": [],
   "source": [
    "from collections import deque\n",
    "\n",
    "class QueueOfPeople:\n",
    "  def __init__(self):\n",
    "    self.queue = deque([])\n",
    "\n",
    "  # Add a person to the end of the queue\n",
    "  def enqueue_person(self, person):\n",
    "    self.queue.append(person)\n",
    "\n",
    "  # Remove the first person from the queue (who has been waiting the longest)\n",
    "  def dequeue_person(self):\n",
    "    if len(self.queue) == 0:\n",
    "      return \"No people left to dequeue!\"\n",
    "    return self.queue.popleft()\n",
    "\n",
    "# Create a queue of people\n",
    "people = QueueOfPeople()\n",
    "people.enqueue_person('Person 1') # Person 1 enters the queue\n",
    "people.enqueue_person('Person 2') # Person 2 arrives after Person 1\n",
    "# Who's next in line? It must be Person 1!\n",
    "print('Removed:', people.dequeue_person())  # Outputs: Removed: Person 1"
   ]
  },
  {
   "cell_type": "markdown",
   "metadata": {},
   "source": [
    "Mastering Stack and Queue Operations With a Class\n",
    "Let's depict the two structures in a text editor that features an Undo mechanism (a Stack) and a Print Queue."
   ]
  },
  {
   "cell_type": "code",
   "execution_count": null,
   "metadata": {},
   "outputs": [],
   "source": [
    "from collections import deque\n",
    "\n",
    "class TextEditor:\n",
    "  def __init__(self):\n",
    "    self.stack = []\n",
    "    self.queue = deque([])\n",
    "\n",
    "  # Make a change (e.g., edit text, insert image, change font)\n",
    "  def make_change(self, action):\n",
    "    self.stack.append(action) # Add to the stack of actions\n",
    "\n",
    "  # Undo the most recent change\n",
    "  def undo_change(self):\n",
    "    if len(self.stack) == 0:\n",
    "      return \"No changes to undo!\"\n",
    "    return self.stack.pop() # Remove the last action from the stack\n",
    "\n",
    "  # Add a document to the queue for printing\n",
    "  def add_to_print(self, doc):\n",
    "    self.queue.append(doc)\n",
    "\n",
    "  # Print the document that has been waiting the longest\n",
    "  def print_doc(self):\n",
    "    if len(self.queue) == 0:\n",
    "      return \"No documents in print queue!\"\n",
    "    return self.queue.popleft() # Remove the first document from the queue\n",
    "\n",
    "# Use our text editor!\n",
    "editor = TextEditor()\n",
    "editor.make_change(\"Changed font size\") # Make a change\n",
    "editor.make_change(\"Inserted image\") # Make another change\n",
    "# Let's undo a change. It should be the last change we made.\n",
    "print('Undo:', editor.undo_change())  # Undo: Inserted image\n",
    "\n",
    "editor.add_to_print(\"Proposal.docx\") # Queue a document for printing\n",
    "editor.add_to_print(\"Report.xlsx\") # Queue another document\n",
    "# Let's print a document. It should be the document that has been waiting the longest.\n",
    "print('Print:', editor.print_doc())  # Print: Proposal.docx"
   ]
  }
 ],
 "metadata": {
  "kernelspec": {
   "display_name": "Python 3",
   "language": "python",
   "name": "python3"
  },
  "language_info": {
   "codemirror_mode": {
    "name": "ipython",
    "version": 3
   },
   "file_extension": ".py",
   "mimetype": "text/x-python",
   "name": "python",
   "nbconvert_exporter": "python",
   "pygments_lexer": "ipython3",
   "version": "3.12.5"
  }
 },
 "nbformat": 4,
 "nbformat_minor": 2
}
