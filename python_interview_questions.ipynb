{
 "cells": [
  {
   "cell_type": "markdown",
   "metadata": {},
   "source": [
    "## **Python Interview Questions & Answers**\n",
    "\n",
    "https://www.datacamp.com/blog/top-python-interview-questions-and-answers"
   ]
  },
  {
   "cell_type": "markdown",
   "metadata": {},
   "source": [
    "**Q. What is Python, and list some of its key features?**\n",
    "\n",
    "Python is a versatile, high-level programming language known for its easy-to-read syntax and broad applications. Here are some of Python’s key features:\n",
    "\n",
    "1. **Simple and Readable Syntax**: Python’s syntax is clear and straightforward, making it accessible for beginners and efficient for experienced developers.\n",
    "\n",
    "2. **Interpreted Language**: Python executes code line by line, which helps in debugging and testing.\n",
    "\n",
    "3. **Dynamic Typing**: Python does not require explicit data type declarations, allowing more flexibility.\n",
    "\n",
    "4. **Extensive Libraries and Frameworks**: Libraries like NumPy, Pandas, and Django expand Python’s functionality for specialized tasks in data science, web development, and more.\n",
    "\n",
    "5. **Cross-Platform Compatibility**: Python can run on different operating systems, including Windows, macOS, and Linux.\n",
    "\n",
    "---"
   ]
  },
  {
   "cell_type": "markdown",
   "metadata": {},
   "source": [
    "**Q. What are Python lists and tuples?**\n",
    "\n",
    "Lists and tuples are fundamental Python data structures with distinct characteristics and use cases.\n",
    "\n",
    "List:\n",
    "\n",
    "1. Mutable: Elements can be changed after creation.\n",
    "2. Memory Usage: Consumes more memory.\n",
    "3. Performance: Slower iteration compared to tuples but better for insertion and deletion operations.\n",
    "4. Methods: Offers various built-in methods for manipulation.\n",
    "\n",
    "Example:"
   ]
  },
  {
   "cell_type": "code",
   "execution_count": 1,
   "metadata": {},
   "outputs": [
    {
     "name": "stdout",
     "output_type": "stream",
     "text": [
      "['Data', 'Camp', 'Tutorial', 'Session']\n"
     ]
    }
   ],
   "source": [
    "a_list = [\"Data\", \"Camp\", \"Tutorial\"]\n",
    "a_list.append(\"Session\")\n",
    "print(a_list)  # Output: ['Data', 'Camp', 'Tutorial', 'Session']"
   ]
  },
  {
   "cell_type": "markdown",
   "metadata": {},
   "source": [
    "Tuple:\n",
    "\n",
    "1. Immutable: Elements cannot be changed after creation.\n",
    "2. Memory Usage: Consumes less memory.\n",
    "3. Performance: Faster iteration compared to lists but lacks the flexibility of lists.\n",
    "4. Methods: Limited built-in methods.\n",
    "\n",
    "Example:"
   ]
  },
  {
   "cell_type": "code",
   "execution_count": 2,
   "metadata": {},
   "outputs": [
    {
     "name": "stdout",
     "output_type": "stream",
     "text": [
      "('Data', 'Camp', 'Tutorial')\n"
     ]
    }
   ],
   "source": [
    "a_tuple = (\"Data\", \"Camp\", \"Tutorial\")\n",
    "print(a_tuple)  # Output: ('Data', 'Camp', 'Tutorial')"
   ]
  },
  {
   "cell_type": "markdown",
   "metadata": {},
   "source": [
    "---\n",
    "**Q. What is __init__() in Python?**\n",
    "\n",
    "The __init__() method is known as a constructor in object-oriented programming (OOP) terminology. It is used to initialize an object's state when it is created. This method is automatically called when a new instance of a class is instantiated.\n",
    "\n",
    "Purpose:\n",
    "\n",
    "Assign values to object properties.\n",
    "Perform any initialization operations.\n",
    "\n",
    "Example: \n",
    "\n",
    "We have created a book_shop class and added the constructor and book() function. The constructor will store the book title name and the book() function will print the book name.\n",
    "\n",
    "To test our code we have initialized the b object with “Sandman” and executed the book() function. "
   ]
  },
  {
   "cell_type": "code",
   "execution_count": 3,
   "metadata": {},
   "outputs": [
    {
     "name": "stdout",
     "output_type": "stream",
     "text": [
      "The title of book is  Sandman\n"
     ]
    }
   ],
   "source": [
    "class book_shop:\n",
    "\n",
    "    # constructor\n",
    "    def __init__(self, title):\n",
    "        self.title = title\n",
    "\n",
    "    # Sample method\n",
    "    def book(self):\n",
    "        print('The title of book is ', self.title)\n",
    "\n",
    "b = book_shop('Sandman')\n",
    "b.book()\n",
    "# The tile of the book is Sandman       "
   ]
  },
  {
   "cell_type": "markdown",
   "metadata": {},
   "source": [
    "---\n",
    "**Q. What is the difference between a mutable data type and an immutable data type?**\n",
    "\n",
    "**Mutable data types:**\n",
    "\n",
    "1. Definition: Mutable data types are those that can be modified after their creation.\n",
    "2. Examples: List, Dictionary, Set.\n",
    "3. Characteristics: Elements can be added, removed, or changed.\n",
    "4. Use Case: Suitable for collections of items where frequent updates are needed.\n",
    "\n",
    "Example:"
   ]
  },
  {
   "cell_type": "code",
   "execution_count": 4,
   "metadata": {},
   "outputs": [
    {
     "name": "stdout",
     "output_type": "stream",
     "text": [
      "[1, 2, 3, 4]\n",
      "{'a': 1, 'b': 2, 'c': 3}\n"
     ]
    }
   ],
   "source": [
    "# List Example\n",
    "a_list = [1, 2, 3]\n",
    "a_list.append(4)\n",
    "print(a_list)  # Output: [1, 2, 3, 4]\n",
    "\n",
    "# Dictionary Example\n",
    "a_dict = {'a': 1, 'b': 2}\n",
    "a_dict['c'] = 3\n",
    "print(a_dict)  # Output: {'a': 1, 'b': 2, 'c': 3}"
   ]
  },
  {
   "cell_type": "markdown",
   "metadata": {},
   "source": [
    "**Immutable data types:**\n",
    "\n",
    "1. Definition: Immutable data types are those that cannot be modified after their creation.\n",
    "2. Examples: Numeric (int, float), String, Tuple.\n",
    "3. Characteristics: Elements cannot be changed once set; any operation that appears to modify an immutable object will create a new object.\n",
    "\n",
    "Example:"
   ]
  },
  {
   "cell_type": "code",
   "execution_count": null,
   "metadata": {},
   "outputs": [],
   "source": [
    "# Numeric Example\n",
    "a_num = 10\n",
    "a_num = 20  # Creates a new integer object\n",
    "print(a_num)  # Output: 20\n",
    "\n",
    "# String Example\n",
    "a_str = \"hello\"\n",
    "a_str = \"world\"  # Creates a new string object\n",
    "print(a_str)  # Output: world\n",
    "\n",
    "# Tuple Example\n",
    "a_tuple = (1, 2, 3)\n",
    "# a_tuple[0] = 4  # This will raise a TypeError\n",
    "print(a_tuple)  # Output: (1, 2, 3)"
   ]
  },
  {
   "cell_type": "markdown",
   "metadata": {},
   "source": [
    "---\n",
    "**Q. Explain list, dictionary, and tuple comprehension with an example.**\n",
    "\n",
    "**List**\n",
    "\n",
    "List comprehension offers one-liner syntax to create a new list based on the values of the existing list.\n",
    "You can use a for loop to replicate the same thing, but it will require you to write multiple lines, and sometimes it can get complex. \n",
    "\n",
    "List comprehension eases the creation of the list based on existing iterable."
   ]
  },
  {
   "cell_type": "code",
   "execution_count": null,
   "metadata": {},
   "outputs": [],
   "source": [
    "my_list = [i for i in range(1, 10)]\n",
    "my_list\n",
    "# [1, 2, 3, 4, 5, 6, 7, 8, 9]"
   ]
  },
  {
   "cell_type": "markdown",
   "metadata": {},
   "source": [
    "**Dictionary**\n",
    "\n",
    "Similar to a List comprehension, you can create a dictionary based on an existing table with a single line of code. You need to enclose the operation with curly brackets {}."
   ]
  },
  {
   "cell_type": "code",
   "execution_count": 5,
   "metadata": {},
   "outputs": [
    {
     "data": {
      "text/plain": [
       "{1: 1, 2: 4, 3: 9, 4: 16, 5: 25, 6: 36, 7: 49, 8: 64, 9: 81}"
      ]
     },
     "execution_count": 5,
     "metadata": {},
     "output_type": "execute_result"
    }
   ],
   "source": [
    "# Creating a dictionary using dictionary comprehension\n",
    "my_dict = {i: i**2 for i in range(1, 10)}\n",
    "\n",
    "# Output the dictionary\n",
    "my_dict\n",
    "\n",
    "# {1: 1, 2: 4, 3: 9, 4: 16, 5: 25, 6: 36, 7: 49, 8: 64, 9: 81}"
   ]
  },
  {
   "cell_type": "markdown",
   "metadata": {},
   "source": [
    "**Tuple**\n",
    "\n",
    "It is a bit different for Tuples. You can create Tuple comprehension using round brackets (), but it will return a generator object, not a tuple comprehension.\n",
    "\n",
    "You can run the loop to extract the elements or convert them to a list."
   ]
  },
  {
   "cell_type": "code",
   "execution_count": 8,
   "metadata": {},
   "outputs": [
    {
     "name": "stdout",
     "output_type": "stream",
     "text": [
      "<generator object <genexpr> at 0x00000243C17E8E80>\n"
     ]
    },
    {
     "data": {
      "text/plain": [
       "[1, 2, 3, 4, 5, 6, 7, 8, 9]"
      ]
     },
     "execution_count": 8,
     "metadata": {},
     "output_type": "execute_result"
    }
   ],
   "source": [
    "my_tuple = (i for i in range(1, 10))\n",
    "my_tuple\n",
    "# <generator object <genexpr> at 0x7fb91b151430>\n",
    "print(my_tuple)\n",
    "\n",
    "lst = list(my_tuple)\n",
    "lst"
   ]
  },
  {
   "cell_type": "markdown",
   "metadata": {},
   "source": [
    "---\n",
    "**Q. What is the Global Interpreter Lock (GIL) in Python, and why is it important?**\n",
    "\n",
    "The Global Interpreter Lock (GIL) is a mutex used in CPython (the standard Python interpreter) to prevent multiple native threads from executing Python bytecode simultaneously. It simplifies memory management but limits multi-threading performance for CPU-bound tasks. This makes threading in Python less effective for certain tasks, though it works well for I/O-bound operations."
   ]
  },
  {
   "cell_type": "markdown",
   "metadata": {},
   "source": [
    "---\n",
    "**Q. Can you explain common searching and graph traversal algorithms in Python?**\n",
    "\n",
    "Python has a number of different powerful algorithms for searching and graph traversal, and each one deals with different data structures and solves different problems.\n",
    "\n",
    "**Binary Search:** If you need to *quickly find an item in a sorted list*, binary search is your go-to. It works by repeatedly dividing the search range in half until the target is found.\n",
    "\n",
    "**AVL Tree:** An AVL tree keeps things balanced, which is a big advantage if you’re frequently inserting or deleting items in a tree. This self-balancing binary search tree structure keeps searches fast by making sure the tree never gets too skewed. \n",
    "\n",
    "**Breadth-First Search (BFS):** BFS is all about exploring a graph level by level. It’s especially useful if you’re trying to find the *shortest path in an unweighted graph* since it checks all possible moves from each node before going deeper. \n",
    "\n",
    "**Depth-First Search (DFS):** DFS takes a different approach by exploring as far as it can down each branch before backtracking. It’s great for tasks like maze-solving or tree traversal. \n",
    "\n",
    "**A Algorithm\\*:** The A* algorithm is a bit more advanced and combines the best of both BFS and DFS by using heuristics to find the shortest path efficiently. It’s commonly used in pathfinding for maps and games. \n",
    "\n",
    "---"
   ]
  },
  {
   "cell_type": "markdown",
   "metadata": {},
   "source": [
    "**Q. What is a KeyError in Python, and how can you handle it?**\n",
    "\n",
    "A KeyError in Python occurs when you try to access a key that doesn’t exist in a dictionary. This error is raised because Python expects every key you look up to be present in the dictionary, and when it isn’t, it throws a KeyError.\n",
    "\n",
    "For example, if you have a dictionary of student scores and try to access a student who isn’t in the dictionary, you’ll get a KeyError. To handle this error, you have a few options:\n",
    "\n",
    "1. **Use the .get() method**: This method returns None (or a specified default value) instead of throwing an error if the key isn’t found.\n",
    "\n",
    "2. **Use a try-except block**: Wrapping your code in try-except allows you to catch the KeyError and handle it gracefully.\n",
    "\n",
    "3. **Check for the key with in**: You can check if a key exists in the dictionary using if key in dictionary before trying to access it.\n",
    "\n",
    "---"
   ]
  },
  {
   "cell_type": "markdown",
   "metadata": {},
   "source": [
    "**Q. How does Python handle memory management, and what role does garbage collection play?**\n",
    "\n",
    "Python manages memory allocation and deallocation automatically using a private heap, where all objects and data structures are stored. The memory management process is handled by Python’s memory manager, which optimizes memory usage, and the garbage collector, which deals with unused or unreferenced objects to free up memory.\n",
    "\n",
    "Garbage collection in Python uses reference counting as well as a cyclic garbage collector to detect and collect unused data. When an object has no more references, it becomes eligible for garbage collection. The gc module in Python allows you to interact with the garbage collector directly, providing functions to enable or disable garbage collection, as well as to perform manual collection.\n",
    "\n",
    "---"
   ]
  },
  {
   "cell_type": "markdown",
   "metadata": {},
   "source": [
    "***Q. What is the difference between shallow copy and deep copy in Python, and when would you use each?***\n",
    "\n",
    "In Python, shallow and deep copies are used to duplicate objects, but they handle nested structures differently.\n",
    "\n",
    "**Shallow Copy**: A shallow copy creates a new object but inserts references to the objects found in the original. So, if the original object contains other mutable objects (like lists within lists), the shallow copy will reference the same inner objects. This can lead to unexpected changes if you modify one of those inner objects in either the original or copied structure. You can create a shallow copy using the copy() method or the copy module’s copy() function.\n",
    "\n",
    "**Deep Copy**: A deep copy creates a new object and recursively copies all objects found within the original. This means that even nested structures get duplicated, so changes in one copy don’t affect the other. To create a deep copy, you can use the copy module’s deepcopy() function.\n",
    "\n",
    "Example Usage: A shallow copy is suitable when the object contains only immutable items or when you want changes in nested structures to reflect in both copies. A deep copy is ideal when working with complex, nested objects where you want a completely independent duplicate. Read our Python Copy List: What You Should Know tutorial to learn more. This tutorial includes a whole section on the difference between shallow copy and deep copy.\n",
    "\n",
    "---"
   ]
  },
  {
   "cell_type": "markdown",
   "metadata": {},
   "source": [
    "***Q. How can you use Python’s collections module to simplify common tasks?***\n",
    "\n",
    "The collections module in Python provides specialized data structures like defaultdict, Counter, deque, and OrderedDict to simplify various tasks. For instance, Counter is ideal for counting elements in an iterable, while defaultdict can initialize dictionary values without explicit checks.\n",
    "\n",
    "Example:"
   ]
  },
  {
   "cell_type": "code",
   "execution_count": 9,
   "metadata": {},
   "outputs": [
    {
     "name": "stdout",
     "output_type": "stream",
     "text": [
      "Counter({'a': 3, 'b': 2, 'c': 1})\n"
     ]
    }
   ],
   "source": [
    "from collections import Counter\n",
    "\n",
    "data = ['a', 'b', 'c', 'a', 'b', 'a']\n",
    "count = Counter(data)\n",
    "print(count)  # Output: Counter({'a': 3, 'b': 2, 'c': 1})"
   ]
  },
  {
   "cell_type": "markdown",
   "metadata": {},
   "source": [
    "---\n",
    "***Q. What is monkey patching in Python?***\n",
    "\n",
    "Monkey patching in Python is a <u style=\"color:red;\"> dynamic technique </u>that can change the behavior of the code at run-time. In short, you can modify a class or module at run-time.\n",
    "\n",
    "Example:\n",
    "\n",
    "Let’s learn monkey patching with an example. \n",
    "\n",
    "We have created a class monkey with a patch() function. We have also created a monk_p function outside the class. \n",
    "\n",
    "We will now replace the patch with the monk_p function by assigning monkey.patch to monk_p.\n",
    "\n",
    "In the end, we will test the modification by creating the object using the monkey class and running the patch() function. \n",
    "\n",
    "Instead of displaying patch() is being called, it has displayed monk_p() is being called. "
   ]
  },
  {
   "cell_type": "code",
   "execution_count": 10,
   "metadata": {},
   "outputs": [
    {
     "name": "stdout",
     "output_type": "stream",
     "text": [
      "monk_p() is being called\n"
     ]
    }
   ],
   "source": [
    "class monkey:\n",
    "    def patch(self):\n",
    "          print (\"patch() is being called\")\n",
    "\n",
    "def monk_p(self):\n",
    "    print (\"monk_p() is being called\")\n",
    "\n",
    "# replacing address of \"patch\" with \"monk_p\"\n",
    "monkey.patch = monk_p\n",
    "\n",
    "obj = monkey()\n",
    "\n",
    "obj.patch()\n",
    "# monk_p() is being called"
   ]
  },
  {
   "cell_type": "markdown",
   "metadata": {},
   "source": [
    "---\n",
    "\n",
    "***Q. What is the Python “with” statement designed for?***\n",
    "\n",
    "The with statement is used for exception handling to make code cleaner and simpler. It is generally used for the management of common resources like creating, editing, and saving a file. \n",
    "\n",
    "Example:\n",
    "\n",
    "Instead of writing multiple lines of open, try, finally, and close, you can create and write a text file using the with statement. It is simple."
   ]
  },
  {
   "cell_type": "code",
   "execution_count": null,
   "metadata": {},
   "outputs": [],
   "source": [
    "# using with statement\n",
    "with open('myfile.txt', 'w') as file:\n",
    "    file.write('DataCamp Black Friday Sale!!!')"
   ]
  },
  {
   "cell_type": "markdown",
   "metadata": {},
   "source": [
    "---\n",
    "***Q. Why use else in try/except construct in Python?***\n",
    "\n",
    "try: and except: are commonly known for exceptional handling in Python, so where does else: come in handy? else: will be triggered when no exception is raised. \n",
    "\n",
    "Example:\n",
    "\n",
    "Let’s learn more about else: with a couple of examples.\n",
    "\n",
    "1. On the first try, we entered 2 as the numerator and d as the denominator. Which is incorrect, and except: was triggered with “Invalid input!”. \n",
    "\n",
    "2. On the second try, we entered 2 as the numerator and 1 as the denominator and got the result 2. No exception was raised, so it triggered the else: printing the message Division is successful. \n"
   ]
  },
  {
   "cell_type": "code",
   "execution_count": null,
   "metadata": {},
   "outputs": [],
   "source": [
    "try:\n",
    "    num1 = int(input('Enter Numerator: '))\n",
    "    num2 = int(input('Enter Denominator: '))\n",
    "    division = num1/num2\n",
    "    print(f'Result is: {division}')\n",
    "except:\n",
    "    print('Invalid input!')\n",
    "else:\n",
    "    print('Division is successful.')\n",
    "\n",
    "\n",
    "## Try 1 ##\n",
    "# Enter Numerator: 2\n",
    "# Enter Denominator: d\n",
    "# Invalid input!\n",
    "\n",
    "## Try 2 ##\n",
    "# Enter Numerator: 2\n",
    "# Enter Denominator: 1\n",
    "# Result is: 2.0\n",
    "# Division is successful."
   ]
  },
  {
   "cell_type": "markdown",
   "metadata": {},
   "source": [
    "---\n",
    "***Q. What are decorators in Python?***\n",
    "\n",
    "Decorators in Python are a design pattern that allows you to add new functionality to an existing object without modifying its structure. They are commonly used to extend the behavior of functions or methods.\n",
    "\n",
    "Example:"
   ]
  },
  {
   "cell_type": "code",
   "execution_count": 11,
   "metadata": {},
   "outputs": [
    {
     "name": "stdout",
     "output_type": "stream",
     "text": [
      "Something is happening before the function is called.\n",
      "Hello!\n",
      "Something is happening after the function is called.\n"
     ]
    }
   ],
   "source": [
    "def my_decorator(func):\n",
    "    def wrapper():\n",
    "        print(\"Something is happening before the function is called.\")\n",
    "        func()\n",
    "        print(\"Something is happening after the function is called.\")\n",
    "    return wrapper\n",
    "\n",
    "@my_decorator\n",
    "def say_hello():\n",
    "    print(\"Hello!\")\n",
    "\n",
    "say_hello()\n",
    "# Output:\n",
    "# Something is happening before the function is called.\n",
    "# Hello!\n",
    "# Something is happening after the function is called."
   ]
  },
  {
   "cell_type": "markdown",
   "metadata": {},
   "source": [
    "---\n",
    "***Q. What are context managers in Python, and how are they implemented?***\n",
    "\n",
    "Context managers in Python are used to manage resources, ensuring that they are properly acquired and released. The most common use of context managers is the with statement.\n",
    "\n",
    "Example: In this example, the FileManager class is a context manager that ensures the file is properly closed after it is used within the with statement."
   ]
  },
  {
   "cell_type": "code",
   "execution_count": null,
   "metadata": {},
   "outputs": [],
   "source": [
    "class FileManager:\n",
    "    def __init__(self, filename, mode):\n",
    "        self.filename = filename\n",
    "        self.mode = mode\n",
    "    \n",
    "    def __enter__(self):\n",
    "        self.file = open(self.filename, self.mode)\n",
    "        return self.file\n",
    "    \n",
    "    def __exit__(self, exc_type, exc_value, traceback):\n",
    "        self.file.close()\n",
    "\n",
    "with FileManager('test.txt', 'w') as f:\n",
    "    f.write('Hello, world!')"
   ]
  },
  {
   "cell_type": "markdown",
   "metadata": {},
   "source": [
    "---\n",
    "\n",
    "***Q. What are metaclasses in Python, and how do they differ from regular classes?***\n",
    "\n",
    "Metaclasses are classes of classes. They define how classes behave and are created. While regular classes create objects, metaclasses create classes. By using metaclasses, you can modify class definitions, enforce rules, or add functionality during class creation.\n",
    "\n",
    "Example:"
   ]
  },
  {
   "cell_type": "code",
   "execution_count": null,
   "metadata": {},
   "outputs": [],
   "source": [
    "class Meta(type):\n",
    "    def __new__(cls, name, bases, dct):\n",
    "        print(f\"Creating class {name}\")\n",
    "        return super().__new__(cls, name, bases, dct)\n",
    "\n",
    "class MyClass(metaclass=Meta):\n",
    "    pass\n",
    "# Output: Creating class MyClass"
   ]
  },
  {
   "cell_type": "markdown",
   "metadata": {},
   "source": [
    "---\n",
    "\n",
    "***Q. What are the advantages of NumPy over regular Python lists?***\n",
    "\n",
    "Memory\n",
    "\n",
    "Numpy arrays consume less memory. \n",
    "\n",
    "For example, if you create a list and a Numpy array of a thousand elements. The list will consume 48K bytes, and the Numpy array will consume 8k bytes of memory.  \n",
    "\n",
    "Speed\n",
    "\n",
    "Numpy arrays take less time to perform the operations on arrays than lists. \n",
    "\n",
    "For example, if we are multiplying two lists and two Numpy arrays of 1 million elements together. It took 0.15 seconds for the list and 0.0059 seconds for the array to operate. \n",
    "\n",
    "Vesititly \n",
    "\n",
    "Numpy arrays are convenient to use as they offer simple array multiple, addition, and a lot more built-in functionality. Whereas Python lists are incapable of running basic operations.\n",
    "\n",
    "---"
   ]
  }
 ],
 "metadata": {
  "kernelspec": {
   "display_name": "Python 3",
   "language": "python",
   "name": "python3"
  },
  "language_info": {
   "codemirror_mode": {
    "name": "ipython",
    "version": 3
   },
   "file_extension": ".py",
   "mimetype": "text/x-python",
   "name": "python",
   "nbconvert_exporter": "python",
   "pygments_lexer": "ipython3",
   "version": "3.12.5"
  }
 },
 "nbformat": 4,
 "nbformat_minor": 2
}
